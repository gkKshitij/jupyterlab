{
 "cells": [
  {
   "cell_type": "code",
   "execution_count": 1,
   "id": "2a559e39-42c9-45ef-bd81-0858c7cddc64",
   "metadata": {},
   "outputs": [
    {
     "name": "stdout",
     "output_type": "stream",
     "text": [
      "k\n"
     ]
    }
   ],
   "source": [
    "print(\"k\")"
   ]
  },
  {
   "cell_type": "code",
   "execution_count": 1,
   "id": "3909b91d-8af7-4afa-a84a-ef0279b36f0c",
   "metadata": {},
   "outputs": [
    {
     "name": "stdout",
     "output_type": "stream",
     "text": [
      "t2\n"
     ]
    }
   ],
   "source": [
    "print(\"t2\")"
   ]
  },
  {
   "cell_type": "code",
   "execution_count": 4,
   "id": "65ab6354-c290-4b49-91a9-04b48d6a7a28",
   "metadata": {},
   "outputs": [
    {
     "name": "stdout",
     "output_type": "stream",
     "text": [
      "t2.1\n"
     ]
    }
   ],
   "source": [
    "print(\"t2.1\")"
   ]
  },
  {
   "cell_type": "code",
   "execution_count": null,
   "id": "2c5181e1-0e0a-41c8-bf81-381840dab044",
   "metadata": {},
   "outputs": [],
   "source": []
  }
 ],
 "metadata": {
  "kernelspec": {
   "display_name": "Python 3",
   "language": "python",
   "name": "python3"
  },
  "language_info": {
   "codemirror_mode": {
    "name": "ipython",
    "version": 3
   },
   "file_extension": ".py",
   "mimetype": "text/x-python",
   "name": "python",
   "nbconvert_exporter": "python",
   "pygments_lexer": "ipython3",
   "version": "3.8.10"
  }
 },
 "nbformat": 4,
 "nbformat_minor": 5
}
