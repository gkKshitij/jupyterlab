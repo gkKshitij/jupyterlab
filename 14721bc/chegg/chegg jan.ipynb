{
 "cells": [
  {
   "cell_type": "code",
   "execution_count": 111,
   "metadata": {},
   "outputs": [],
   "source": [
    "import pandas as pd\n",
    "import matplotlib.pyplot as plt\n",
    "import matplotlib.cm as cm\n",
    "import numpy as np\n",
    "from matplotlib.colors import Normalize\n",
    "from numpy.random import rand"
   ]
  },
  {
   "cell_type": "code",
   "execution_count": 112,
   "metadata": {},
   "outputs": [],
   "source": [
    "#dummy data the image is too pixelated to duplicate the data \n",
    "area = ['CMSC', 'INST', 'AMST', 'ENSP', 'PHSP', 'UPSP', 'MATH', 'INST', 'AMST', 'ENSP', 'PHSP', 'UPSP', 'MATH', '15th', '16th']\n",
    "prop_flexible = [5, 17.5, 40, 48, 52, 96, 88, 17.5, 40, 48, 52, 96, 88, 56, 86]\n",
    "# or you can also take data from user with input commands to list like above and then integrate those list to dataframe as shown below"
   ]
  },
  {
   "cell_type": "code",
   "execution_count": 113,
   "metadata": {},
   "outputs": [],
   "source": [
    "#putting data into data frame (just if you might have one skip to sorting)\n",
    "#you might already have a ready data frame so its just for reference\n",
    "#if you have, just comment the below line and change the name of the data frame in the next part of the code\n",
    "df = pd.DataFrame({'prop_flexible': prop_flexible}, index=area)\n",
    "#here i have added the numeric values to dataframe and replaced the index with the names/area\n",
    "\n",
    "#here i am making a new data frame with prop_flexible values sorted in descending order (according to question)\n",
    "df2 = df.sort_values(by='prop_flexible', ascending=False)\n"
   ]
  },
  {
   "cell_type": "code",
   "execution_count": 117,
   "metadata": {},
   "outputs": [
    {
     "data": {
      "image/png": "[encoded data removed]",
      "text/plain": [
       "<Figure size 432x288 with 1 Axes>"
      ]
     },
     "metadata": {
      "needs_background": "light"
     },
     "output_type": "display_data"
    }
   ],
   "source": [
    "n = np.arange(len(df2.prop_flexible)) #n is number of rows of data/ number of elements\n",
    "\n",
    "my_norm = Normalize(vmin=0, vmax=100) # just for ease i have added this function to visualize data better\n",
    "#play with the values if you want or pass a random value to colour randomly\n",
    "\n",
    "#just replace rainbow with anything to see available options in error\n",
    "my_cmap = cm.get_cmap('rainbow_r') #colouring method\n",
    "#alignment and visibility of bars in the graph and the colouring input variables \n",
    "plt.bar(n, df2.prop_flexible, align='center', alpha=1, label='prop_flexible', color=my_cmap(my_norm(df2.prop_flexible))) #just put df for random colours if in hurry\n",
    "#here you can pass a random varialbe after creating to give random colour to bars \n",
    "#or add a new column to dataframe with data of colours to be passed to get expected results\n",
    "\n",
    "\n",
    "plt.xticks(n, df2.index, rotation=90) #rotate by 90 degrees as in image\n",
    "plt.ylabel('') #not mentioned in question but just in case\n",
    "plt.xlabel('area') #as mentioned in question image\n",
    "\n",
    "#the title function expected in question because set_title is deprecated\n",
    "plt.title('Propotion of courses with prerequsites, by area')\n",
    "plt.legend() #for using this the expected fields should be labled\n",
    "plt.show() #for plotting the graph with above mentioned conditions"
   ]
  },
  {
   "cell_type": "code",
   "execution_count": null,
   "metadata": {},
   "outputs": [],
   "source": []
  }
 ],
 "metadata": {
  "kernelspec": {
   "display_name": "Python 3",
   "language": "python",
   "name": "python3"
  },
  "language_info": {
   "codemirror_mode": {
    "name": "ipython",
    "version": 3
   },
   "file_extension": ".py",
   "mimetype": "text/x-python",
   "name": "python",
   "nbconvert_exporter": "python",
   "pygments_lexer": "ipython3",
   "version": "3.8.6"
  }
 },
 "nbformat": 4,
 "nbformat_minor": 4
}
