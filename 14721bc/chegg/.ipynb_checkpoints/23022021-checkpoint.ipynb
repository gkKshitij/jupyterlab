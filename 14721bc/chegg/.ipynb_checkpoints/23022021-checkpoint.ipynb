{
 "cells": [
  {
   "cell_type": "code",
   "execution_count": null,
   "metadata": {},
   "outputs": [],
   "source": []
  },
  {
   "cell_type": "code",
   "execution_count": 68,
   "metadata": {},
   "outputs": [],
   "source": [
    "def collinear(nl):\n",
    "    #declaring variables\n",
    "    slopel=[] #list for storing slopes for comparing later\n",
    "    xl=[]     #x list for checking  \"None\" condition\n",
    "    yl=[]     #y list for checking  \"None\" condition\n",
    "    countx=0  #counter for checking  \"None\" condition\n",
    "    county=0  #counter for checking  \"None\" condition\n",
    "    countslope=0 #counter for keeping track of repeated number of slope of first 2 points\n",
    "    #if this is equal to length of list means all slopes are same\n",
    "    \n",
    "    for _ in range(len(nl)):\n",
    "        xl.append(nl[_][0])\n",
    "        if (xl[_]==xl[0]):\n",
    "            countx=countx+1\n",
    "        yl.append(nl[_][1])\n",
    "        if (yl[_]==yl[0]):\n",
    "            county=county+1\n",
    "        \n",
    "    #condition for checking if line is parallel to any of the axis\n",
    "    if countx==len(nl) or county==len(nl):\n",
    "        return True, None\n",
    "        \n",
    "    for k in range(len(nl)-1):\n",
    "        slope=(nl[k+1][1]-nl[k][1])/(nl[k+1][0]-nl[k][0]) #basic slope formula (y2-y1/x2-x1) \n",
    "        #directly taking values from nested list nl[#][0] is x and nl[#][1] is y\n",
    "        slopel.append(slope)  #appending values of slope to list to compare in next step\n",
    "        if slopel[k]==slopel[0]: #comparing value of current slope to slope of first 2 points\n",
    "            countslope=countslope+1 #incrementing counter by 1 if its same\n",
    "            #if this is equal to length of list means all slopes are same\n",
    "        \n",
    "    if countslope==(len(nl)-1):\n",
    "        return True, slopel[0]\n",
    "    else:\n",
    "#         print(slopel)\n",
    "        return False\n",
    "    "
   ]
  },
  {
   "cell_type": "code",
   "execution_count": 70,
   "metadata": {},
   "outputs": [
    {
     "name": "stdin",
     "output_type": "stream",
     "text": [
      "Enter length of list 4\n",
      "Enter x of point 1 1.5\n",
      "Enter y of point 1 3.5\n",
      "Enter x of point 2 4\n",
      "Enter y of point 2 6\n",
      "Enter x of point 3 6.5\n",
      "Enter y of point 3 8.5\n",
      "Enter x of point 4 9\n",
      "Enter y of point 4 11\n"
     ]
    },
    {
     "name": "stdout",
     "output_type": "stream",
     "text": [
      "[[1.5, 3.5], [4.0, 6.0], [6.5, 8.5], [9.0, 11.0]]\n"
     ]
    }
   ],
   "source": [
    "#for taking input as desired nested list\n",
    "n=int(input(\"Enter length of list\"))\n",
    "nl = [] #nested list \n",
    "for i in range(n): \n",
    "    # Append an empty sublist inside the list \n",
    "    nl.append([]) \n",
    "    for j in range(2): \n",
    "        if j==0:\n",
    "            x=float(input(f\"Enter x of point {i+1}\"))\n",
    "            nl[i].append(x) \n",
    "        else:\n",
    "            y=float(input(f\"Enter y of point {i+1}\"))\n",
    "            nl[i].append(y) \n",
    "print(nl) "
   ]
  },
  {
   "cell_type": "code",
   "execution_count": 71,
   "metadata": {},
   "outputs": [
    {
     "data": {
      "text/plain": [
       "(True, 1.0)"
      ]
     },
     "execution_count": 71,
     "metadata": {},
     "output_type": "execute_result"
    }
   ],
   "source": [
    "collinear(nl)"
   ]
  },
  {
   "cell_type": "code",
   "execution_count": null,
   "metadata": {},
   "outputs": [],
   "source": []
  },
  {
   "cell_type": "code",
   "execution_count": 56,
   "metadata": {},
   "outputs": [],
   "source": [
    "nl=[[0, 0], [2, 4], [3, 6], [4, 8]]"
   ]
  },
  {
   "cell_type": "code",
   "execution_count": 57,
   "metadata": {},
   "outputs": [
    {
     "data": {
      "text/plain": [
       "(True, 2.0)"
      ]
     },
     "execution_count": 57,
     "metadata": {},
     "output_type": "execute_result"
    }
   ],
   "source": [
    "collinear(nl)"
   ]
  },
  {
   "cell_type": "code",
   "execution_count": 66,
   "metadata": {},
   "outputs": [],
   "source": [
    "nl=[[3, 0], [3, 4], [3, 6], [3, 8]]"
   ]
  },
  {
   "cell_type": "code",
   "execution_count": 67,
   "metadata": {},
   "outputs": [
    {
     "data": {
      "text/plain": [
       "(True, None)"
      ]
     },
     "execution_count": 67,
     "metadata": {},
     "output_type": "execute_result"
    }
   ],
   "source": [
    "collinear(nl)"
   ]
  },
  {
   "cell_type": "code",
   "execution_count": 60,
   "metadata": {},
   "outputs": [],
   "source": [
    "nl=[[0, 0], [2, 5], [3, 7], [4, 2]]"
   ]
  },
  {
   "cell_type": "code",
   "execution_count": 61,
   "metadata": {},
   "outputs": [
    {
     "name": "stdout",
     "output_type": "stream",
     "text": [
      "[2.5, 2.0, -5.0]\n"
     ]
    },
    {
     "data": {
      "text/plain": [
       "False"
      ]
     },
     "execution_count": 61,
     "metadata": {},
     "output_type": "execute_result"
    }
   ],
   "source": [
    "collinear(nl)"
   ]
  },
  {
   "cell_type": "code",
   "execution_count": 62,
   "metadata": {},
   "outputs": [],
   "source": [
    "nl=[[1.5, 3.5], [4, 6], [6.5, 8.5], [9, 11]]"
   ]
  },
  {
   "cell_type": "code",
   "execution_count": 63,
   "metadata": {},
   "outputs": [
    {
     "data": {
      "text/plain": [
       "(True, 1.0)"
      ]
     },
     "execution_count": 63,
     "metadata": {},
     "output_type": "execute_result"
    }
   ],
   "source": [
    "collinear(nl)"
   ]
  },
  {
   "cell_type": "code",
   "execution_count": null,
   "metadata": {},
   "outputs": [],
   "source": []
  }
 ],
 "metadata": {
  "kernelspec": {
   "display_name": "Python 3",
   "language": "python",
   "name": "python3"
  },
  "language_info": {
   "codemirror_mode": {
    "name": "ipython",
    "version": 3
   },
   "file_extension": ".py",
   "mimetype": "text/x-python",
   "name": "python",
   "nbconvert_exporter": "python",
   "pygments_lexer": "ipython3",
   "version": "3.8.6"
  }
 },
 "nbformat": 4,
 "nbformat_minor": 4
}
