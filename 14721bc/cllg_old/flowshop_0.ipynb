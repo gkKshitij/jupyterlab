{
 "cells": [
  {
   "cell_type": "markdown",
   "metadata": {},
   "source": [
    "Flow shop[non premptive]"
   ]
  },
  {
   "cell_type": "code",
   "execution_count": 51,
   "metadata": {},
   "outputs": [
    {
     "name": "stdout",
     "output_type": "stream",
     "text": [
      "[1, 0, 0, 0]\n",
      "[2, 0, 0, 2]\n",
      "[0, 2, 3, 5, 0, 1, 3, 2]\n",
      "Total time:  16\n"
     ]
    }
   ],
   "source": [
    "process = [[0,2, 3, 5],[0,1, 3, 2]] \n",
    "n = len(process[0])\n",
    "j = 3\n",
    "#len(process[1])\n",
    "po=[]#processor occupied\n",
    "ti=[]#task in progress\n",
    "tt=[]#total time\n",
    "\n",
    "for i in range (n):\n",
    "    po.append(0)\n",
    "po[0]=1\n",
    "print(po)\n",
    "\n",
    "for i in range (j+1):\n",
    "    ti.append(0)\n",
    "ti[0]=2\n",
    "ti[j]=2\n",
    "print(ti)\n",
    "\n",
    "for list in process:\n",
    "    for number in list:\n",
    "        tt.append(number)\n",
    "print(tt)\n",
    "total=0\n",
    "for ele in range(0, len(tt)): \n",
    "    total = total + tt[ele] \n",
    "\n",
    "#printing total value \n",
    "print(\"Total time: \", total) \n",
    "#non premptive = 11\n",
    "#premptive = 12"
   ]
  },
  {
   "cell_type": "code",
   "execution_count": 48,
   "metadata": {},
   "outputs": [],
   "source": [
    "def flowshop():\n",
    "    time = 0\n",
    "    for time in range(total):\n",
    "        print(f\"time=\",time)\n",
    "        for x in range(len(po)):\n",
    "            print(f\"process={x}\")\n",
    "            for y in range(len(ti)):\n",
    "                print(f\"task={y}\")\n",
    "                print(po)\n",
    "                print(ti)\n",
    "                print(f\"po[{x}]={po[x]},ti[{y-1}]={ti[y-1]}\")\n",
    "                if po[x]==0 and ti[y-1]==2:\n",
    "                    print(f\"i={i},j={j},process={process[x][y]}\")\n",
    "                    if process[x][y]==0:\n",
    "                        print(f\"process[x][y] before={process[x][y]}\")\n",
    "                        process[x][y] = process[x][y] - 1\n",
    "                        print(f\"process[x][y] after={process[x][y]}\")\n",
    "                        print(f\"  \\n\\n\")\n",
    "                        print(process)\n",
    "                        break\n",
    "                    else:\n",
    "                        #continue\n",
    "                        print(f\"if loop most inner{process[x][y]}  \")\n",
    "                        print(f\"\\n\")\n",
    "                        break\n",
    "                        "
   ]
  },
  {
   "cell_type": "code",
   "execution_count": 49,
   "metadata": {},
   "outputs": [
    {
     "name": "stdout",
     "output_type": "stream",
     "text": [
      "time= 0\n",
      "process=0\n",
      "task=0\n",
      "[1, 0, 0, 0]\n",
      "[2, 0, 0, 0]\n",
      "po[0]=1,ti[-1]=0\n",
      "task=1\n",
      "[1, 0, 0, 0]\n",
      "[2, 0, 0, 0]\n",
      "po[0]=1,ti[0]=2\n",
      "task=2\n",
      "[1, 0, 0, 0]\n",
      "[2, 0, 0, 0]\n",
      "po[0]=1,ti[1]=0\n",
      "task=3\n",
      "[1, 0, 0, 0]\n",
      "[2, 0, 0, 0]\n",
      "po[0]=1,ti[2]=0\n",
      "process=1\n",
      "task=0\n",
      "[1, 0, 0, 0]\n",
      "[2, 0, 0, 0]\n",
      "po[1]=0,ti[-1]=0\n",
      "task=1\n",
      "[1, 0, 0, 0]\n",
      "[2, 0, 0, 0]\n",
      "po[1]=0,ti[0]=2\n",
      "i=3,j=3,process=1\n",
      "if loop most inner1  \n",
      "\n",
      "\n",
      "process=2\n",
      "task=0\n",
      "[1, 0, 0, 0]\n",
      "[2, 0, 0, 0]\n",
      "po[2]=0,ti[-1]=0\n",
      "task=1\n",
      "[1, 0, 0, 0]\n",
      "[2, 0, 0, 0]\n",
      "po[2]=0,ti[0]=2\n"
     ]
    },
    {
     "ename": "IndexError",
     "evalue": "list index out of range",
     "output_type": "error",
     "traceback": [
      "\u001b[1;31m---------------------------------------------------------------------------\u001b[0m",
      "\u001b[1;31mIndexError\u001b[0m                                Traceback (most recent call last)",
      "\u001b[1;32m<ipython-input-49-9c57f74fad0a>\u001b[0m in \u001b[0;36m<module>\u001b[1;34m\u001b[0m\n\u001b[1;32m----> 1\u001b[1;33m \u001b[0mflowshop\u001b[0m\u001b[1;33m(\u001b[0m\u001b[1;33m)\u001b[0m\u001b[1;33m\u001b[0m\u001b[1;33m\u001b[0m\u001b[0m\n\u001b[0m",
      "\u001b[1;32m<ipython-input-48-f7255e319d2c>\u001b[0m in \u001b[0;36mflowshop\u001b[1;34m()\u001b[0m\n\u001b[0;32m     11\u001b[0m                 \u001b[0mprint\u001b[0m\u001b[1;33m(\u001b[0m\u001b[1;34mf\"po[{x}]={po[x]},ti[{y-1}]={ti[y-1]}\"\u001b[0m\u001b[1;33m)\u001b[0m\u001b[1;33m\u001b[0m\u001b[1;33m\u001b[0m\u001b[0m\n\u001b[0;32m     12\u001b[0m                 \u001b[1;32mif\u001b[0m \u001b[0mpo\u001b[0m\u001b[1;33m[\u001b[0m\u001b[0mx\u001b[0m\u001b[1;33m]\u001b[0m\u001b[1;33m==\u001b[0m\u001b[1;36m0\u001b[0m \u001b[1;32mand\u001b[0m \u001b[0mti\u001b[0m\u001b[1;33m[\u001b[0m\u001b[0my\u001b[0m\u001b[1;33m-\u001b[0m\u001b[1;36m1\u001b[0m\u001b[1;33m]\u001b[0m\u001b[1;33m==\u001b[0m\u001b[1;36m2\u001b[0m\u001b[1;33m:\u001b[0m\u001b[1;33m\u001b[0m\u001b[1;33m\u001b[0m\u001b[0m\n\u001b[1;32m---> 13\u001b[1;33m                     \u001b[0mprint\u001b[0m\u001b[1;33m(\u001b[0m\u001b[1;34mf\"i={i},j={j},process={process[x][y]}\"\u001b[0m\u001b[1;33m)\u001b[0m\u001b[1;33m\u001b[0m\u001b[1;33m\u001b[0m\u001b[0m\n\u001b[0m\u001b[0;32m     14\u001b[0m                     \u001b[1;32mif\u001b[0m \u001b[0mprocess\u001b[0m\u001b[1;33m[\u001b[0m\u001b[0mx\u001b[0m\u001b[1;33m]\u001b[0m\u001b[1;33m[\u001b[0m\u001b[0my\u001b[0m\u001b[1;33m]\u001b[0m\u001b[1;33m==\u001b[0m\u001b[1;36m0\u001b[0m\u001b[1;33m:\u001b[0m\u001b[1;33m\u001b[0m\u001b[1;33m\u001b[0m\u001b[0m\n\u001b[0;32m     15\u001b[0m                         \u001b[0mprint\u001b[0m\u001b[1;33m(\u001b[0m\u001b[1;34mf\"process[x][y] before={process[x][y]}\"\u001b[0m\u001b[1;33m)\u001b[0m\u001b[1;33m\u001b[0m\u001b[1;33m\u001b[0m\u001b[0m\n",
      "\u001b[1;31mIndexError\u001b[0m: list index out of range"
     ]
    }
   ],
   "source": [
    "flowshop()"
   ]
  },
  {
   "cell_type": "code",
   "execution_count": 27,
   "metadata": {},
   "outputs": [
    {
     "data": {
      "text/plain": [
       "[[0, 2, 3, 5], [0, 1, 3, 2]]"
      ]
     },
     "execution_count": 27,
     "metadata": {},
     "output_type": "execute_result"
    }
   ],
   "source": [
    "process"
   ]
  },
  {
   "cell_type": "code",
   "execution_count": 15,
   "metadata": {},
   "outputs": [
    {
     "data": {
      "text/plain": [
       "[0, 2]"
      ]
     },
     "execution_count": 15,
     "metadata": {},
     "output_type": "execute_result"
    }
   ],
   "source": [
    "po"
   ]
  },
  {
   "cell_type": "code",
   "execution_count": 78,
   "metadata": {},
   "outputs": [
    {
     "ename": "NameError",
     "evalue": "name 'x' is not defined",
     "output_type": "error",
     "traceback": [
      "\u001b[1;31m---------------------------------------------------------------------------\u001b[0m",
      "\u001b[1;31mNameError\u001b[0m                                 Traceback (most recent call last)",
      "\u001b[1;32m<ipython-input-78-fc17d851ef81>\u001b[0m in \u001b[0;36m<module>\u001b[1;34m\u001b[0m\n\u001b[1;32m----> 1\u001b[1;33m \u001b[0mprint\u001b[0m\u001b[1;33m(\u001b[0m\u001b[0mx\u001b[0m\u001b[1;33m)\u001b[0m\u001b[1;33m\u001b[0m\u001b[1;33m\u001b[0m\u001b[0m\n\u001b[0m",
      "\u001b[1;31mNameError\u001b[0m: name 'x' is not defined"
     ]
    }
   ],
   "source": [
    "print(x)"
   ]
  },
  {
   "cell_type": "code",
   "execution_count": null,
   "metadata": {},
   "outputs": [],
   "source": []
  }
 ],
 "metadata": {
  "kernelspec": {
   "display_name": "Python 3",
   "language": "python",
   "name": "python3"
  },
  "language_info": {
   "codemirror_mode": {
    "name": "ipython",
    "version": 3
   },
   "file_extension": ".py",
   "mimetype": "text/x-python",
   "name": "python",
   "nbconvert_exporter": "python",
   "pygments_lexer": "ipython3",
   "version": "3.7.7"
  }
 },
 "nbformat": 4,
 "nbformat_minor": 4
}
