{
 "cells": [
  {
   "cell_type": "code",
   "execution_count": 71,
   "metadata": {},
   "outputs": [],
   "source": [
    "from time import process_time \n",
    "import pandas as pd\n",
    "import numpy as np\n",
    "import random\n",
    "import matplotlib\n",
    "import array\n",
    "from matplotlib import pyplot as plt  "
   ]
  },
  {
   "cell_type": "markdown",
   "metadata": {},
   "source": [
    "Python program for implementation of Quick Sort \n",
    " "
   ]
  },
  {
   "cell_type": "code",
   "execution_count": 72,
   "metadata": {},
   "outputs": [],
   "source": [
    "# This function takes last element as pivot, places the pivot element at its correct position in sorted array, \n",
    "#and places all smaller (smaller than pivot) to left of pivot and all greater elements to right of pivot \n",
    "def partition(arr,low,high): \n",
    "    i = ( low-1 )         # index of smaller element \n",
    "    pivot = arr[high]     # pivot \n",
    "  \n",
    "    for j in range(low , high): \n",
    "  \n",
    "        # If current element is smaller than the pivot \n",
    "        if   arr[j] < pivot: \n",
    "          \n",
    "            # increment index of smaller element \n",
    "            i = i+1 \n",
    "            arr[i],arr[j] = arr[j],arr[i] \n",
    "  \n",
    "    arr[i+1],arr[high] = arr[high],arr[i+1] \n",
    "    return ( i+1 )"
   ]
  },
  {
   "cell_type": "code",
   "execution_count": 73,
   "metadata": {},
   "outputs": [],
   "source": [
    "def quickSort(arr,low,high): \n",
    "    if low < high: \n",
    "  \n",
    "        # pi is partitioning index, arr[p] is now \n",
    "        # at right place \n",
    "        pi = partition(arr,low,high) \n",
    "  \n",
    "        # Separately sort elements before \n",
    "        # partition and after partition \n",
    "        quickSort(arr, low, pi-1) \n",
    "        quickSort(arr, pi+1, high) "
   ]
  },
  {
   "cell_type": "code",
   "execution_count": 74,
   "metadata": {},
   "outputs": [],
   "source": [
    "time_taken = []\n",
    "time_taken2 = []\n",
    "number_of_records = []"
   ]
  },
  {
   "cell_type": "code",
   "execution_count": 75,
   "metadata": {},
   "outputs": [],
   "source": [
    "x = 100\n",
    "y = 1000\n",
    "z = 100\n",
    "for i in range(x,y,z):\n",
    "    arr = random.sample(range(1, 10000), i)\n",
    "    n = len(arr)\n",
    "    \n",
    "    t1_start = process_time() \n",
    "    quickSort(arr,0,n-1)\n",
    "    t1_stop = process_time() \n",
    "    \n",
    "    t2_start = process_time() \n",
    "    quickSort(arr,0,n-1)\n",
    "    t2_stop = process_time() \n",
    "#     print (\"Sorted array is:\") \n",
    "#     for i in range(len(arr)): \n",
    "#         print (\"%d\" %arr[i]), \n",
    "    temp = t1_stop-t1_start\n",
    "    temp2 = t2_stop-t2_start\n",
    "    \n",
    "    time_taken.append(temp)\n",
    "    time_taken2.append(temp2)\n",
    "    number_of_records.append(i)\n",
    "    "
   ]
  },
  {
   "cell_type": "code",
   "execution_count": 76,
   "metadata": {},
   "outputs": [],
   "source": [
    "#time_taken"
   ]
  },
  {
   "cell_type": "code",
   "execution_count": 77,
   "metadata": {},
   "outputs": [],
   "source": [
    "#number_of_records"
   ]
  },
  {
   "cell_type": "code",
   "execution_count": 78,
   "metadata": {},
   "outputs": [
    {
     "data": {
      "text/plain": [
       "[<matplotlib.lines.Line2D at 0x21eb7a1c648>]"
      ]
     },
     "execution_count": 78,
     "metadata": {},
     "output_type": "execute_result"
    },
    {
     "data": {
      "image/png": "[encoded data removed]",
      "text/plain": [
       "<Figure size 432x288 with 1 Axes>"
      ]
     },
     "metadata": {
      "needs_background": "light"
     },
     "output_type": "display_data"
    }
   ],
   "source": [
    "matplotlib.pyplot.title(\"Quick sort\")\n",
    "matplotlib.pyplot.xlabel(\"Number of records\")\n",
    "matplotlib.pyplot.ylabel(\"Time taken\")\n",
    "plt.plot(number_of_records, time_taken) \n",
    "plt.plot(number_of_records, time_taken2) "
   ]
  },
  {
   "cell_type": "markdown",
   "metadata": {},
   "source": [
    "Conclusion : The output will change also based on the type of pivot element used as in this case it uses last element \n",
    "    as pivot so the sorting of sorted array takes time wich may take less if median is taken as pivot.\n",
    "    As we know quick sort works worse on sorted element which is proved in the above graph.\n",
    "    \n",
    "    **blue is on random, orange is on sorted array"
   ]
  }
 ],
 "metadata": {
  "kernelspec": {
   "display_name": "Python 3",
   "language": "python",
   "name": "python3"
  },
  "language_info": {
   "codemirror_mode": {
    "name": "ipython",
    "version": 3
   },
   "file_extension": ".py",
   "mimetype": "text/x-python",
   "name": "python",
   "nbconvert_exporter": "python",
   "pygments_lexer": "ipython3",
   "version": "3.7.7"
  }
 },
 "nbformat": 4,
 "nbformat_minor": 4
}
