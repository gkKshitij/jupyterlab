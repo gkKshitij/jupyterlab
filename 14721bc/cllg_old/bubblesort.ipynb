{
 "cells": [
  {
   "cell_type": "code",
   "execution_count": 31,
   "metadata": {},
   "outputs": [],
   "source": [
    "from time import process_time \n",
    "import pandas as pd\n",
    "import numpy as np\n",
    "import random\n",
    "import matplotlib\n",
    "import array\n",
    "from matplotlib import pyplot as plt  "
   ]
  },
  {
   "cell_type": "code",
   "execution_count": 5,
   "metadata": {},
   "outputs": [],
   "source": [
    "# Python program for implementation of Bubble Sort \n",
    "def bubbleSort(arr): \n",
    "    n = len(arr) \n",
    "\n",
    "    for i in range(n-1): \n",
    "\n",
    "        for j in range(0, n-i-1): \n",
    "\n",
    "            if arr[j] > arr[j+1] :\n",
    "                arr[j], arr[j+1] = arr[j+1], arr[j] "
   ]
  },
  {
   "cell_type": "code",
   "execution_count": 25,
   "metadata": {},
   "outputs": [],
   "source": [
    "time_taken = []\n",
    "number_of_records = []"
   ]
  },
  {
   "cell_type": "code",
   "execution_count": 26,
   "metadata": {},
   "outputs": [],
   "source": [
    "x = 1000\n",
    "y = 10000\n",
    "z = 1000\n",
    "for i in range(x,y,z):\n",
    "    arr = random.sample(range(1, 10000), i)\n",
    "    t1_start = process_time() \n",
    "    bubbleSort(arr)\n",
    "    t1_stop = process_time() \n",
    "#     print (\"Sorted array is:\") \n",
    "#     for i in range(len(arr)): \n",
    "#         print (\"%d\" %arr[i]), \n",
    "    temp = t1_stop-t1_start\n",
    "    time_taken.append(temp)\n",
    "    number_of_records.append(i)\n",
    "    "
   ]
  },
  {
   "cell_type": "code",
   "execution_count": 37,
   "metadata": {},
   "outputs": [],
   "source": [
    "#time_taken"
   ]
  },
  {
   "cell_type": "code",
   "execution_count": 38,
   "metadata": {},
   "outputs": [],
   "source": [
    "#number_of_records"
   ]
  },
  {
   "cell_type": "code",
   "execution_count": 36,
   "metadata": {},
   "outputs": [
    {
     "data": {
      "text/plain": [
       "[<matplotlib.lines.Line2D at 0x1ad12b2b4c8>]"
      ]
     },
     "execution_count": 36,
     "metadata": {},
     "output_type": "execute_result"
    },
    {
     "data": {
      "image/png": "[encoded data removed]",
      "text/plain": [
       "<Figure size 432x288 with 1 Axes>"
      ]
     },
     "metadata": {
      "needs_background": "light"
     },
     "output_type": "display_data"
    }
   ],
   "source": [
    "matplotlib.pyplot.title(\"Bubble sort\")\n",
    "matplotlib.pyplot.xlabel(\"Number of records\")\n",
    "matplotlib.pyplot.ylabel(\"Time taken\")\n",
    "plt.plot(number_of_records, time_taken) "
   ]
  },
  {
   "cell_type": "code",
   "execution_count": null,
   "metadata": {},
   "outputs": [],
   "source": []
  }
 ],
 "metadata": {
  "kernelspec": {
   "display_name": "Python 3",
   "language": "python",
   "name": "python3"
  },
  "language_info": {
   "codemirror_mode": {
    "name": "ipython",
    "version": 3
   },
   "file_extension": ".py",
   "mimetype": "text/x-python",
   "name": "python",
   "nbconvert_exporter": "python",
   "pygments_lexer": "ipython3",
   "version": "3.7.7"
  }
 },
 "nbformat": 4,
 "nbformat_minor": 4
}
