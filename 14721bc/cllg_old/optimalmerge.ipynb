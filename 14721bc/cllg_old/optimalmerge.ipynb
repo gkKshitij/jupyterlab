{
 "cells": [
  {
   "cell_type": "markdown",
   "metadata": {},
   "source": [
    "optimal merge"
   ]
  },
  {
   "cell_type": "code",
   "execution_count": 1,
   "metadata": {},
   "outputs": [],
   "source": [
    "def bubbleSort(arr): \n",
    "    n = len(arr) \n",
    "    for i in range(n-1): \n",
    "        for j in range(0, n-i-1): \n",
    "            if arr[j] > arr[j+1] :\n",
    "                arr[j], arr[j+1] = arr[j+1], arr[j] "
   ]
  },
  {
   "cell_type": "code",
   "execution_count": 2,
   "metadata": {},
   "outputs": [],
   "source": [
    "def optimalmerge():\n",
    "    min_computations = 0\n",
    "    for i in range (len(arr)):\n",
    "        if len(arr)>2 :\n",
    "            bubbleSort(arr)\n",
    "            new_element = arr[0]+arr[1]\n",
    "            arr.pop(0)\n",
    "            arr.pop(0)\n",
    "            arr.append(new_element)\n",
    "            print(arr)\n",
    "            min_computations = min_computations + new_element\n",
    "        else:\n",
    "            weight = arr[0]+arr[1]\n",
    "            min_computations = min_computations + weight\n",
    "            print(min_computations)\n",
    "            break"
   ]
  },
  {
   "cell_type": "code",
   "execution_count": 3,
   "metadata": {},
   "outputs": [
    {
     "name": "stdin",
     "output_type": "stream",
     "text": [
      "Enter number of elements :  7\n",
      "Enter the numbers :  7 8 10 11 20 25 31\n"
     ]
    },
    {
     "name": "stdout",
     "output_type": "stream",
     "text": [
      "List is -  [7, 8, 10, 11, 20, 25, 31]\n"
     ]
    }
   ],
   "source": [
    "n = int(input(\"Enter number of elements : \"))  \n",
    "arr = list(map(int,input(\"Enter the numbers : \").strip().split()))[:n] \n",
    "print(\"List is - \", arr) "
   ]
  },
  {
   "cell_type": "code",
   "execution_count": 4,
   "metadata": {},
   "outputs": [
    {
     "data": {
      "text/plain": [
       "7"
      ]
     },
     "execution_count": 4,
     "metadata": {},
     "output_type": "execute_result"
    }
   ],
   "source": [
    "len(arr)"
   ]
  },
  {
   "cell_type": "code",
   "execution_count": 5,
   "metadata": {},
   "outputs": [
    {
     "name": "stdout",
     "output_type": "stream",
     "text": [
      "[10, 11, 20, 25, 31, 15]\n",
      "[15, 20, 25, 31, 21]\n",
      "[21, 25, 31, 35]\n",
      "[31, 35, 46]\n",
      "[46, 66]\n",
      "295\n"
     ]
    }
   ],
   "source": [
    "optimalmerge()"
   ]
  },
  {
   "cell_type": "code",
   "execution_count": null,
   "metadata": {},
   "outputs": [],
   "source": []
  }
 ],
 "metadata": {
  "kernelspec": {
   "display_name": "Python 3",
   "language": "python",
   "name": "python3"
  },
  "language_info": {
   "codemirror_mode": {
    "name": "ipython",
    "version": 3
   },
   "file_extension": ".py",
   "mimetype": "text/x-python",
   "name": "python",
   "nbconvert_exporter": "python",
   "pygments_lexer": "ipython3",
   "version": "3.7.7"
  }
 },
 "nbformat": 4,
 "nbformat_minor": 4
}
