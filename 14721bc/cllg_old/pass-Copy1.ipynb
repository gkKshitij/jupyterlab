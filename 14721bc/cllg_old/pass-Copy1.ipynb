{
 "cells": [
  {
   "cell_type": "code",
   "execution_count": 1,
   "metadata": {},
   "outputs": [
    {
     "ename": "SyntaxError",
     "evalue": "'continue' not properly in loop (<ipython-input-1-8df26a96b214>, line 10)",
     "output_type": "error",
     "traceback": [
      "\u001b[1;36m  File \u001b[1;32m\"<ipython-input-1-8df26a96b214>\"\u001b[1;36m, line \u001b[1;32m10\u001b[0m\n\u001b[1;33m    continue\u001b[0m\n\u001b[1;37m           ^\u001b[0m\n\u001b[1;31mSyntaxError\u001b[0m\u001b[1;31m:\u001b[0m 'continue' not properly in loop\n"
     ]
    }
   ],
   "source": [
    "import re\n",
    "\n",
    "user_input = input(\"Enter a password : \")\n",
    "\n",
    "if (len(user_input)<6 or len(user_input)>12):\n",
    "    print(\"Not valid ! Total characters should be between 6 and 12\")\n",
    "    continue\n",
    "if not re.search(\"[A-Z]\",user_input):\n",
    "    print(\"Not valid ! It should contain one letter between [A-Z]\")\n",
    "    continue\n",
    "if not re.search(\"[a-z]\",user_input):\n",
    "    print(\"Not valid ! It should contain one letter between [a-z]\")\n",
    "    continue\n",
    "if not re.search(\"[1-9]\",user_input):\n",
    "    print(\"Not valid ! It should contain one letter between [1-9]\")\n",
    "    continue\n",
    "if not re.search(\"[~!@#$%^&*]\",user_input):\n",
    "    print(\"Not valid ! It should contain at least one letter in [~!@#$%^&*]\")\n",
    "    continue\n",
    "if re.search(\"[\\s]\",user_input):\n",
    "    print(\"Not valid ! It should not contain any space\")\n",
    "    continue\n",
    "\n",
    "if(is_valid):\n",
    "  print(\"Password is valid\")"
   ]
  },
  {
   "cell_type": "code",
   "execution_count": null,
   "metadata": {},
   "outputs": [],
   "source": []
  }
 ],
 "metadata": {
  "kernelspec": {
   "display_name": "Python 3",
   "language": "python",
   "name": "python3"
  },
  "language_info": {
   "codemirror_mode": {
    "name": "ipython",
    "version": 3
   },
   "file_extension": ".py",
   "mimetype": "text/x-python",
   "name": "python",
   "nbconvert_exporter": "python",
   "pygments_lexer": "ipython3",
   "version": "3.7.7"
  }
 },
 "nbformat": 4,
 "nbformat_minor": 4
}
