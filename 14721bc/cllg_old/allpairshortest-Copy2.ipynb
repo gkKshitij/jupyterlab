{
 "cells": [
  {
   "cell_type": "code",
   "execution_count": 7,
   "metadata": {},
   "outputs": [
    {
     "name": "stdin",
     "output_type": "stream",
     "text": [
      "Enter the number of rows: 3\n",
      "Enter the number of columns: 3\n"
     ]
    },
    {
     "name": "stdout",
     "output_type": "stream",
     "text": [
      "Enter the entries rowwise:\n"
     ]
    },
    {
     "name": "stdin",
     "output_type": "stream",
     "text": [
      "Enter the cost of going from 1 to 1 0\n",
      "Enter the cost of going from 1 to 2 3\n",
      "Enter the cost of going from 1 to 3 2\n",
      "Enter the cost of going from 2 to 1 36\n",
      "Enter the cost of going from 2 to 2 0\n",
      "Enter the cost of going from 2 to 3 66\n",
      "Enter the cost of going from 3 to 1 45\n",
      "Enter the cost of going from 3 to 2 98\n",
      "Enter the cost of going from 3 to 3 0\n"
     ]
    },
    {
     "name": "stdout",
     "output_type": "stream",
     "text": [
      "0 3 2 \n",
      "36 0 66 \n",
      "45 98 0 \n"
     ]
    }
   ],
   "source": [
    "R = int(input(\"Enter the number of rows:\")) \n",
    "C = int(input(\"Enter the number of columns:\")) \n",
    "  \n",
    "# Initialize matrix \n",
    "matrix = [] \n",
    "print(\"Enter the entries rowwise:\") \n",
    "  \n",
    "# For user input \n",
    "for i in range(R):          # A for loop for row entries \n",
    "    a =[] \n",
    "    for j in range(C):      # A for loop for column entries \n",
    "        a.append(int(input(f\"Enter the cost of going from {i+1} to {j+1}\"))) \n",
    "    matrix.append(a) \n",
    "    \n",
    "# For printing the matrix \n",
    "for i in range(R): \n",
    "    for j in range(C): \n",
    "        print(matrix[i][j], end = \" \") \n",
    "    print() "
   ]
  },
  {
   "cell_type": "code",
   "execution_count": 8,
   "metadata": {},
   "outputs": [],
   "source": [
    "N = 4\n",
    "M = float('inf')"
   ]
  },
  {
   "cell_type": "code",
   "execution_count": 9,
   "metadata": {},
   "outputs": [],
   "source": [
    "def floydWarshall(matrix, N):\n",
    " \n",
    "    # cost and parent matrix stores shortest-path\n",
    "    # (shortest-cost/shortest route) information\n",
    " \n",
    "    # initially cost would be same as weight of the edge\n",
    "    cost = adjMatrix.copy()\n",
    "    path = [[None for x in range(N)] for y in range(N)]\n",
    " \n",
    "    # initialize cost and parent\n",
    "    for v in range(N):\n",
    "        for u in range(N):\n",
    "            if v == u:\n",
    "                path[v][u] = 0\n",
    "            elif cost[v][u] != float('inf'):\n",
    "                path[v][u] = v\n",
    "            else:\n",
    "                path[v][u] = -1\n",
    " \n",
    "    # run Floyd-Warshall\n",
    "    for k in range(N):\n",
    "        for v in range(N):\n",
    "            for u in range(N):\n",
    "                # If vertex k is on the shortest path from v to u,\n",
    "                # then update the value of cost[v][u], path[v][u]\n",
    "                if cost[v][k] != float('inf') and cost[k][u] != float('inf') \\\n",
    "                        and (cost[v][k] + cost[k][u] < cost[v][u]):\n",
    "                    cost[v][u] = cost[v][k] + cost[k][u]\n",
    "                    path[v][u] = path[k][u]\n",
    " \n",
    "            # if diagonal elements become negative, the\n",
    "            # graph contains a negative weight cycle\n",
    "            if cost[v][v] < 0:\n",
    "                print(\"Negative Weight Cycle Found\")\n",
    "                return\n",
    " \n",
    "    # Print the shortest path between all pairs of vertices\n",
    "    printSolution(path, N)"
   ]
  },
  {
   "cell_type": "code",
   "execution_count": 10,
   "metadata": {},
   "outputs": [
    {
     "ename": "NameError",
     "evalue": "name 'adjMatrix' is not defined",
     "output_type": "error",
     "traceback": [
      "\u001b[1;31m---------------------------------------------------------------------------\u001b[0m",
      "\u001b[1;31mNameError\u001b[0m                                 Traceback (most recent call last)",
      "\u001b[1;32m<ipython-input-10-2b239b014d3e>\u001b[0m in \u001b[0;36m<module>\u001b[1;34m\u001b[0m\n\u001b[1;32m----> 1\u001b[1;33m \u001b[0mfloydWarshall\u001b[0m\u001b[1;33m(\u001b[0m\u001b[0mmatrix\u001b[0m\u001b[1;33m,\u001b[0m\u001b[0mN\u001b[0m\u001b[1;33m)\u001b[0m\u001b[1;33m\u001b[0m\u001b[1;33m\u001b[0m\u001b[0m\n\u001b[0m",
      "\u001b[1;32m<ipython-input-9-e0871f474afd>\u001b[0m in \u001b[0;36mfloydWarshall\u001b[1;34m(matrix, N)\u001b[0m\n\u001b[0;32m      5\u001b[0m \u001b[1;33m\u001b[0m\u001b[0m\n\u001b[0;32m      6\u001b[0m     \u001b[1;31m# initially cost would be same as weight of the edge\u001b[0m\u001b[1;33m\u001b[0m\u001b[1;33m\u001b[0m\u001b[1;33m\u001b[0m\u001b[0m\n\u001b[1;32m----> 7\u001b[1;33m     \u001b[0mcost\u001b[0m \u001b[1;33m=\u001b[0m \u001b[0madjMatrix\u001b[0m\u001b[1;33m.\u001b[0m\u001b[0mcopy\u001b[0m\u001b[1;33m(\u001b[0m\u001b[1;33m)\u001b[0m\u001b[1;33m\u001b[0m\u001b[1;33m\u001b[0m\u001b[0m\n\u001b[0m\u001b[0;32m      8\u001b[0m     \u001b[0mpath\u001b[0m \u001b[1;33m=\u001b[0m \u001b[1;33m[\u001b[0m\u001b[1;33m[\u001b[0m\u001b[1;32mNone\u001b[0m \u001b[1;32mfor\u001b[0m \u001b[0mx\u001b[0m \u001b[1;32min\u001b[0m \u001b[0mrange\u001b[0m\u001b[1;33m(\u001b[0m\u001b[0mN\u001b[0m\u001b[1;33m)\u001b[0m\u001b[1;33m]\u001b[0m \u001b[1;32mfor\u001b[0m \u001b[0my\u001b[0m \u001b[1;32min\u001b[0m \u001b[0mrange\u001b[0m\u001b[1;33m(\u001b[0m\u001b[0mN\u001b[0m\u001b[1;33m)\u001b[0m\u001b[1;33m]\u001b[0m\u001b[1;33m\u001b[0m\u001b[1;33m\u001b[0m\u001b[0m\n\u001b[0;32m      9\u001b[0m \u001b[1;33m\u001b[0m\u001b[0m\n",
      "\u001b[1;31mNameError\u001b[0m: name 'adjMatrix' is not defined"
     ]
    }
   ],
   "source": [
    "floydWarshall(matrix,N)"
   ]
  },
  {
   "cell_type": "code",
   "execution_count": null,
   "metadata": {},
   "outputs": [],
   "source": []
  }
 ],
 "metadata": {
  "kernelspec": {
   "display_name": "Python 3",
   "language": "python",
   "name": "python3"
  },
  "language_info": {
   "codemirror_mode": {
    "name": "ipython",
    "version": 3
   },
   "file_extension": ".py",
   "mimetype": "text/x-python",
   "name": "python",
   "nbconvert_exporter": "python",
   "pygments_lexer": "ipython3",
   "version": "3.7.7"
  }
 },
 "nbformat": 4,
 "nbformat_minor": 4
}
