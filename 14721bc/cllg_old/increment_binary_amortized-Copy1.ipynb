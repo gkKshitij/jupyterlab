{
 "cells": [
  {
   "cell_type": "markdown",
   "metadata": {},
   "source": [
    "AMORTIZE ANALYSIS ( ACCOUNTING METHOD INCREMENTING BINARY COUNTER )"
   ]
  },
  {
   "cell_type": "code",
   "execution_count": 1,
   "metadata": {},
   "outputs": [],
   "source": [
    "#import numpy as np"
   ]
  },
  {
   "cell_type": "code",
   "execution_count": 1,
   "metadata": {},
   "outputs": [
    {
     "name": "stdin",
     "output_type": "stream",
     "text": [
      "enter the counte value 7\n"
     ]
    }
   ],
   "source": [
    "nstr=input(\"enter the counte value\") \n",
    "loop=int(nstr)"
   ]
  },
  {
   "cell_type": "code",
   "execution_count": 2,
   "metadata": {},
   "outputs": [],
   "source": [
    "def decimalToBinary(n):  \n",
    "    return bin(n).replace(\"0b\", \"\")  "
   ]
  },
  {
   "cell_type": "code",
   "execution_count": 3,
   "metadata": {},
   "outputs": [],
   "source": [
    "def countX(lst, x): \n",
    "    count = 0\n",
    "    for ele in lst: \n",
    "        if (ele == x): \n",
    "            count = count + 1\n",
    "    return count "
   ]
  },
  {
   "cell_type": "code",
   "execution_count": 4,
   "metadata": {},
   "outputs": [],
   "source": [
    "ga=[0]\n",
    "bn=[0]\n",
    "ac=[0]\n",
    "pd=[0]\n",
    "fidi=[0]\n",
    "amtc=[0]\n",
    "tamtc=0"
   ]
  },
  {
   "cell_type": "code",
   "execution_count": 5,
   "metadata": {},
   "outputs": [
    {
     "name": "stdout",
     "output_type": "stream",
     "text": [
      "p-----\n",
      "num= 1\n",
      "ga= [0]\n",
      "All Elements are not 1\n",
      "j= 1\n",
      "len(ga)= 1\n",
      "0 to 1\n",
      "ga= [1]\n",
      "len(ga) 1\n",
      "ga= [1]\n",
      "-----p\n",
      "ga= [1]\n",
      "ac= [0, 1]\n",
      "amtc= [0, 2]\n",
      "----------------------------\n",
      "p-----\n",
      "num= 2\n",
      "ga= [1]\n",
      "All the elements are 1\n",
      "ga= [0]\n",
      "ga= [1, 0]\n",
      "-----p\n",
      "ga= [1, 0]\n",
      "ac= [0, 1, 2]\n",
      "amtc= [0, 2, 2]\n",
      "----------------------------\n",
      "p-----\n",
      "num= 3\n",
      "ga= [1, 0]\n",
      "All Elements are not 1\n",
      "j= 2\n",
      "len(ga)= 2\n",
      "0 to 1\n",
      "ga= [1, 1]\n",
      "len(ga) 2\n",
      "ga= [1, 1]\n",
      "-----p\n",
      "ga= [1, 1]\n",
      "ac= [0, 1, 2, 1]\n",
      "amtc= [0, 2, 2, 2]\n",
      "----------------------------\n",
      "p-----\n",
      "num= 4\n",
      "ga= [1, 1]\n",
      "All the elements are 1\n",
      "ga= [0, 0]\n",
      "ga= [1, 0, 0]\n",
      "-----p\n",
      "ga= [1, 0, 0]\n",
      "ac= [0, 1, 2, 1, 3]\n",
      "amtc= [0, 2, 2, 2, 2]\n",
      "----------------------------\n",
      "p-----\n",
      "num= 5\n",
      "ga= [1, 0, 0]\n",
      "All Elements are not 1\n",
      "j= 3\n",
      "len(ga)= 3\n",
      "0 to 1\n",
      "ga= [1, 0, 1]\n",
      "len(ga) 3\n",
      "ga= [1, 0, 0]\n",
      "-----p\n",
      "ga= [1, 0, 0]\n",
      "ac= [0, 1, 2, 1, 3, 1]\n",
      "amtc= [0, 2, 2, 2, 2, 2]\n",
      "----------------------------\n",
      "p-----\n",
      "num= 6\n",
      "ga= [1, 0, 0]\n",
      "All Elements are not 1\n",
      "j= 3\n",
      "len(ga)= 3\n",
      "0 to 1\n",
      "ga= [1, 0, 1]\n",
      "len(ga) 3\n",
      "ga= [1, 0, 0]\n",
      "-----p\n",
      "ga= [1, 0, 0]\n",
      "ac= [0, 1, 2, 1, 3, 1, 1]\n",
      "amtc= [0, 2, 2, 2, 2, 2, 2]\n",
      "----------------------------\n",
      "p-----\n",
      "num= 7\n",
      "ga= [1, 0, 0]\n",
      "All Elements are not 1\n",
      "j= 3\n",
      "len(ga)= 3\n",
      "0 to 1\n",
      "ga= [1, 0, 1]\n",
      "len(ga) 3\n",
      "ga= [1, 0, 0]\n",
      "-----p\n",
      "ga= [1, 0, 0]\n",
      "ac= [0, 1, 2, 1, 3, 1, 1, 1]\n",
      "amtc= [0, 2, 2, 2, 2, 2, 2, 2]\n",
      "----------------------------\n"
     ]
    }
   ],
   "source": [
    "for num in range(loop):\n",
    "    acc=0\n",
    "    amtcc=0\n",
    "    p=0\n",
    "    pp=0\n",
    "    lenga=len(ga)\n",
    "    print(\"p-----\")\n",
    "    print(\"num=\",num+1)\n",
    "    result = all(element == 1 for element in ga)\n",
    "    print(\"ga=\",ga)\n",
    "    if (result):\n",
    "        print(\"All the elements are 1\")\n",
    "        for n, i in enumerate(ga):\n",
    "            if i == 1:\n",
    "                ga[n] = 0\n",
    "                acc=acc+1\n",
    "        print(\"ga=\",ga)\n",
    "        ga.insert(0,1)\n",
    "        print(\"ga=\",ga)\n",
    "        acc=acc+1\n",
    "        amtcc=amtcc+2\n",
    "    else:\n",
    "        print(\"All Elements are not 1\")\n",
    "        for j in range(lenga,0,-1):\n",
    "            print(\"j=\",j)\n",
    "            print(\"len(ga)=\",len(ga))\n",
    "            #print(f\"ga[{j}]={ga[j]}\")\n",
    "            if ga[j-1]==0:\n",
    "                print(\"0 to 1\")\n",
    "                ga[j-1]=1\n",
    "                k=j-1\n",
    "                print(\"ga=\",ga)\n",
    "                print(\"len(ga)\",len(ga))\n",
    "                if len(ga)>3 and ga[j-1]==1:\n",
    "                    for h in range(k,len(ga)):\n",
    "                        #print(\"j=\",j)\n",
    "                        ga[k]=0\n",
    "                if len(ga)==3:\n",
    "                    pp=pp+1\n",
    "                    if pp==1:\n",
    "                        ga[2]=0\n",
    "#                     for h in range(k,len(ga)):\n",
    "#                         #print(\"j=\",j)\n",
    "                        \n",
    "                       \n",
    "                print(\"ga=\",ga)\n",
    "                acc=acc+1\n",
    "                amtcc=amtcc+2\n",
    "                break\n",
    "\n",
    "    print(\"-----p\")\n",
    "    print(\"ga=\",ga)\n",
    "    ac.append(acc)\n",
    "    print(\"ac=\",ac)\n",
    "    amtc.append(amtcc)\n",
    "    print(\"amtc=\",amtc)\n",
    "    print(\"----------------------------\")"
   ]
  },
  {
   "cell_type": "code",
   "execution_count": null,
   "metadata": {},
   "outputs": [],
   "source": []
  },
  {
   "cell_type": "code",
   "execution_count": 34,
   "metadata": {},
   "outputs": [
    {
     "data": {
      "text/plain": [
       "[0]"
      ]
     },
     "execution_count": 34,
     "metadata": {},
     "output_type": "execute_result"
    }
   ],
   "source": [
    "ac"
   ]
  },
  {
   "cell_type": "code",
   "execution_count": 35,
   "metadata": {},
   "outputs": [
    {
     "data": {
      "text/plain": [
       "[0]"
      ]
     },
     "execution_count": 35,
     "metadata": {},
     "output_type": "execute_result"
    }
   ],
   "source": [
    "amtc"
   ]
  },
  {
   "cell_type": "code",
   "execution_count": 36,
   "metadata": {},
   "outputs": [
    {
     "data": {
      "text/plain": [
       "[0]"
      ]
     },
     "execution_count": 36,
     "metadata": {},
     "output_type": "execute_result"
    }
   ],
   "source": [
    "ga"
   ]
  },
  {
   "cell_type": "code",
   "execution_count": 37,
   "metadata": {},
   "outputs": [
    {
     "data": {
      "text/plain": [
       "1"
      ]
     },
     "execution_count": 37,
     "metadata": {},
     "output_type": "execute_result"
    }
   ],
   "source": [
    "len(ga)"
   ]
  },
  {
   "cell_type": "code",
   "execution_count": 46,
   "metadata": {},
   "outputs": [
    {
     "data": {
      "text/plain": [
       "1"
      ]
     },
     "execution_count": 46,
     "metadata": {},
     "output_type": "execute_result"
    }
   ],
   "source": [
    "len(ga)"
   ]
  },
  {
   "cell_type": "code",
   "execution_count": null,
   "metadata": {},
   "outputs": [],
   "source": []
  }
 ],
 "metadata": {
  "kernelspec": {
   "display_name": "Python 3",
   "language": "python",
   "name": "python3"
  },
  "language_info": {
   "codemirror_mode": {
    "name": "ipython",
    "version": 3
   },
   "file_extension": ".py",
   "mimetype": "text/x-python",
   "name": "python",
   "nbconvert_exporter": "python",
   "pygments_lexer": "ipython3",
   "version": "3.7.7"
  }
 },
 "nbformat": 4,
 "nbformat_minor": 4
}
