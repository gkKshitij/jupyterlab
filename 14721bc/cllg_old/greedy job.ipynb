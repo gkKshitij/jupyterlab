{
 "cells": [
  {
   "cell_type": "code",
   "execution_count": 1,
   "metadata": {},
   "outputs": [],
   "source": [
    "def printJobScheduling(arr, t): \n",
    "  \n",
    "    # length of array \n",
    "    n = len(arr) \n",
    "  \n",
    "    # Sort all jobs according to decreasing order of profit \n",
    "    for i in range(n): \n",
    "        for j in range(n - 1 - i): \n",
    "            if arr[j][2] < arr[j + 1][2]: \n",
    "                arr[j], arr[j + 1] = arr[j + 1], arr[j] \n",
    "  \n",
    "    # To keep track of free time slots \n",
    "    result = [False] * t \n",
    "    result\n",
    "    # To store result (Sequence of jobs) \n",
    "    job = ['-1'] * t \n",
    "    job\n",
    "    # Iterate through all given jobs \n",
    "    for i in range(len(arr)): \n",
    "  \n",
    "        # Find a free slot for this job (Note that we start from the last possible slot) \n",
    "        for j in range(min(t - 1, arr[i][1] - 1), -1, -1): \n",
    "              \n",
    "            # Free slot found \n",
    "            if result[j] is False: \n",
    "                result[j] = True\n",
    "                job[j] = arr[i][0] \n",
    "                break\n",
    "  \n",
    "    # print the sequence \n",
    "    print(job) \n"
   ]
  },
  {
   "cell_type": "code",
   "execution_count": 15,
   "metadata": {},
   "outputs": [],
   "source": [
    "# n = int(input(\"Enter the number of processes \"))\n",
    "# listLen = int(input(\"Enter the number of sublist \"))\n",
    "\n",
    "# finalList = [[int(input(\"Enter number: \")) for _ in range(listLen)] for _ in range(n)]\n",
    "# print(\"List is\")\n",
    "# print(finalList)"
   ]
  },
  {
   "cell_type": "code",
   "execution_count": 7,
   "metadata": {},
   "outputs": [
    {
     "name": "stdin",
     "output_type": "stream",
     "text": [
      "Enter number of elements :  3\n",
      " k\n",
      " 2\n",
      " 63\n",
      " kk\n",
      " 3\n",
      " 56\n",
      " jjk\n",
      " 8\n",
      " 56\n"
     ]
    },
    {
     "name": "stdout",
     "output_type": "stream",
     "text": [
      "[['k', 2, 63], ['kk', 3, 56], ['jjk', 8, 56]]\n"
     ]
    }
   ],
   "source": [
    "lst = [ ]\n",
    "n = int(input(\"Enter number of elements : \"))\n",
    "for i in range(0, n):\n",
    "    ele = [ input(), int(input()), int(input()) ]\n",
    "    lst.append(ele)\n",
    "print(lst)"
   ]
  },
  {
   "cell_type": "code",
   "execution_count": 8,
   "metadata": {},
   "outputs": [
    {
     "name": "stdout",
     "output_type": "stream",
     "text": [
      "Following is maximum profit sequence of jobs\n",
      "['jjk', 'k', 'kk']\n"
     ]
    }
   ],
   "source": [
    "print(\"Following is maximum profit sequence of jobs\") \n",
    "printJobScheduling(lst, 3)"
   ]
  },
  {
   "cell_type": "code",
   "execution_count": null,
   "metadata": {},
   "outputs": [],
   "source": []
  },
  {
   "cell_type": "code",
   "execution_count": null,
   "metadata": {},
   "outputs": [],
   "source": []
  },
  {
   "cell_type": "code",
   "execution_count": null,
   "metadata": {},
   "outputs": [],
   "source": []
  },
  {
   "cell_type": "code",
   "execution_count": null,
   "metadata": {},
   "outputs": [],
   "source": []
  }
 ],
 "metadata": {
  "kernelspec": {
   "display_name": "Python 3",
   "language": "python",
   "name": "python3"
  },
  "language_info": {
   "codemirror_mode": {
    "name": "ipython",
    "version": 3
   },
   "file_extension": ".py",
   "mimetype": "text/x-python",
   "name": "python",
   "nbconvert_exporter": "python",
   "pygments_lexer": "ipython3",
   "version": "3.7.7"
  }
 },
 "nbformat": 4,
 "nbformat_minor": 4
}
