{
 "cells": [
  {
   "cell_type": "markdown",
   "metadata": {},
   "source": [
    "AMORTIZE ANALYSIS ( ACCOUNTING METHOD INCREMENTING BINARY COUNTER )"
   ]
  },
  {
   "cell_type": "code",
   "execution_count": 1,
   "metadata": {},
   "outputs": [],
   "source": [
    "#import numpy as np"
   ]
  },
  {
   "cell_type": "code",
   "execution_count": 1,
   "metadata": {},
   "outputs": [
    {
     "name": "stdin",
     "output_type": "stream",
     "text": [
      "enter the counte value 3\n"
     ]
    }
   ],
   "source": [
    "nstr=input(\"enter the counte value\") \n",
    "n=int(nstr)"
   ]
  },
  {
   "cell_type": "code",
   "execution_count": 2,
   "metadata": {},
   "outputs": [],
   "source": [
    "def decimalToBinary(n):  \n",
    "    return bin(n).replace(\"0b\", \"\")  "
   ]
  },
  {
   "cell_type": "code",
   "execution_count": 3,
   "metadata": {},
   "outputs": [],
   "source": [
    "def countX(lst, x): \n",
    "    count = 0\n",
    "    for ele in lst: \n",
    "        if (ele == x): \n",
    "            count = count + 1\n",
    "    return count "
   ]
  },
  {
   "cell_type": "code",
   "execution_count": 70,
   "metadata": {},
   "outputs": [],
   "source": [
    "ga=[0]\n",
    "bn=[0]\n",
    "ac=[0]\n",
    "pd=[0]\n",
    "fidi=[0]\n",
    "amtc=[0]\n",
    "tamtc=0"
   ]
  },
  {
   "cell_type": "code",
   "execution_count": 71,
   "metadata": {},
   "outputs": [
    {
     "name": "stdout",
     "output_type": "stream",
     "text": [
      "p-----\n",
      "[0]\n",
      "[1]\n",
      "-----p\n",
      "ga= [1]\n",
      "ac= [0, 1]\n",
      "ac= [0, 2]\n"
     ]
    }
   ],
   "source": [
    "for num in range(n+1):\n",
    "    acc=0\n",
    "    amtcc=0\n",
    "    p=0\n",
    "    l=len(ga)\n",
    "    print(\"p-----\")\n",
    "    if p>0:\n",
    "        if(len(set(ga))==1):\n",
    "            for n, i in enumerate(ga):\n",
    "                if i == 1:\n",
    "                    ga[n] = 0\n",
    "                    acc=acc+1\n",
    "                    \n",
    "            print(ga)\n",
    "            ga.insert(0,1)\n",
    "            print(ga)\n",
    "            acc=acc+1\n",
    "            amtcc=amtcc+2\n",
    "        else:\n",
    "            for j in range(l,0,-1):\n",
    "                print(\"j=\",j)\n",
    "                if ga[j]==0:\n",
    "                    ga[j]=1\n",
    "                    acc=acc+1\n",
    "                    amtcc=amtcc+2\n",
    "    else:\n",
    "        print(ga)\n",
    "        ga[0]=1\n",
    "        print(ga)\n",
    "        acc=acc+1\n",
    "        amtcc=amtcc+2\n",
    "        p=1\n",
    "    print(\"-----p\")\n",
    "    print(\"ga=\",ga)\n",
    "    ac.append(acc)\n",
    "    print(\"ac=\",ac)\n",
    "    amtc.append(amtcc)\n",
    "    print(\"amtc=\",amtc)"
   ]
  },
  {
   "cell_type": "code",
   "execution_count": 34,
   "metadata": {},
   "outputs": [
    {
     "data": {
      "text/plain": [
       "[0]"
      ]
     },
     "execution_count": 34,
     "metadata": {},
     "output_type": "execute_result"
    }
   ],
   "source": [
    "ac"
   ]
  },
  {
   "cell_type": "code",
   "execution_count": 35,
   "metadata": {},
   "outputs": [
    {
     "data": {
      "text/plain": [
       "[0]"
      ]
     },
     "execution_count": 35,
     "metadata": {},
     "output_type": "execute_result"
    }
   ],
   "source": [
    "amtc"
   ]
  },
  {
   "cell_type": "code",
   "execution_count": 36,
   "metadata": {},
   "outputs": [
    {
     "data": {
      "text/plain": [
       "[0]"
      ]
     },
     "execution_count": 36,
     "metadata": {},
     "output_type": "execute_result"
    }
   ],
   "source": [
    "ga"
   ]
  },
  {
   "cell_type": "code",
   "execution_count": 37,
   "metadata": {},
   "outputs": [
    {
     "data": {
      "text/plain": [
       "1"
      ]
     },
     "execution_count": 37,
     "metadata": {},
     "output_type": "execute_result"
    }
   ],
   "source": [
    "len(ga)"
   ]
  },
  {
   "cell_type": "code",
   "execution_count": 46,
   "metadata": {},
   "outputs": [
    {
     "data": {
      "text/plain": [
       "1"
      ]
     },
     "execution_count": 46,
     "metadata": {},
     "output_type": "execute_result"
    }
   ],
   "source": [
    "len(ga)"
   ]
  },
  {
   "cell_type": "code",
   "execution_count": null,
   "metadata": {},
   "outputs": [],
   "source": []
  }
 ],
 "metadata": {
  "kernelspec": {
   "display_name": "Python 3",
   "language": "python",
   "name": "python3"
  },
  "language_info": {
   "codemirror_mode": {
    "name": "ipython",
    "version": 3
   },
   "file_extension": ".py",
   "mimetype": "text/x-python",
   "name": "python",
   "nbconvert_exporter": "python",
   "pygments_lexer": "ipython3",
   "version": "3.7.7"
  }
 },
 "nbformat": 4,
 "nbformat_minor": 4
}
