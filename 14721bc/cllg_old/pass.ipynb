{
 "cells": [
  {
   "cell_type": "code",
   "execution_count": 2,
   "metadata": {},
   "outputs": [
    {
     "name": "stdin",
     "output_type": "stream",
     "text": [
      "Enter a password :  part1112\n"
     ]
    },
    {
     "name": "stdout",
     "output_type": "stream",
     "text": [
      "Not valid ! It should contain one letter between [A-Z]\n"
     ]
    },
    {
     "name": "stdin",
     "output_type": "stream",
     "text": [
      "Enter a password :  Prat@1112\n"
     ]
    },
    {
     "name": "stdout",
     "output_type": "stream",
     "text": [
      "Password is valid\n"
     ]
    }
   ],
   "source": [
    "#1\n",
    "import re\n",
    "\n",
    "#2\n",
    "while True:\n",
    "  #3\n",
    "  user_input = input(\"Enter a password : \")\n",
    "  is_valid = False\n",
    "\n",
    "  if (len(user_input)<6 or len(user_input)>12):\n",
    "    #4\n",
    "    print(\"Not valid ! Total characters should be between 6 and 12\")\n",
    "    continue\n",
    "  elif not re.search(\"[A-Z]\",user_input):\n",
    "    #5\n",
    "    print(\"Not valid ! It should contain one letter between [A-Z]\")\n",
    "    continue\n",
    "  elif not re.search(\"[a-z]\",user_input):\n",
    "    #6\n",
    "    print(\"Not valid ! It should contain one letter between [a-z]\")\n",
    "    continue\n",
    "  elif not re.search(\"[1-9]\",user_input):\n",
    "    #7\n",
    "    print(\"Not valid ! It should contain one letter between [1-9]\")\n",
    "    continue\n",
    "  elif not re.search(\"[~!@#$%^&*]\",user_input):\n",
    "    #8\n",
    "    print(\"Not valid ! It should contain at least one letter in [~!@#$%^&*]\")\n",
    "    continue\n",
    "  elif re.search(\"[\\s]\",user_input):\n",
    "    #9\n",
    "    print(\"Not valid ! It should not contain any space\")\n",
    "    continue\n",
    "  else:\n",
    "    #10\n",
    "    is_valid = True\n",
    "    break\n",
    "\n",
    "#11\n",
    "if(is_valid):\n",
    "  print(\"Password is valid\")"
   ]
  },
  {
   "cell_type": "code",
   "execution_count": null,
   "metadata": {},
   "outputs": [],
   "source": []
  }
 ],
 "metadata": {
  "kernelspec": {
   "display_name": "Python 3",
   "language": "python",
   "name": "python3"
  },
  "language_info": {
   "codemirror_mode": {
    "name": "ipython",
    "version": 3
   },
   "file_extension": ".py",
   "mimetype": "text/x-python",
   "name": "python",
   "nbconvert_exporter": "python",
   "pygments_lexer": "ipython3",
   "version": "3.7.7"
  }
 },
 "nbformat": 4,
 "nbformat_minor": 4
}
