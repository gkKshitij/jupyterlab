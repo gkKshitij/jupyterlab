{
 "cells": [
  {
   "cell_type": "markdown",
   "metadata": {},
   "source": [
    "AMORTIZE ANALYSIS ( ACCOUNTING METHOD INCREMENTING BINARY COUNTER )"
   ]
  },
  {
   "cell_type": "code",
   "execution_count": 1,
   "metadata": {},
   "outputs": [],
   "source": [
    "#import numpy as np"
   ]
  },
  {
   "cell_type": "code",
   "execution_count": 28,
   "metadata": {},
   "outputs": [
    {
     "name": "stdin",
     "output_type": "stream",
     "text": [
      "enter the counte value 7\n"
     ]
    }
   ],
   "source": [
    "nloop=input(\"enter the counte value\") \n",
    "loop=int(nloop)"
   ]
  },
  {
   "cell_type": "code",
   "execution_count": 108,
   "metadata": {},
   "outputs": [],
   "source": [
    "def decimalToBinary(n):  \n",
    "    return bin(n).replace(\"0b\", \"\")  "
   ]
  },
  {
   "cell_type": "code",
   "execution_count": 109,
   "metadata": {},
   "outputs": [],
   "source": [
    "def countX(lst, x): \n",
    "    count = 0\n",
    "    for ele in lst: \n",
    "        if (ele == x): \n",
    "            count = count + 1\n",
    "    return count "
   ]
  },
  {
   "cell_type": "code",
   "execution_count": 29,
   "metadata": {},
   "outputs": [],
   "source": [
    "ga=[0]\n",
    "bn=[0]\n",
    "ac=[0]\n",
    "pd=[0]\n",
    "fidi=[0]\n",
    "amtc=[0]\n",
    "tamtc=0"
   ]
  },
  {
   "cell_type": "code",
   "execution_count": 30,
   "metadata": {},
   "outputs": [
    {
     "name": "stdout",
     "output_type": "stream",
     "text": [
      "p-----\n",
      "num= 1\n",
      "ga= [0]\n",
      "All Elements are not 1\n",
      "j= 0\n",
      "len(ga)= 1\n",
      "0 to 1\n",
      "ga= [1]\n"
     ]
    },
    {
     "ename": "IndexError",
     "evalue": "list assignment index out of range",
     "output_type": "error",
     "traceback": [
      "\u001b[1;31m---------------------------------------------------------------------------\u001b[0m",
      "\u001b[1;31mIndexError\u001b[0m                                Traceback (most recent call last)",
      "\u001b[1;32m<ipython-input-30-4680869cf421>\u001b[0m in \u001b[0;36m<module>\u001b[1;34m\u001b[0m\n\u001b[0;32m     34\u001b[0m                         \u001b[0mga\u001b[0m\u001b[1;33m[\u001b[0m\u001b[0mk\u001b[0m\u001b[1;33m]\u001b[0m\u001b[1;33m=\u001b[0m\u001b[1;36m0\u001b[0m\u001b[1;33m\u001b[0m\u001b[1;33m\u001b[0m\u001b[0m\n\u001b[0;32m     35\u001b[0m                 \u001b[1;32mif\u001b[0m \u001b[0mga\u001b[0m\u001b[1;33m[\u001b[0m\u001b[0mj\u001b[0m\u001b[1;33m-\u001b[0m\u001b[1;36m1\u001b[0m\u001b[1;33m]\u001b[0m\u001b[1;33m==\u001b[0m\u001b[1;36m1\u001b[0m \u001b[1;32mand\u001b[0m \u001b[0mnum\u001b[0m\u001b[1;33m!=\u001b[0m\u001b[1;36m5\u001b[0m\u001b[1;33m:\u001b[0m\u001b[1;33m\u001b[0m\u001b[1;33m\u001b[0m\u001b[0m\n\u001b[1;32m---> 36\u001b[1;33m                     \u001b[0mga\u001b[0m\u001b[1;33m[\u001b[0m\u001b[1;36m1\u001b[0m\u001b[1;33m]\u001b[0m\u001b[1;33m=\u001b[0m\u001b[1;36m1\u001b[0m\u001b[1;33m\u001b[0m\u001b[1;33m\u001b[0m\u001b[0m\n\u001b[0m\u001b[0;32m     37\u001b[0m \u001b[1;33m\u001b[0m\u001b[0m\n\u001b[0;32m     38\u001b[0m                 \u001b[1;32mbreak\u001b[0m\u001b[1;33m\u001b[0m\u001b[1;33m\u001b[0m\u001b[0m\n",
      "\u001b[1;31mIndexError\u001b[0m: list assignment index out of range"
     ]
    }
   ],
   "source": [
    "for num in range(loop):\n",
    "    acc=0\n",
    "    amtcc=0\n",
    "    p=0\n",
    "    pp=0\n",
    "    lenga=len(ga)\n",
    "    print(\"p-----\")\n",
    "    print(\"num=\",num+1)\n",
    "    result = all(element == 1 for element in ga)\n",
    "    print(\"ga=\",ga)\n",
    "    if (result):\n",
    "        print(\"All the elements are 1\")\n",
    "        for n, i in enumerate(ga):\n",
    "            if i == 1:\n",
    "                ga[n] = 0\n",
    "                acc=acc+1\n",
    "        print(\"ga=\",ga)\n",
    "        ga.append(1)\n",
    "        print(\"ga=\",ga)\n",
    "        acc=acc+1\n",
    "        amtcc=amtcc+2\n",
    "    else:\n",
    "        print(\"All Elements are not 1\")\n",
    "        for j in range(lenga):\n",
    "            print(\"j=\",j)\n",
    "            print(\"len(ga)=\",len(ga))\n",
    "            #print(f\"ga[{j}]={ga[j]}\")\n",
    "            if ga[j]==0:\n",
    "                print(\"0 to 1\")\n",
    "                ga[j]=1\n",
    "                print(\"ga=\",ga)\n",
    "                if ga[j-1]==1 and num==5:\n",
    "                    for k in range(j-1):\n",
    "                        ga[k]=0\n",
    "                if ga[j-1]==1 and num!=5:\n",
    "                    ga[1]=1\n",
    "                    \n",
    "                break\n",
    "#                 if len(ga)>3 and ga[j-1]==1:\n",
    "#                     for h in range(k,len(ga)):\n",
    "#                         #print(\"j=\",j)\n",
    "#                         ga[k]=0\n",
    "#                 if len(ga)==3:\n",
    "#                     pp=pp+1\n",
    "#                     if pp==1:\n",
    "#                         ga[2]=0\n",
    "# #                     for h in range(k,len(ga)):\n",
    "# #                         #print(\"j=\",j)\n",
    "                        \n",
    "                       \n",
    "#                 print(\"ga=\",ga)\n",
    "#                 acc=acc+1\n",
    "#                 amtcc=amtcc+2\n",
    "#                 break\n",
    "\n",
    "    print(\"-----p\")\n",
    "    print(\"ga=\",ga)\n",
    "    ac.append(acc)\n",
    "    print(\"ac=\",ac)\n",
    "    amtc.append(amtcc)\n",
    "    print(\"amtc=\",amtc)\n",
    "    print(\"----------------------------\")"
   ]
  },
  {
   "cell_type": "code",
   "execution_count": null,
   "metadata": {},
   "outputs": [],
   "source": []
  },
  {
   "cell_type": "code",
   "execution_count": 34,
   "metadata": {},
   "outputs": [
    {
     "data": {
      "text/plain": [
       "[0]"
      ]
     },
     "execution_count": 34,
     "metadata": {},
     "output_type": "execute_result"
    }
   ],
   "source": [
    "ac"
   ]
  },
  {
   "cell_type": "code",
   "execution_count": 35,
   "metadata": {},
   "outputs": [
    {
     "data": {
      "text/plain": [
       "[0]"
      ]
     },
     "execution_count": 35,
     "metadata": {},
     "output_type": "execute_result"
    }
   ],
   "source": [
    "amtc"
   ]
  },
  {
   "cell_type": "code",
   "execution_count": 36,
   "metadata": {},
   "outputs": [
    {
     "data": {
      "text/plain": [
       "[0]"
      ]
     },
     "execution_count": 36,
     "metadata": {},
     "output_type": "execute_result"
    }
   ],
   "source": [
    "ga"
   ]
  },
  {
   "cell_type": "code",
   "execution_count": 37,
   "metadata": {},
   "outputs": [
    {
     "data": {
      "text/plain": [
       "1"
      ]
     },
     "execution_count": 37,
     "metadata": {},
     "output_type": "execute_result"
    }
   ],
   "source": [
    "len(ga)"
   ]
  },
  {
   "cell_type": "code",
   "execution_count": 46,
   "metadata": {},
   "outputs": [
    {
     "data": {
      "text/plain": [
       "1"
      ]
     },
     "execution_count": 46,
     "metadata": {},
     "output_type": "execute_result"
    }
   ],
   "source": [
    "len(ga)"
   ]
  },
  {
   "cell_type": "code",
   "execution_count": null,
   "metadata": {},
   "outputs": [],
   "source": []
  }
 ],
 "metadata": {
  "kernelspec": {
   "display_name": "Python 3",
   "language": "python",
   "name": "python3"
  },
  "language_info": {
   "codemirror_mode": {
    "name": "ipython",
    "version": 3
   },
   "file_extension": ".py",
   "mimetype": "text/x-python",
   "name": "python",
   "nbconvert_exporter": "python",
   "pygments_lexer": "ipython3",
   "version": "3.7.7"
  }
 },
 "nbformat": 4,
 "nbformat_minor": 4
}
