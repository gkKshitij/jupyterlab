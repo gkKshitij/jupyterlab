{
 "cells": [
  {
   "cell_type": "code",
   "execution_count": 2,
   "metadata": {},
   "outputs": [
    {
     "name": "stdout",
     "output_type": "stream",
     "text": [
      "Element is present at index 3\n",
      "Wall time: 1 ms\n"
     ]
    }
   ],
   "source": [
    "%%time\n",
    "# Iterative Binary Search Function \n",
    "def binarysearch_iterative(arr, x): \n",
    "    low = 0\n",
    "    high = len(arr) - 1\n",
    "    mid = 0\n",
    "  \n",
    "    while low <= high: \n",
    "  \n",
    "        mid = (high + low) // 2\n",
    "\n",
    "        if arr[mid] < x: \n",
    "            low = mid + 1\n",
    "\n",
    "        elif arr[mid] > x: \n",
    "            high = mid - 1\n",
    "\n",
    "        else: \n",
    "            return mid \n",
    "    return -1\n",
    "\n",
    "arr = [ 2, 3, 4, 10, 40 ] \n",
    "x = 10\n",
    "\n",
    "result = binarysearch_iterative(arr, x) \n",
    "  \n",
    "if result != -1: \n",
    "    print(\"Element is present at index\", str(result)) \n",
    "else: \n",
    "    print(\"Element is not present in array\") "
   ]
  },
  {
   "cell_type": "code",
   "execution_count": null,
   "metadata": {},
   "outputs": [],
   "source": []
  },
  {
   "cell_type": "code",
   "execution_count": null,
   "metadata": {},
   "outputs": [],
   "source": []
  }
 ],
 "metadata": {
  "kernelspec": {
   "display_name": "Python 3",
   "language": "python",
   "name": "python3"
  },
  "language_info": {
   "codemirror_mode": {
    "name": "ipython",
    "version": 3
   },
   "file_extension": ".py",
   "mimetype": "text/x-python",
   "name": "python",
   "nbconvert_exporter": "python",
   "pygments_lexer": "ipython3",
   "version": "3.7.7"
  }
 },
 "nbformat": 4,
 "nbformat_minor": 4
}
