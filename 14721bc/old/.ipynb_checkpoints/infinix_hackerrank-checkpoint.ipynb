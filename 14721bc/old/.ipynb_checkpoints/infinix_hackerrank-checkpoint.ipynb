{
 "cells": [
  {
   "cell_type": "code",
   "execution_count": 35,
   "id": "3794d186-b44f-44e5-8aba-05ff4d3e3687",
   "metadata": {},
   "outputs": [
    {
     "name": "stdin",
     "output_type": "stream",
     "text": [
      " 3\n",
      " 10 5\n",
      " 10 6\n",
      " 9 10\n"
     ]
    },
    {
     "name": "stdout",
     "output_type": "stream",
     "text": [
      "2\n",
      "1\n",
      "0\n"
     ]
    }
   ],
   "source": [
    "n = int(input())\n",
    "arr=[]\n",
    "\n",
    "def func():\n",
    "    for i in range(n):\n",
    "        t=input()\n",
    "        x=t.split(\" \")\n",
    "        y=int(x[0])\n",
    "        z=int(x[1])\n",
    "        arr.append(int(y/z))\n",
    "        #print(arr)\n",
    "    #return arr\n",
    "    for j in range(n):\n",
    "        print(arr[j])\n",
    "\n",
    "\n",
    "\n",
    "func()"
   ]
  },
  {
   "cell_type": "code",
   "execution_count": 30,
   "id": "10f084a0-b1f2-4a49-8fd3-6586e5ada81f",
   "metadata": {},
   "outputs": [
    {
     "name": "stdin",
     "output_type": "stream",
     "text": [
      " 10 5\n"
     ]
    },
    {
     "name": "stdout",
     "output_type": "stream",
     "text": [
      "[2]\n"
     ]
    },
    {
     "name": "stdin",
     "output_type": "stream",
     "text": [
      " 10 6\n"
     ]
    },
    {
     "name": "stdout",
     "output_type": "stream",
     "text": [
      "[2, 1]\n"
     ]
    },
    {
     "name": "stdin",
     "output_type": "stream",
     "text": [
      " 9 10\n"
     ]
    },
    {
     "name": "stdout",
     "output_type": "stream",
     "text": [
      "[2, 1, 0]\n",
      "2\n",
      "1\n",
      "0\n"
     ]
    }
   ],
   "source": [
    "n = int(input())\n",
    "arr=[]\n",
    "\n",
    "def func():\n",
    "    for i in range(n):\n",
    "        t=input()\n",
    "        #t = \"9999999\"\n",
    "        x = txt.count(\"9\")\n",
    "        arr.append(int(y/z))\n",
    "        #print(arr)\n",
    "    #return arr\n",
    "    for j in range(n):\n",
    "        print(arr[j])\n",
    "\n",
    "\n",
    "\n",
    "func()"
   ]
  },
  {
   "cell_type": "code",
   "execution_count": null,
   "id": "afdf0264-bfae-4817-ba37-cb37fc0501c8",
   "metadata": {},
   "outputs": [],
   "source": []
  }
 ],
 "metadata": {
  "kernelspec": {
   "display_name": "Python 3",
   "language": "python",
   "name": "python3"
  },
  "language_info": {
   "codemirror_mode": {
    "name": "ipython",
    "version": 3
   },
   "file_extension": ".py",
   "mimetype": "text/x-python",
   "name": "python",
   "nbconvert_exporter": "python",
   "pygments_lexer": "ipython3",
   "version": "3.8.10"
  }
 },
 "nbformat": 4,
 "nbformat_minor": 5
}
