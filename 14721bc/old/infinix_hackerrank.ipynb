{
 "cells": [
  {
   "cell_type": "code",
   "execution_count": 35,
   "id": "3794d186-b44f-44e5-8aba-05ff4d3e3687",
   "metadata": {},
   "outputs": [
    {
     "name": "stdin",
     "output_type": "stream",
     "text": [
      " 3\n",
      " 10 5\n",
      " 10 6\n",
      " 9 10\n"
     ]
    },
    {
     "name": "stdout",
     "output_type": "stream",
     "text": [
      "2\n",
      "1\n",
      "0\n"
     ]
    }
   ],
   "source": [
    "n = int(input())\n",
    "arr=[]\n",
    "\n",
    "def func():\n",
    "    for i in range(n):\n",
    "        t=input()\n",
    "        x=t.split(\" \")\n",
    "        y=int(x[0])\n",
    "        z=int(x[1])\n",
    "        arr.append(int(y/z))\n",
    "        #print(arr)\n",
    "    #return arr\n",
    "    for j in range(n):\n",
    "        print(arr[j])\n",
    "\n",
    "\n",
    "\n",
    "func()"
   ]
  },
  {
   "cell_type": "code",
   "execution_count": 43,
   "id": "10f084a0-b1f2-4a49-8fd3-6586e5ada81f",
   "metadata": {},
   "outputs": [
    {
     "name": "stdin",
     "output_type": "stream",
     "text": [
      " 5\n",
      " 99\n",
      " 9\n",
      " 999\n",
      " 9\n",
      " 99999\n"
     ]
    },
    {
     "name": "stdout",
     "output_type": "stream",
     "text": [
      "2\n",
      "1\n",
      "3\n",
      "1\n",
      "5\n"
     ]
    }
   ],
   "source": [
    "def func():\n",
    "    n = int(input())\n",
    "    arr=[]\n",
    "    for i in range(n):\n",
    "        t=input()\n",
    "        #t = \"9999999\"\n",
    "        x = t.count(\"9\")\n",
    "        arr.append(int(x))\n",
    "        #print(arr)\n",
    "    #return arr\n",
    "    for j in range(n):\n",
    "        print(arr[j])\n",
    "\n",
    "func()"
   ]
  },
  {
   "cell_type": "code",
   "execution_count": 50,
   "id": "af2d6c09-72e1-409c-8e27-7caaab2f3089",
   "metadata": {},
   "outputs": [
    {
     "name": "stdin",
     "output_type": "stream",
     "text": [
      " 5\n",
      " 1 1 2\n",
      " 1 3 2\n",
      " 2 2 2\n",
      " 100 100 201\n",
      " 11 22 33\n"
     ]
    },
    {
     "name": "stdout",
     "output_type": "stream",
     "text": [
      "YES\n",
      "YES\n",
      "NO\n",
      "NO\n",
      "YES\n"
     ]
    }
   ],
   "source": [
    "n = int(input())\n",
    "arr=[]\n",
    "\n",
    "def func():\n",
    "    for i in range(n):\n",
    "        t=input()\n",
    "        x=t.split(\" \")\n",
    "        y1=int(x[0])\n",
    "        y2=int(x[1])\n",
    "        y3=int(x[2])\n",
    "        if(y1+y2==y3):\n",
    "            arr.append(\"YES\")\n",
    "        elif(y1+y3==y2):\n",
    "            arr.append(\"YES\")\n",
    "        elif(y2+y3==y1):\n",
    "            arr.append(\"YES\")\n",
    "        else:\n",
    "            arr.append(\"NO\")\n",
    "        #print(arr)\n",
    "    #return arr\n",
    "    for j in range(n):\n",
    "        print(arr[j])\n",
    "\n",
    "\n",
    "\n",
    "func()"
   ]
  },
  {
   "cell_type": "code",
   "execution_count": 57,
   "id": "a5c9988d-8dae-4fda-b237-14f965692a11",
   "metadata": {},
   "outputs": [
    {
     "name": "stdin",
     "output_type": "stream",
     "text": [
      " 4\n",
      " 20 50 2100 1900 6 6\n",
      " 50 20 1900 1900 5 5\n",
      " 20 20 1900 1900 1 6\n",
      " 27 27 1920 1920 3 3\n"
     ]
    },
    {
     "name": "stdout",
     "output_type": "stream",
     "text": [
      "NO\n",
      "NO\n",
      "NO\n",
      "YES\n"
     ]
    }
   ],
   "source": [
    "n = int(input())\n",
    "arr=[]\n",
    "\n",
    "def func():\n",
    "    for i in range(n):\n",
    "        temp=input()\n",
    "        t=temp.split(\" \")\n",
    "        x1=int(t[0])\n",
    "        x2=int(t[1])\n",
    "        y1=int(t[2])\n",
    "        y2=int(t[3])\n",
    "        z1=int(t[4])\n",
    "        z2=int(t[5])\n",
    "        \n",
    "        if(x1<=x2 and y1<=y2 and z1>=z2):\n",
    "            arr.append(\"YES\")\n",
    "        else:\n",
    "            arr.append(\"NO\")\n",
    "        #print(arr)\n",
    "    #return arr\n",
    "    for j in range(n):\n",
    "        print(arr[j])\n",
    "\n",
    "        \n",
    "        \n",
    "        \n",
    "func()"
   ]
  },
  {
   "cell_type": "code",
   "execution_count": null,
   "id": "566ef018-3b54-4ea5-a536-a5fc6a6d5534",
   "metadata": {},
   "outputs": [],
   "source": []
  }
 ],
 "metadata": {
  "kernelspec": {
   "display_name": "Python 3",
   "language": "python",
   "name": "python3"
  },
  "language_info": {
   "codemirror_mode": {
    "name": "ipython",
    "version": 3
   },
   "file_extension": ".py",
   "mimetype": "text/x-python",
   "name": "python",
   "nbconvert_exporter": "python",
   "pygments_lexer": "ipython3",
   "version": "3.8.10"
  }
 },
 "nbformat": 4,
 "nbformat_minor": 5
}
