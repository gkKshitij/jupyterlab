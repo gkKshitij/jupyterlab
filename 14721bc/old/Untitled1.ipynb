{
 "cells": [
  {
   "cell_type": "code",
   "execution_count": 4,
   "metadata": {},
   "outputs": [
    {
     "name": "stdout",
     "output_type": "stream",
     "text": [
      "{'day': 1, 'visitor': 3000}\n",
      "{'day': 1, 'visitor': 3000}\n",
      "{1: 'day', 3000: 'visitor'}\n"
     ]
    }
   ],
   "source": [
    "\n",
    "d2={'day':1,'visitor':3000}\n",
    "print(d2)\n",
    "\n",
    "d1 = dict([(value,key) for key,value in d2.items()])\n",
    "print(d2)\n",
    "print(d1)"
   ]
  },
  {
   "cell_type": "code",
   "execution_count": 5,
   "metadata": {},
   "outputs": [
    {
     "name": "stdout",
     "output_type": "stream",
     "text": [
      "3 x  1 = 3\n",
      "3 x  2 = 6\n",
      "3 x  3 = 9\n",
      "3 x  4 = 12\n",
      "3 x  5 = 15\n",
      "3 x  6 = 18\n",
      "3 x  7 = 21\n",
      "3 x  8 = 24\n",
      "3 x  9 = 27\n",
      "3 x  10 = 30\n"
     ]
    }
   ],
   "source": [
    "for i in range(1,11):\n",
    "    print(\"3 x \",i,\"=\",3*i)\n"
   ]
  },
  {
   "cell_type": "code",
   "execution_count": null,
   "metadata": {},
   "outputs": [],
   "source": [
    "def add(a,b):\n",
    "    c=a+b\n",
    "    print(c)\n",
    "def sub(a,b):\n",
    "    c=a-b\n",
    "    print(c)\n",
    "def div(a,b):\n",
    "    c=a/b\n",
    "    print(c)\n",
    "def mult(a,b):\n",
    "    c=a*b\n",
    "    print(c)    \n",
    "g=int(input('Enter'))\n",
    "g=int(input('Enter'))\n",
    "while(true)\n",
    "\n"
   ]
  }
 ],
 "metadata": {
  "kernelspec": {
   "display_name": "Python 3",
   "language": "python",
   "name": "python3"
  },
  "language_info": {
   "codemirror_mode": {
    "name": "ipython",
    "version": 3
   },
   "file_extension": ".py",
   "mimetype": "text/x-python",
   "name": "python",
   "nbconvert_exporter": "python",
   "pygments_lexer": "ipython3",
   "version": "3.6.5"
  }
 },
 "nbformat": 4,
 "nbformat_minor": 2
}
