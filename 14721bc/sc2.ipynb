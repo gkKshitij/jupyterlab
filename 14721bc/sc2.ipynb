{
 "cells": [
  {
   "cell_type": "code",
   "execution_count": 10,
   "metadata": {},
   "outputs": [],
   "source": [
    "'''\n",
    "Net Input is sum of weighted input signals\n",
    "'''\n",
    "def net_input(self, X):\n",
    "   weighted_sum = np.dot(X, self.coef_[1:]) + self.coef_[0]\n",
    "   return weighted_sum"
   ]
  },
  {
   "cell_type": "code",
   "execution_count": 11,
   "metadata": {},
   "outputs": [],
   "source": [
    "'''\n",
    "Activation function is fed the net input and the unit step function is executed to determine the output.\n",
    "'''\n",
    "def activation_function(self, X):\n",
    "    weighted_sum = self.net_input(X)\n",
    "    return np.where(weighted_sum >= 0.0, 1, 0)"
   ]
  },
  {
   "cell_type": "code",
   "execution_count": 12,
   "metadata": {},
   "outputs": [],
   "source": [
    "'''\n",
    "Prediction is made on the basis of output of activation function\n",
    "'''\n",
    "def predict(self, X):\n",
    "    return self.activation_function(X) "
   ]
  },
  {
   "cell_type": "code",
   "execution_count": 13,
   "metadata": {},
   "outputs": [],
   "source": [
    "'''\n",
    "Stochastic Gradient Descent \n",
    "     \n",
    "1. Weights are updated based on each training examples.\n",
    "2. Learning of weights can continue for multiple iterations\n",
    "3. Learning rate needs to be defined\n",
    "'''\n",
    "def fit(self, X, y):\n",
    "    rgen = np.random.RandomState(self.random_state)\n",
    "    self.coef_ = rgen.normal(loc=0.0, scale=0.01, size=1 + X.shape[1])\n",
    "    for _ in range(self.n_iterations):\n",
    "        for xi, expected_value in zip(X, y):\n",
    "            predicted_value = self.predict(xi)\n",
    "            self.coef_[1:] = self.coef_[1:] + self.learning_rate * (expected_value - predicted_value) * xi\n",
    "            self.coef_[0] = self.coef_[0] + self.learning_rate * (expected_value - predicted_value) * 1\n"
   ]
  },
  {
   "cell_type": "code",
   "execution_count": 14,
   "metadata": {},
   "outputs": [],
   "source": [
    "import numpy as np\n",
    "#\n",
    "# Perceptron implementation\n",
    "#\n",
    "class CustomPerceptron(object):\n",
    "     \n",
    "    def __init__(self, n_iterations=100, random_state=1, learning_rate=0.01):\n",
    "        self.n_iterations = n_iterations\n",
    "        self.random_state = random_state\n",
    "        self.learning_rate = learning_rate\n",
    " \n",
    "    '''\n",
    "    Stochastic Gradient Descent \n",
    "     \n",
    "    1. Weights are updated based on each training examples.\n",
    "    2. Learning of weights can continue for multiple iterations\n",
    "    3. Learning rate needs to be defined\n",
    "    '''\n",
    "    def fit(self, X, y):\n",
    "        rgen = np.random.RandomState(self.random_state)\n",
    "        self.coef_ = rgen.normal(loc=0.0, scale=0.01, size=1 + X.shape[1])\n",
    "        for _ in range(self.n_iterations):\n",
    "            for xi, expected_value in zip(X, y):\n",
    "                predicted_value = self.predict(xi)\n",
    "                self.coef_[1:] = self.coef_[1:] + self.learning_rate * (expected_value - predicted_value) * xi\n",
    "                self.coef_[0] = self.coef_[0] + self.learning_rate * (expected_value - predicted_value) * 1\n",
    "     \n",
    "    '''\n",
    "    Net Input is sum of weighted input signals\n",
    "    '''\n",
    "    def net_input(self, X):\n",
    "            weighted_sum = np.dot(X, self.coef_[1:]) + self.coef_[0]\n",
    "            return weighted_sum\n",
    "     \n",
    "    '''\n",
    "    Activation function is fed the net input and the unit step function\n",
    "    is executed to determine the output.\n",
    "    '''\n",
    "    def activation_function(self, X):\n",
    "            weighted_sum = self.net_input(X)\n",
    "            return np.where(weighted_sum >= 0.0, 1, 0)\n",
    "     \n",
    "    '''\n",
    "    Prediction is made on the basis of output of activation function\n",
    "    '''\n",
    "    def predict(self, X):\n",
    "        return self.activation_function(X) \n",
    "     \n",
    "    '''\n",
    "    Model score is calculated based on comparison of \n",
    "    expected value and predicted value\n",
    "    '''\n",
    "    def score(self, X, y):\n",
    "        misclassified_data_count = 0\n",
    "        for xi, target in zip(X, y):\n",
    "            output = self.predict(xi)\n",
    "            if(target != output):\n",
    "                misclassified_data_count += 1\n",
    "        total_data_count = len(X)\n",
    "        self.score_ = (total_data_count - misclassified_data_count)/total_data_count\n",
    "        return self.score_\n",
    "    "
   ]
  },
  {
   "cell_type": "code",
   "execution_count": 15,
   "metadata": {},
   "outputs": [
    {
     "data": {
      "text/plain": [
       "(0.9064327485380117, 0.9296482412060302)"
      ]
     },
     "execution_count": 15,
     "metadata": {},
     "output_type": "execute_result"
    }
   ],
   "source": [
    "import numpy as np\n",
    "from sklearn import datasets\n",
    "from sklearn.model_selection import train_test_split\n",
    "#\n",
    "# Load the data set\n",
    "#\n",
    "bc = datasets.load_breast_cancer()\n",
    "X = bc.data\n",
    "y = bc.target\n",
    "#\n",
    "# Create training and test split\n",
    "#\n",
    "X_train, X_test, y_train, y_test = train_test_split(X, y, test_size=0.3, random_state=42, stratify=y)\n",
    "#\n",
    "# Instantiate CustomPerceptron\n",
    "#\n",
    "prcptrn = CustomPerceptron()\n",
    "#\n",
    "# Fit the model\n",
    "#\n",
    "prcptrn.fit(X_train, y_train)\n",
    "#\n",
    "# Score the model\n",
    "#\n",
    "prcptrn.score(X_test, y_test), prcptrn.score(X_train, y_train)"
   ]
  },
  {
   "cell_type": "code",
   "execution_count": null,
   "metadata": {},
   "outputs": [],
   "source": []
  }
 ],
 "metadata": {
  "kernelspec": {
   "display_name": "Python 3",
   "language": "python",
   "name": "python3"
  },
  "language_info": {
   "codemirror_mode": {
    "name": "ipython",
    "version": 3
   },
   "file_extension": ".py",
   "mimetype": "text/x-python",
   "name": "python",
   "nbconvert_exporter": "python",
   "pygments_lexer": "ipython3",
   "version": "3.8.6"
  }
 },
 "nbformat": 4,
 "nbformat_minor": 4
}
