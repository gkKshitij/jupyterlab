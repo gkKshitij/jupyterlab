{
  "nbformat": 4,
  "nbformat_minor": 0,
  "metadata": {
    "colab": {
      "name": "GeneticAlgorithm.ipynb",
      "provenance": [],
      "collapsed_sections": []
    },
    "kernelspec": {
      "name": "python3",
      "display_name": "Python 3"
    },
    "language_info": {
      "name": "python"
    }
  },
  "cells": [
    {
      "cell_type": "code",
      "metadata": {
        "id": "CuCZG0Ro6pQv"
      },
      "source": [
        "import random\n",
        "import numpy as np"
      ],
      "execution_count": 1,
      "outputs": []
    },
    {
      "cell_type": "code",
      "metadata": {
        "id": "Z82Jjv1vkqCV"
      },
      "source": [
        "reference = [1,1,1,1,1]\n",
        "chromosome_length = 5\n",
        "population_size = 4\n",
        "maximum_generation = 200\n",
        "best_score_progress = []"
      ],
      "execution_count": 12,
      "outputs": []
    },
    {
      "cell_type": "code",
      "metadata": {
        "id": "f6r2qwiGkqE5"
      },
      "source": [
        "def create_starting_population(individuals, chromosome_length):\n",
        "    population = np.zeros((individuals, chromosome_length))\n",
        "    for i in range(individuals):\n",
        "        ones = random.randint(0, chromosome_length)\n",
        "        population[i, 0:ones] = 1\n",
        "        np.random.shuffle(population[i])\n",
        "    return population"
      ],
      "execution_count": 3,
      "outputs": []
    },
    {
      "cell_type": "code",
      "metadata": {
        "id": "Tn-oyCR5kqHy"
      },
      "source": [
        "def calculate_fitness(reference, population):\n",
        "    identical_to_reference = population == reference\n",
        "    fitness_scores = identical_to_reference.sum(axis=1)\n",
        "    return fitness_scores"
      ],
      "execution_count": 4,
      "outputs": []
    },
    {
      "cell_type": "code",
      "metadata": {
        "id": "XzFLw6u3kqKX"
      },
      "source": [
        "def select_individual_by_tournament(population, scores):\n",
        "    population_size = len(scores)\n",
        "    \n",
        "    fighter_1 = random.randint(0, population_size-1)\n",
        "    fighter_2 = random.randint(0, population_size-1)\n",
        "    \n",
        "    fighter_1_fitness = scores[fighter_1]\n",
        "    fighter_2_fitness = scores[fighter_2]\n",
        "\n",
        "    if fighter_1_fitness >= fighter_2_fitness:\n",
        "        winner = fighter_1\n",
        "    else:\n",
        "        winner = fighter_2\n",
        "\n",
        "    return population[winner, :]"
      ],
      "execution_count": 5,
      "outputs": []
    },
    {
      "cell_type": "code",
      "metadata": {
        "id": "o5XCnc8FkqNL"
      },
      "source": [
        "def breed_by_crossover(parent_1, parent_2):\n",
        "    chromosome_length = len(parent_1)\n",
        "    crossover_point = random.randint(1,chromosome_length-1)\n",
        "    child_1 = np.hstack((parent_1[0:crossover_point],parent_2[crossover_point:]))\n",
        "    child_2 = np.hstack((parent_2[0:crossover_point],parent_1[crossover_point:]))\n",
        "    return child_1, child_2"
      ],
      "execution_count": 6,
      "outputs": []
    },
    {
      "cell_type": "code",
      "metadata": {
        "id": "t5Os_CdlkqQF"
      },
      "source": [
        "def randomly_mutate_population(population, mutation_probability):\n",
        "    \n",
        "        random_mutation_array = np.random.random(\n",
        "            size=(population.shape))\n",
        "        \n",
        "        random_mutation_boolean = \\\n",
        "            random_mutation_array <= mutation_probability\n",
        "\n",
        "        population[random_mutation_boolean] = \\\n",
        "        np.logical_not(population[random_mutation_boolean])\n",
        "        \n",
        "        return population"
      ],
      "execution_count": 7,
      "outputs": []
    },
    {
      "cell_type": "code",
      "metadata": {
        "colab": {
          "base_uri": "https://localhost:8080/"
        },
        "id": "uKNrDv-G97mW",
        "outputId": "dd0b37be-ece1-415a-d4bc-27145de79969"
      },
      "source": [
        "population = create_starting_population(population_size, chromosome_length)\n",
        "print(population)"
      ],
      "execution_count": 13,
      "outputs": [
        {
          "output_type": "stream",
          "text": [
            "[[0. 0. 0. 0. 0.]\n",
            " [0. 1. 1. 1. 1.]\n",
            " [0. 0. 0. 0. 0.]\n",
            " [0. 1. 0. 0. 0.]]\n"
          ],
          "name": "stdout"
        }
      ]
    },
    {
      "cell_type": "code",
      "metadata": {
        "colab": {
          "base_uri": "https://localhost:8080/",
          "height": 313
        },
        "id": "l5M0HiR19Jk9",
        "outputId": "adb3f920-8bc5-47e8-de76-3dc19204b54a"
      },
      "source": [
        "scores = calculate_fitness(reference, population)\n",
        "best_score = np.max(scores)/chromosome_length * 100\n",
        "print ('Starting best score, % target: ',best_score)\n",
        "\n",
        "best_score_progress.append(best_score)\n",
        "\n",
        "for generation in range(maximum_generation):\n",
        "    new_population = []\n",
        "    \n",
        "    for i in range(int(population_size/2)):\n",
        "        parent_1 = select_individual_by_tournament(population, scores)\n",
        "        parent_2 = select_individual_by_tournament(population, scores)\n",
        "        child_1, child_2 = breed_by_crossover(parent_1, parent_2)\n",
        "        new_population.append(child_1)\n",
        "        new_population.append(child_2)\n",
        "    \n",
        "    population = np.array(new_population)\n",
        "\n",
        "    mutation_rate = 0.002\n",
        "    population = randomly_mutate_population(population, mutation_rate)\n",
        "    \n",
        "    scores = calculate_fitness(reference, population)\n",
        "    best_score = np.max(scores)/chromosome_length * 100\n",
        "    best_score_progress.append(best_score)\n",
        "\n",
        "\n",
        "print ('End best score, % target: ', best_score)\n",
        "\n",
        "# Plot progress\n",
        "import matplotlib.pyplot as plt\n",
        "plt.plot(best_score_progress)\n",
        "plt.xlabel('Generation')\n",
        "plt.ylabel('Best score (% target)')\n",
        "plt.show()"
      ],
      "execution_count": 14,
      "outputs": [
        {
          "output_type": "stream",
          "text": [
            "Starting best score, % target:  80.0\n",
            "End best score, % target:  100.0\n"
          ],
          "name": "stdout"
        },
        {
          "output_type": "display_data",
          "data": {
            "image/png": "[encoded data removed]",
            "text/plain": [
              "<Figure size 432x288 with 1 Axes>"
            ]
          },
          "metadata": {
            "tags": [],
            "needs_background": "light"
          }
        }
      ]
    },
    {
      "cell_type": "code",
      "metadata": {
        "id": "AySlI6rP6yyM"
      },
      "source": [
        ""
      ],
      "execution_count": null,
      "outputs": []
    }
  ]
}