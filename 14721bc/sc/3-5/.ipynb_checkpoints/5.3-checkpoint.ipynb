{
 "cells": [
  {
   "cell_type": "markdown",
   "metadata": {},
   "source": [
    "#### https://www.youtube.com/watch?v=eS7WIM9tkNs&ab_channel=btechtutorial"
   ]
  },
  {
   "cell_type": "code",
   "execution_count": 1,
   "metadata": {},
   "outputs": [],
   "source": [
    "import numpy as np"
   ]
  },
  {
   "cell_type": "code",
   "execution_count": 2,
   "metadata": {},
   "outputs": [],
   "source": [
    "A = [[0.6, 0.3], \n",
    "     [0.2,0.9]] \n",
    "  \n",
    "B = [[1,0.5,0.3], \n",
    "    [0.8,0.4,0.7]] \n",
    "      \n",
    "x=int()"
   ]
  },
  {
   "cell_type": "code",
   "execution_count": 3,
   "metadata": {},
   "outputs": [],
   "source": [
    "#max-min composition\n",
    "# r=np.zeros(len(A),len(B[0]))  \n",
    "r=np.zeros_like(B) #temp \n",
    "count=0\n",
    "for i in range(len(A)): \n",
    "    for j in range(len(B)): \n",
    "        for k in range(len(B[0])): \n",
    "            r[j][k]=max((min(A[i][j],B[j][k])),r[j][k])"
   ]
  },
  {
   "cell_type": "code",
   "execution_count": 4,
   "metadata": {},
   "outputs": [
    {
     "data": {
      "text/plain": [
       "array([[0.6, 0.5, 0.3],\n",
       "       [0.8, 0.4, 0.7]])"
      ]
     },
     "execution_count": 4,
     "metadata": {},
     "output_type": "execute_result"
    }
   ],
   "source": [
    "r"
   ]
  },
  {
   "cell_type": "code",
   "execution_count": 5,
   "metadata": {},
   "outputs": [],
   "source": [
    "#max-product composition\n",
    "# r=np.zeros(len(A),len(B[0]))  \n",
    "r2=np.zeros_like(B) #temp \n",
    "count=0\n",
    "for i in range(len(A)): \n",
    "    for j in range(len(B)): \n",
    "        for k in range(len(B[0])):\n",
    "            r2[j][k]=max((A[i][j]*B[j][k]),r2[j][k])"
   ]
  },
  {
   "cell_type": "code",
   "execution_count": 6,
   "metadata": {},
   "outputs": [
    {
     "data": {
      "text/plain": [
       "array([[0.6 , 0.3 , 0.18],\n",
       "       [0.72, 0.36, 0.63]])"
      ]
     },
     "execution_count": 6,
     "metadata": {},
     "output_type": "execute_result"
    }
   ],
   "source": [
    "r2"
   ]
  },
  {
   "cell_type": "code",
   "execution_count": null,
   "metadata": {},
   "outputs": [],
   "source": []
  }
 ],
 "metadata": {
  "kernelspec": {
   "display_name": "Python 3",
   "language": "python",
   "name": "python3"
  },
  "language_info": {
   "codemirror_mode": {
    "name": "ipython",
    "version": 3
   },
   "file_extension": ".py",
   "mimetype": "text/x-python",
   "name": "python",
   "nbconvert_exporter": "python",
   "pygments_lexer": "ipython3",
   "version": "3.8.6"
  }
 },
 "nbformat": 4,
 "nbformat_minor": 4
}
