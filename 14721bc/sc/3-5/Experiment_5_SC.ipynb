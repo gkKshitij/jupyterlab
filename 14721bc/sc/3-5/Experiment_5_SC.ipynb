{
 "cells": [
  {
   "cell_type": "code",
   "execution_count": 1,
   "metadata": {
    "colab": {
     "base_uri": "https://localhost:8080/"
    },
    "id": "eT8cRb_IZ2ar",
    "outputId": "4402745b-a552-42a8-e309-33ac1d27c218"
   },
   "outputs": [
    {
     "name": "stdout",
     "output_type": "stream",
     "text": [
      "Requirement already satisfied: scikit-fuzzy in /usr/local/lib/python3.7/dist-packages (0.4.2)\n",
      "Requirement already satisfied: scipy>=0.9.0 in /usr/local/lib/python3.7/dist-packages (from scikit-fuzzy) (1.4.1)\n",
      "Requirement already satisfied: numpy>=1.6.0 in /usr/local/lib/python3.7/dist-packages (from scikit-fuzzy) (1.19.5)\n",
      "Requirement already satisfied: networkx>=1.9.0 in /usr/local/lib/python3.7/dist-packages (from scikit-fuzzy) (2.5)\n",
      "Requirement already satisfied: decorator>=4.3.0 in /usr/local/lib/python3.7/dist-packages (from networkx>=1.9.0->scikit-fuzzy) (4.4.2)\n"
     ]
    }
   ],
   "source": [
    "pip install scikit-fuzzy"
   ]
  },
  {
   "cell_type": "code",
   "execution_count": 23,
   "metadata": {
    "id": "AnFHYY-faAAD"
   },
   "outputs": [],
   "source": [
    "import skfuzzy as sf"
   ]
  },
  {
   "cell_type": "code",
   "execution_count": 24,
   "metadata": {
    "colab": {
     "base_uri": "https://localhost:8080/"
    },
    "id": "Exqvb-Q3eRh4",
    "outputId": "cac0e996-b04f-41d2-ebbd-79d3d7355133"
   },
   "outputs": [
    {
     "name": "stdout",
     "output_type": "stream",
     "text": [
      "The two fuxxy sets are:\n",
      "X = {'x1': 0.3, 'x2': 0.7, 'x3': 1}\n",
      "Y = {'y1': 0.4, 'y2': 0.9}\n"
     ]
    }
   ],
   "source": [
    "#Taking 2 Fuzzzy sets\r\n",
    "x = {'x1': 0.3, 'x2': 0.7, 'x3': 1}\r\n",
    "y = {'y1': 0.4, 'y2': 0.9}\r\n",
    "\r\n",
    "print(\"The two fuxxy sets are:\") \r\n",
    "print(\"X = \"+ str(x))\r\n",
    "print(\"Y = \"+ str(y))"
   ]
  },
  {
   "cell_type": "code",
   "execution_count": 25,
   "metadata": {
    "colab": {
     "base_uri": "https://localhost:8080/"
    },
    "id": "5gPUApIQfrCq",
    "outputId": "fddc35d6-7e30-4734-bb5e-b658fecdbb9a"
   },
   "outputs": [
    {
     "name": "stdout",
     "output_type": "stream",
     "text": [
      "[0.3, 0.7, 1]\n",
      "[0.4, 0.9]\n"
     ]
    }
   ],
   "source": [
    "#Extracting the values from dict\r\n",
    "\r\n",
    "X = list(x.values())\r\n",
    "Y = list(y.values())\r\n",
    "print(X)\r\n",
    "print(Y)"
   ]
  },
  {
   "cell_type": "markdown",
   "metadata": {
    "id": "OCLmMk4ch73w"
   },
   "source": [
    "## **Calculating Cartesian Product**"
   ]
  },
  {
   "cell_type": "code",
   "execution_count": 26,
   "metadata": {
    "colab": {
     "base_uri": "https://localhost:8080/"
    },
    "id": "FbXbkmdihcEt",
    "outputId": "e4e1c5c3-8c00-4134-8b5e-310c26763ed0"
   },
   "outputs": [
    {
     "name": "stdout",
     "output_type": "stream",
     "text": [
      "The Cartesian Product of the fuzzy sets are:\n"
     ]
    },
    {
     "data": {
      "text/plain": [
       "array([[0.3, 0.3],\n",
       "       [0.4, 0.7],\n",
       "       [0.4, 0.9]])"
      ]
     },
     "execution_count": 26,
     "metadata": {
      "tags": []
     },
     "output_type": "execute_result"
    }
   ],
   "source": [
    "print(\"The Cartesian Product of the fuzzy sets are:\")\r\n",
    "sf.fuzzymath.cartprod(X, Y)"
   ]
  },
  {
   "cell_type": "markdown",
   "metadata": {
    "id": "u6NFgWBZ0-xc"
   },
   "source": [
    "## **Union, Intersection, Complement & Difference operations on Fuzzy sets**\r\n"
   ]
  },
  {
   "cell_type": "code",
   "execution_count": 12,
   "metadata": {
    "colab": {
     "base_uri": "https://localhost:8080/"
    },
    "id": "riTcZ8xKiJmq",
    "outputId": "e2bec411-85f4-48b3-f844-6de10742e565"
   },
   "outputs": [
    {
     "name": "stdout",
     "output_type": "stream",
     "text": [
      "The First Fuzzy Set is : {'a': 0.3, 'b': 0.7, 'c': 0.6, 'd': 0.9}\n",
      "The Second Fuzzy Set is : {'a': 0.9, 'b': 0.8, 'c': 0.4, 'd': 0.6}\n",
      "Fuzzy Set Union is : {'a': 0.9, 'b': 0.8, 'c': 0.6, 'd': 0.9}\n"
     ]
    }
   ],
   "source": [
    "A = dict() \r\n",
    "B = dict() \r\n",
    "Y = dict() \r\n",
    "  \r\n",
    "A = {\"a\": 0.3, \"b\": 0.7, \"c\": 0.6, \"d\": 0.9} \r\n",
    "B = {\"a\": 0.9, \"b\": 0.8, \"c\": 0.4, \"d\": 0.6} \r\n",
    "  \r\n",
    "print('The First Fuzzy Set is :', A) \r\n",
    "print('The Second Fuzzy Set is :', B) \r\n",
    "  \r\n",
    "#Union  \r\n",
    "for A_key, B_key in zip(A, B): \r\n",
    "    A_value = A[A_key] \r\n",
    "    B_value = B[B_key] \r\n",
    "  \r\n",
    "    if A_value > B_value: \r\n",
    "        Y[A_key] = A_value \r\n",
    "    else: \r\n",
    "        Y[B_key] = B_value \r\n",
    "          \r\n",
    "print('Fuzzy Set Union is :', Y) "
   ]
  },
  {
   "cell_type": "code",
   "execution_count": 13,
   "metadata": {
    "colab": {
     "base_uri": "https://localhost:8080/"
    },
    "id": "S-dDH8NfvYef",
    "outputId": "371c4ddf-7559-4082-a9e3-5785f2e53856"
   },
   "outputs": [
    {
     "name": "stdout",
     "output_type": "stream",
     "text": [
      "Fuzzy Set Intersection is : {'a': 0.3, 'b': 0.7, 'c': 0.4, 'd': 0.6}\n"
     ]
    }
   ],
   "source": [
    "#Intersection\r\n",
    "for A_key, B_key in zip(A, B): \r\n",
    "    A_value = A[A_key] \r\n",
    "    B_value = B[B_key] \r\n",
    "  \r\n",
    "    if A_value < B_value: \r\n",
    "        Y[A_key] = A_value \r\n",
    "    else: \r\n",
    "        Y[B_key] = B_value \r\n",
    "print('Fuzzy Set Intersection is :', Y) "
   ]
  },
  {
   "cell_type": "code",
   "execution_count": 14,
   "metadata": {
    "colab": {
     "base_uri": "https://localhost:8080/"
    },
    "id": "Xw3tYBqxvc7Y",
    "outputId": "e6c62d0f-492b-44bb-c048-766f93bddb30"
   },
   "outputs": [
    {
     "name": "stdout",
     "output_type": "stream",
     "text": [
      "The Fuzzy Set is : {'a': 0.2, 'b': 0.3, 'c': 0.6, 'd': 0.6}\n",
      "Fuzzy Set Complement is : {'a': 0.8, 'b': 0.7, 'c': 0.4, 'd': 0.4}\n"
     ]
    }
   ],
   "source": [
    "#Complement\r\n",
    "H = {\"a\": 0.2, \"b\": 0.3, \"c\": 0.6, \"d\": 0.6} \r\n",
    "  \r\n",
    "print('The Fuzzy Set is :', H) \r\n",
    "  \r\n",
    "  \r\n",
    "for H_key in H: \r\n",
    "   Y[H_key]= 1-H[H_key] \r\n",
    "          \r\n",
    "print('Fuzzy Set Complement is :', Y) "
   ]
  },
  {
   "cell_type": "code",
   "execution_count": 19,
   "metadata": {
    "colab": {
     "base_uri": "https://localhost:8080/"
    },
    "id": "buOE9trHwg2P",
    "outputId": "af1ec7e0-6937-4cac-ae97-4b82a8fa11ea"
   },
   "outputs": [
    {
     "name": "stdout",
     "output_type": "stream",
     "text": [
      "The First Fuzzy Set is : {'a': 0.2, 'b': 0.3, 'c': 0.6, 'd': 0.6}\n",
      "The Second Fuzzy Set is : {'a': 0.7, 'b': 0.1, 'c': 0.4, 'd': 0.5}\n",
      "Fuzzy Set Difference is : {'a': 0.2, 'b': 0.3, 'c': 0.6, 'd': 0.5}\n"
     ]
    }
   ],
   "source": [
    "#Difference\r\n",
    "A = dict() \r\n",
    "B = dict() \r\n",
    "Y = dict() \r\n",
    "  \r\n",
    "A = {\"a\": 0.2, \"b\": 0.3, \"c\": 0.6, \"d\": 0.6} \r\n",
    "B = {\"a\": 0.7, \"b\": 0.1, \"c\": 0.4, \"d\": 0.5} \r\n",
    "  \r\n",
    "for A_key, B_key in zip(A, B): \r\n",
    "    A_value = A[A_key] \r\n",
    "    B_value = B[B_key] \r\n",
    "    B_value = 1 - B_value \r\n",
    "  \r\n",
    "    if A_value < B_value: \r\n",
    "        Y[A_key] = A_value \r\n",
    "    else: \r\n",
    "        Y[B_key] = B_value \r\n",
    "          \r\n",
    "print('Fuzzy Set Difference is :', Y) "
   ]
  },
  {
   "cell_type": "markdown",
   "metadata": {
    "id": "hH6ksCvp0tw3"
   },
   "source": [
    "## **Min-Max Composition and Max-Product** "
   ]
  },
  {
   "cell_type": "code",
   "execution_count": 21,
   "metadata": {
    "colab": {
     "base_uri": "https://localhost:8080/"
    },
    "id": "MV-7VTAsw4y0",
    "outputId": "fc2524f0-0629-4aea-ba68-1ece6a2e8568"
   },
   "outputs": [
    {
     "name": "stdout",
     "output_type": "stream",
     "text": [
      "Max-Min for 1st and 2nd array :\n",
      "[[0.6 0.6 0. ]\n",
      " [0.3 0.3 0.1]\n",
      " [0.  0.5 0.1]]\n",
      "\n",
      "Max-Product for 1st and 2nd array :\n",
      "[[0.6  0.6  0.  ]\n",
      " [0.18 0.18 0.02]\n",
      " [0.   0.3  0.05]]\n",
      "\n",
      "\n",
      "Max-Min for 1st and 3rd array :\n",
      "[[1.  0.  0.7]\n",
      " [0.3 0.2 0.3]\n",
      " [0.7 0.5 1. ]]\n",
      "\n",
      "Max-Product for 1st and 3rd array :\n",
      "[[1.   0.   0.7 ]\n",
      " [0.3  0.2  0.21]\n",
      " [0.7  0.5  1.  ]]\n",
      "\n",
      "\n",
      "Max-Min for the 3 arrays :\n",
      "[[0.6 0.6 0.6]\n",
      " [0.3 0.3 0.3]\n",
      " [0.1 0.5 0.1]]\n",
      "\n",
      "Max-Product for the 3 arrays :\n",
      "[[0.6   0.6   0.42 ]\n",
      " [0.18  0.18  0.126]\n",
      " [0.035 0.3   0.05 ]]\n",
      "\n",
      "\n"
     ]
    }
   ],
   "source": [
    "import numpy as np\r\n",
    "\r\n",
    "# Max-Min Composition \r\n",
    "def maxMin(x, y):\r\n",
    "    z = []\r\n",
    "    for x1 in x:\r\n",
    "        for y1 in y.T:\r\n",
    "            z.append(max(np.minimum(x1, y1)))\r\n",
    "    return np.array(z).reshape((x.shape[0], y.shape[1]))\r\n",
    "\r\n",
    "# Max-Product Composition \r\n",
    "def maxProduct(x, y):\r\n",
    "    z = []\r\n",
    "    for x1 in x:\r\n",
    "        for y1 in y.T:\r\n",
    "            z.append(max(np.multiply(x1, y1)))\r\n",
    "    return np.array(z).reshape((x.shape[0], y.shape[1]))\r\n",
    "\r\n",
    "# Taking 3 arrays for the example\r\n",
    "arr1 = np.array([[1, 0, .7], [.3, .2, 0], [0, .5, 1]])\r\n",
    "arr2 = np.array([[.6, .6, 0], [0, .6, .1], [0, .1, 0]])\r\n",
    "arr3 = np.array([[1, 0, .7], [0, 1, 0], [.7, 0, 1]])\r\n",
    "\r\n",
    "print (\"Max-Min for 1st and 2nd array :\\n\" + str(maxMin(arr1, arr2)) + \"\\n\")\r\n",
    "print (\"Max-Product for 1st and 2nd array :\\n\" + str(maxProduct(arr1, arr2)) + \"\\n\\n\")\r\n",
    "\r\n",
    "print (\"Max-Min for 1st and 3rd array :\\n\" + str(maxMin(arr1, arr3)) + \"\\n\")\r\n",
    "print (\"Max-Product for 1st and 3rd array :\\n\" + str(maxProduct(arr1, arr3)) + \"\\n\\n\")\r\n",
    "\r\n",
    "print (\"Max-Min for the 3 arrays :\\n\" + str(maxMin(arr1, maxMin(arr2, arr3))) + \"\\n\")\r\n",
    "print (\"Max-Product for the 3 arrays :\\n\" + str(maxProduct(arr1, maxProduct(arr2, arr3))) + \"\\n\\n\")\r\n"
   ]
  },
  {
   "cell_type": "code",
   "execution_count": null,
   "metadata": {
    "id": "P5vlJKG_1DM9"
   },
   "outputs": [],
   "source": []
  }
 ],
 "metadata": {
  "colab": {
   "name": "Experiment 5 SC.ipynb",
   "provenance": []
  },
  "kernelspec": {
   "display_name": "Python 3",
   "language": "python",
   "name": "python3"
  },
  "language_info": {
   "codemirror_mode": {
    "name": "ipython",
    "version": 3
   },
   "file_extension": ".py",
   "mimetype": "text/x-python",
   "name": "python",
   "nbconvert_exporter": "python",
   "pygments_lexer": "ipython3",
   "version": "3.8.6"
  }
 },
 "nbformat": 4,
 "nbformat_minor": 4
}
