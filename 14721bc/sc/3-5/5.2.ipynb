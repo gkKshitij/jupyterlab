{
 "cells": [
  {
   "cell_type": "markdown",
   "metadata": {},
   "source": [
    "#### pg 286"
   ]
  },
  {
   "cell_type": "code",
   "execution_count": 1,
   "metadata": {},
   "outputs": [],
   "source": [
    "import numpy as np"
   ]
  },
  {
   "cell_type": "code",
   "execution_count": 2,
   "metadata": {},
   "outputs": [],
   "source": [
    "A = [2,4]"
   ]
  },
  {
   "cell_type": "code",
   "execution_count": 3,
   "metadata": {},
   "outputs": [],
   "source": [
    "B=['a','b','c']"
   ]
  },
  {
   "cell_type": "code",
   "execution_count": 4,
   "metadata": {},
   "outputs": [],
   "source": [
    "def kartesian(arr1, arr2):\n",
    "    n=len(arr1)\n",
    "    n1=len(arr2)\n",
    "    for i in range(0,n): \n",
    "        for j in range(0,n1): \n",
    "            print(\"{\",arr1[i],\", \",arr2[j],\"}, \") "
   ]
  },
  {
   "cell_type": "code",
   "execution_count": 5,
   "metadata": {},
   "outputs": [
    {
     "name": "stdout",
     "output_type": "stream",
     "text": [
      "{ 2 ,  a }, \n",
      "{ 2 ,  b }, \n",
      "{ 2 ,  c }, \n",
      "{ 4 ,  a }, \n",
      "{ 4 ,  b }, \n",
      "{ 4 ,  c }, \n"
     ]
    }
   ],
   "source": [
    "kartesian(A,B)"
   ]
  },
  {
   "cell_type": "code",
   "execution_count": 6,
   "metadata": {},
   "outputs": [
    {
     "name": "stdout",
     "output_type": "stream",
     "text": [
      "{ a ,  2 }, \n",
      "{ a ,  4 }, \n",
      "{ b ,  2 }, \n",
      "{ b ,  4 }, \n",
      "{ c ,  2 }, \n",
      "{ c ,  4 }, \n"
     ]
    }
   ],
   "source": [
    "kartesian(B,A)"
   ]
  },
  {
   "cell_type": "code",
   "execution_count": 7,
   "metadata": {},
   "outputs": [
    {
     "name": "stdout",
     "output_type": "stream",
     "text": [
      "{ 2 ,  2 }, \n",
      "{ 2 ,  4 }, \n",
      "{ 4 ,  2 }, \n",
      "{ 4 ,  4 }, \n"
     ]
    }
   ],
   "source": [
    "kartesian(A,A)"
   ]
  },
  {
   "cell_type": "code",
   "execution_count": 8,
   "metadata": {},
   "outputs": [
    {
     "name": "stdout",
     "output_type": "stream",
     "text": [
      "{ a ,  a }, \n",
      "{ a ,  b }, \n",
      "{ a ,  c }, \n",
      "{ b ,  a }, \n",
      "{ b ,  b }, \n",
      "{ b ,  c }, \n",
      "{ c ,  a }, \n",
      "{ c ,  b }, \n",
      "{ c ,  c }, \n"
     ]
    }
   ],
   "source": [
    "kartesian(B,B)"
   ]
  },
  {
   "cell_type": "code",
   "execution_count": null,
   "metadata": {},
   "outputs": [],
   "source": []
  }
 ],
 "metadata": {
  "kernelspec": {
   "display_name": "Python 3",
   "language": "python",
   "name": "python3"
  },
  "language_info": {
   "codemirror_mode": {
    "name": "ipython",
    "version": 3
   },
   "file_extension": ".py",
   "mimetype": "text/x-python",
   "name": "python",
   "nbconvert_exporter": "python",
   "pygments_lexer": "ipython3",
   "version": "3.8.6"
  }
 },
 "nbformat": 4,
 "nbformat_minor": 4
}
