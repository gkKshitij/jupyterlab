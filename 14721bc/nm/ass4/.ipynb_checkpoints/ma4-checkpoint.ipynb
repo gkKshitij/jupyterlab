{
 "cells": [
  {
   "cell_type": "code",
   "execution_count": 1,
   "id": "overall-savings",
   "metadata": {},
   "outputs": [],
   "source": [
    "import pandas as pd\n",
    "import numpy as np\n",
    "import yfinance as yf\n",
    "import matplotlib.pyplot as plt"
   ]
  },
  {
   "cell_type": "markdown",
   "id": "exact-announcement",
   "metadata": {},
   "source": [
    "## 1"
   ]
  },
  {
   "cell_type": "markdown",
   "id": "republican-prophet",
   "metadata": {},
   "source": [
    "\n",
    "https://in.finance.yahoo.com/quote/INFY.NS/history?p=INFY.NS&.tsrc=fin-srch\n",
    "\n",
    "https://in.finance.yahoo.com/quote/%5ENSEI/history?p=%5ENSEI&.tsrc=fin-srch"
   ]
  },
  {
   "cell_type": "code",
   "execution_count": 2,
   "id": "average-delta",
   "metadata": {},
   "outputs": [],
   "source": [
    "df1 = yf.download('INFY.NS',start='2020-03-17',end='2021-03-19',progress=False)"
   ]
  },
  {
   "cell_type": "code",
   "execution_count": 3,
   "id": "important-campaign",
   "metadata": {},
   "outputs": [],
   "source": [
    "df2 = yf.download('^NSEI',start='2020-03-17',end='2021-03-19',progress=False)"
   ]
  },
  {
   "cell_type": "code",
   "execution_count": 4,
   "id": "aerial-alias",
   "metadata": {},
   "outputs": [],
   "source": [
    "df1t=df1\n",
    "df2t=df2"
   ]
  },
  {
   "cell_type": "markdown",
   "id": "wired-sequence",
   "metadata": {},
   "source": [
    "## 2"
   ]
  },
  {
   "cell_type": "code",
   "execution_count": 5,
   "id": "static-interstate",
   "metadata": {},
   "outputs": [],
   "source": [
    "df1t.drop(df1t.columns[[0,1,2,3,5]], axis = 1, inplace = True) \n",
    "df2t.drop(df2t.columns[[0,1,2,3,5]], axis = 1, inplace = True) "
   ]
  },
  {
   "cell_type": "code",
   "execution_count": 14,
   "id": "selected-caution",
   "metadata": {},
   "outputs": [],
   "source": [
    "df1t.rename(columns = {'Adj Close':'adjclose'}, inplace = True)\n",
    "df2t.rename(columns = {'Adj Close':'adjclose'}, inplace = True)"
   ]
  },
  {
   "cell_type": "code",
   "execution_count": 16,
   "id": "opening-roller",
   "metadata": {},
   "outputs": [],
   "source": []
  },
  {
   "cell_type": "code",
   "execution_count": 15,
   "id": "exceptional-mixer",
   "metadata": {},
   "outputs": [
    {
     "data": {
      "text/html": [
       "<div>\n",
       "<style scoped>\n",
       "    .dataframe tbody tr th:only-of-type {\n",
       "        vertical-align: middle;\n",
       "    }\n",
       "\n",
       "    .dataframe tbody tr th {\n",
       "        vertical-align: top;\n",
       "    }\n",
       "\n",
       "    .dataframe thead th {\n",
       "        text-align: right;\n",
       "    }\n",
       "</style>\n",
       "<table border=\"1\" class=\"dataframe\">\n",
       "  <thead>\n",
       "    <tr style=\"text-align: right;\">\n",
       "      <th></th>\n",
       "      <th>adjclose</th>\n",
       "    </tr>\n",
       "    <tr>\n",
       "      <th>Date</th>\n",
       "      <th></th>\n",
       "    </tr>\n",
       "  </thead>\n",
       "  <tbody>\n",
       "    <tr>\n",
       "      <th>2020-03-17</th>\n",
       "      <td>541.678284</td>\n",
       "    </tr>\n",
       "    <tr>\n",
       "      <th>2020-03-18</th>\n",
       "      <td>521.522156</td>\n",
       "    </tr>\n",
       "    <tr>\n",
       "      <th>2020-03-19</th>\n",
       "      <td>532.503113</td>\n",
       "    </tr>\n",
       "    <tr>\n",
       "      <th>2020-03-20</th>\n",
       "      <td>571.204834</td>\n",
       "    </tr>\n",
       "    <tr>\n",
       "      <th>2020-03-23</th>\n",
       "      <td>513.859863</td>\n",
       "    </tr>\n",
       "    <tr>\n",
       "      <th>...</th>\n",
       "      <td>...</td>\n",
       "    </tr>\n",
       "    <tr>\n",
       "      <th>2021-03-12</th>\n",
       "      <td>1374.849976</td>\n",
       "    </tr>\n",
       "    <tr>\n",
       "      <th>2021-03-15</th>\n",
       "      <td>1373.599976</td>\n",
       "    </tr>\n",
       "    <tr>\n",
       "      <th>2021-03-16</th>\n",
       "      <td>1384.000000</td>\n",
       "    </tr>\n",
       "    <tr>\n",
       "      <th>2021-03-17</th>\n",
       "      <td>1387.000000</td>\n",
       "    </tr>\n",
       "    <tr>\n",
       "      <th>2021-03-18</th>\n",
       "      <td>1337.099976</td>\n",
       "    </tr>\n",
       "  </tbody>\n",
       "</table>\n",
       "<p>251 rows × 1 columns</p>\n",
       "</div>"
      ],
      "text/plain": [
       "               adjclose\n",
       "Date                   \n",
       "2020-03-17   541.678284\n",
       "2020-03-18   521.522156\n",
       "2020-03-19   532.503113\n",
       "2020-03-20   571.204834\n",
       "2020-03-23   513.859863\n",
       "...                 ...\n",
       "2021-03-12  1374.849976\n",
       "2021-03-15  1373.599976\n",
       "2021-03-16  1384.000000\n",
       "2021-03-17  1387.000000\n",
       "2021-03-18  1337.099976\n",
       "\n",
       "[251 rows x 1 columns]"
      ]
     },
     "execution_count": 15,
     "metadata": {},
     "output_type": "execute_result"
    }
   ],
   "source": [
    "df1t"
   ]
  },
  {
   "cell_type": "code",
   "execution_count": 17,
   "id": "designing-river",
   "metadata": {},
   "outputs": [
    {
     "data": {
      "text/plain": [
       "Date\n",
       "2020-03-17     541.678284\n",
       "2020-03-18     521.522156\n",
       "2020-03-19     532.503113\n",
       "2020-03-20     571.204834\n",
       "2020-03-23     513.859863\n",
       "                 ...     \n",
       "2021-03-12    1374.849976\n",
       "2021-03-15    1373.599976\n",
       "2021-03-16    1384.000000\n",
       "2021-03-17    1387.000000\n",
       "2021-03-18    1337.099976\n",
       "Name: adjclose, Length: 251, dtype: float64"
      ]
     },
     "execution_count": 17,
     "metadata": {},
     "output_type": "execute_result"
    }
   ],
   "source": [
    "df1t.adjclose"
   ]
  },
  {
   "cell_type": "code",
   "execution_count": 20,
   "id": "lucky-philip",
   "metadata": {},
   "outputs": [
    {
     "data": {
      "text/plain": [
       "Date\n",
       "2020-03-17     8967.049805\n",
       "2020-03-18     8468.799805\n",
       "2020-03-19     8263.450195\n",
       "2020-03-20     8745.450195\n",
       "2020-03-23     7610.250000\n",
       "                  ...     \n",
       "2021-03-12    15030.950195\n",
       "2021-03-15    14929.500000\n",
       "2021-03-16    14910.450195\n",
       "2021-03-17    14721.299805\n",
       "2021-03-18    14557.849609\n",
       "Name: adjclose, Length: 250, dtype: float64"
      ]
     },
     "execution_count": 20,
     "metadata": {},
     "output_type": "execute_result"
    }
   ],
   "source": [
    "df2t.adjclose"
   ]
  },
  {
   "cell_type": "code",
   "execution_count": 21,
   "id": "annual-alpha",
   "metadata": {},
   "outputs": [],
   "source": [
    "df3t=pd.merge(df1t, df2t, on='Date')"
   ]
  },
  {
   "cell_type": "code",
   "execution_count": 22,
   "id": "absent-might",
   "metadata": {},
   "outputs": [
    {
     "data": {
      "text/html": [
       "<div>\n",
       "<style scoped>\n",
       "    .dataframe tbody tr th:only-of-type {\n",
       "        vertical-align: middle;\n",
       "    }\n",
       "\n",
       "    .dataframe tbody tr th {\n",
       "        vertical-align: top;\n",
       "    }\n",
       "\n",
       "    .dataframe thead th {\n",
       "        text-align: right;\n",
       "    }\n",
       "</style>\n",
       "<table border=\"1\" class=\"dataframe\">\n",
       "  <thead>\n",
       "    <tr style=\"text-align: right;\">\n",
       "      <th></th>\n",
       "      <th>adjclose_x</th>\n",
       "      <th>adjclose_y</th>\n",
       "    </tr>\n",
       "    <tr>\n",
       "      <th>Date</th>\n",
       "      <th></th>\n",
       "      <th></th>\n",
       "    </tr>\n",
       "  </thead>\n",
       "  <tbody>\n",
       "    <tr>\n",
       "      <th>2020-03-17</th>\n",
       "      <td>541.678284</td>\n",
       "      <td>8967.049805</td>\n",
       "    </tr>\n",
       "    <tr>\n",
       "      <th>2020-03-18</th>\n",
       "      <td>521.522156</td>\n",
       "      <td>8468.799805</td>\n",
       "    </tr>\n",
       "    <tr>\n",
       "      <th>2020-03-19</th>\n",
       "      <td>532.503113</td>\n",
       "      <td>8263.450195</td>\n",
       "    </tr>\n",
       "    <tr>\n",
       "      <th>2020-03-20</th>\n",
       "      <td>571.204834</td>\n",
       "      <td>8745.450195</td>\n",
       "    </tr>\n",
       "    <tr>\n",
       "      <th>2020-03-23</th>\n",
       "      <td>513.859863</td>\n",
       "      <td>7610.250000</td>\n",
       "    </tr>\n",
       "    <tr>\n",
       "      <th>...</th>\n",
       "      <td>...</td>\n",
       "      <td>...</td>\n",
       "    </tr>\n",
       "    <tr>\n",
       "      <th>2021-03-12</th>\n",
       "      <td>1374.849976</td>\n",
       "      <td>15030.950195</td>\n",
       "    </tr>\n",
       "    <tr>\n",
       "      <th>2021-03-15</th>\n",
       "      <td>1373.599976</td>\n",
       "      <td>14929.500000</td>\n",
       "    </tr>\n",
       "    <tr>\n",
       "      <th>2021-03-16</th>\n",
       "      <td>1384.000000</td>\n",
       "      <td>14910.450195</td>\n",
       "    </tr>\n",
       "    <tr>\n",
       "      <th>2021-03-17</th>\n",
       "      <td>1387.000000</td>\n",
       "      <td>14721.299805</td>\n",
       "    </tr>\n",
       "    <tr>\n",
       "      <th>2021-03-18</th>\n",
       "      <td>1337.099976</td>\n",
       "      <td>14557.849609</td>\n",
       "    </tr>\n",
       "  </tbody>\n",
       "</table>\n",
       "<p>250 rows × 2 columns</p>\n",
       "</div>"
      ],
      "text/plain": [
       "             adjclose_x    adjclose_y\n",
       "Date                                 \n",
       "2020-03-17   541.678284   8967.049805\n",
       "2020-03-18   521.522156   8468.799805\n",
       "2020-03-19   532.503113   8263.450195\n",
       "2020-03-20   571.204834   8745.450195\n",
       "2020-03-23   513.859863   7610.250000\n",
       "...                 ...           ...\n",
       "2021-03-12  1374.849976  15030.950195\n",
       "2021-03-15  1373.599976  14929.500000\n",
       "2021-03-16  1384.000000  14910.450195\n",
       "2021-03-17  1387.000000  14721.299805\n",
       "2021-03-18  1337.099976  14557.849609\n",
       "\n",
       "[250 rows x 2 columns]"
      ]
     },
     "execution_count": 22,
     "metadata": {},
     "output_type": "execute_result"
    }
   ],
   "source": [
    "df3t"
   ]
  },
  {
   "cell_type": "code",
   "execution_count": 24,
   "id": "elect-hygiene",
   "metadata": {},
   "outputs": [
    {
     "data": {
      "image/png": "[encoded data removed]",
      "text/plain": [
       "<Figure size 432x288 with 1 Axes>"
      ]
     },
     "metadata": {
      "needs_background": "light"
     },
     "output_type": "display_data"
    }
   ],
   "source": [
    "# Plot\n",
    "plt.scatter(df3t.adjclose_x, df3t.adjclose_y)\n",
    "plt.title('Scatter plot pythonspot.com')\n",
    "plt.xlabel('infosys')\n",
    "plt.ylabel('nifty 50')\n",
    "plt.show()"
   ]
  },
  {
   "cell_type": "code",
   "execution_count": null,
   "id": "popular-hygiene",
   "metadata": {},
   "outputs": [],
   "source": []
  },
  {
   "cell_type": "markdown",
   "id": "static-sunset",
   "metadata": {},
   "source": [
    "## 3"
   ]
  },
  {
   "cell_type": "code",
   "execution_count": null,
   "id": "everyday-workshop",
   "metadata": {},
   "outputs": [],
   "source": []
  },
  {
   "cell_type": "code",
   "execution_count": null,
   "id": "equipped-bronze",
   "metadata": {},
   "outputs": [],
   "source": []
  },
  {
   "cell_type": "code",
   "execution_count": null,
   "id": "blond-taste",
   "metadata": {},
   "outputs": [],
   "source": []
  },
  {
   "cell_type": "code",
   "execution_count": null,
   "id": "integrated-strength",
   "metadata": {},
   "outputs": [],
   "source": []
  },
  {
   "cell_type": "code",
   "execution_count": null,
   "id": "fatty-pharmacy",
   "metadata": {},
   "outputs": [],
   "source": []
  }
 ],
 "metadata": {
  "kernelspec": {
   "display_name": "Python 3",
   "language": "python",
   "name": "python3"
  },
  "language_info": {
   "codemirror_mode": {
    "name": "ipython",
    "version": 3
   },
   "file_extension": ".py",
   "mimetype": "text/x-python",
   "name": "python",
   "nbconvert_exporter": "python",
   "pygments_lexer": "ipython3",
   "version": "3.8.8"
  }
 },
 "nbformat": 4,
 "nbformat_minor": 5
}
