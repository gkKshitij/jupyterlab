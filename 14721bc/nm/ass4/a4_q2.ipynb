{
 "cells": [
  {
   "cell_type": "code",
   "execution_count": 1,
   "metadata": {},
   "outputs": [],
   "source": [
    "def f(x):\n",
    "    return ((a)+(b*x)+(c*x*x))"
   ]
  },
  {
   "cell_type": "code",
   "execution_count": 2,
   "metadata": {},
   "outputs": [],
   "source": [
    "xl=[]\n",
    "yl=[]\n",
    "ff=[]"
   ]
  },
  {
   "cell_type": "code",
   "execution_count": 3,
   "metadata": {},
   "outputs": [],
   "source": [
    "a=1\n",
    "b=2\n",
    "c=3"
   ]
  },
  {
   "cell_type": "code",
   "execution_count": 4,
   "metadata": {},
   "outputs": [],
   "source": [
    "tl=[0.05,0.25,0.75,0.95]"
   ]
  },
  {
   "cell_type": "code",
   "execution_count": 5,
   "metadata": {},
   "outputs": [],
   "source": [
    "for i in range(0,11):\n",
    "    xl.append(i/10)\n",
    "    yl.append(f(xl[i]))\n",
    "    ff.append([xl[i],yl[i]])"
   ]
  },
  {
   "cell_type": "code",
   "execution_count": 6,
   "metadata": {},
   "outputs": [
    {
     "data": {
      "text/plain": [
       "[[0.0, 1.0],\n",
       " [0.1, 1.23],\n",
       " [0.2, 1.52],\n",
       " [0.3, 1.87],\n",
       " [0.4, 2.2800000000000002],\n",
       " [0.5, 2.75],\n",
       " [0.6, 3.2800000000000002],\n",
       " [0.7, 3.8699999999999997],\n",
       " [0.8, 4.5200000000000005],\n",
       " [0.9, 5.23],\n",
       " [1.0, 6.0]]"
      ]
     },
     "execution_count": 6,
     "metadata": {},
     "output_type": "execute_result"
    }
   ],
   "source": [
    "ff"
   ]
  },
  {
   "cell_type": "code",
   "execution_count": 7,
   "metadata": {},
   "outputs": [],
   "source": [
    "def li(f,x,n):    #lagrange interpolate \n",
    "    result = 0.0\n",
    "    for i in range(n): \n",
    "        term = f[i][1]\n",
    "        for j in range(n): \n",
    "            if j!= i: \n",
    "                term = ((x - f[j][0]) / (f[i][0] - f[j][0])) * term\n",
    "            else:\n",
    "                continue\n",
    "        result += term \n",
    "    return result "
   ]
  },
  {
   "cell_type": "code",
   "execution_count": 8,
   "metadata": {},
   "outputs": [
    {
     "name": "stdout",
     "output_type": "stream",
     "text": [
      "1.1075000000000002~1.1075000000000041\n",
      "1.6875~1.6875000000000002\n",
      "4.1875~4.187500000000004\n",
      "5.6075~5.60749999999998\n",
      "all the values are matching\n"
     ]
    }
   ],
   "source": [
    "count=0\n",
    "for k in range(len(tl)):\n",
    "#     print(f(tl[k]))\n",
    "#     print(li(ff,tl[k],len(yl)-1))\n",
    "    if abs(f(tl[k])-li(ff,tl[k],len(yl)-1))<10**-10:\n",
    "        print(f\"{f(tl[k])}~{li(ff,tl[k],len(yl)-1)}\")\n",
    "        count=count+1\n",
    "    if count==len(tl):\n",
    "        print(\"all the values are matching\")"
   ]
  },
  {
   "cell_type": "code",
   "execution_count": null,
   "metadata": {},
   "outputs": [],
   "source": []
  },
  {
   "cell_type": "code",
   "execution_count": null,
   "metadata": {},
   "outputs": [],
   "source": []
  }
 ],
 "metadata": {
  "kernelspec": {
   "display_name": "Python 3",
   "language": "python",
   "name": "python3"
  },
  "language_info": {
   "codemirror_mode": {
    "name": "ipython",
    "version": 3
   },
   "file_extension": ".py",
   "mimetype": "text/x-python",
   "name": "python",
   "nbconvert_exporter": "python",
   "pygments_lexer": "ipython3",
   "version": "3.8.6"
  }
 },
 "nbformat": 4,
 "nbformat_minor": 4
}
