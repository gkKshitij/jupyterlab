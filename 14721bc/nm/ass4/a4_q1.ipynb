{
 "cells": [
  {
   "cell_type": "markdown",
   "metadata": {},
   "source": [
    "# consider function x^2=y"
   ]
  },
  {
   "cell_type": "code",
   "execution_count": 1,
   "metadata": {},
   "outputs": [],
   "source": [
    "def dsm(n): #data set maker\n",
    "    f=[]\n",
    "    for i in range(1,n):\n",
    "        x=i\n",
    "        y=x**2\n",
    "        f.append([x,y])\n",
    "    return f        "
   ]
  },
  {
   "cell_type": "code",
   "execution_count": 2,
   "metadata": {},
   "outputs": [
    {
     "name": "stdout",
     "output_type": "stream",
     "text": [
      "[[1, 1], [2, 4], [3, 9], [4, 16], [5, 25], [6, 36], [7, 49], [8, 64], [9, 81], [10, 100]]\n"
     ]
    }
   ],
   "source": [
    "f=dsm(11)\n",
    "print(dsm(11))"
   ]
  },
  {
   "cell_type": "code",
   "execution_count": 3,
   "metadata": {},
   "outputs": [],
   "source": [
    "def li(f,x,n):    #lagrange interpolate \n",
    "    result = 0.0\n",
    "    for i in range(n): \n",
    "        term = f[i][1]\n",
    "        for j in range(n): \n",
    "            if j!= i: \n",
    "                term = ((x - f[j][0]) / (f[i][0] - f[j][0])) * term\n",
    "            else:\n",
    "                continue\n",
    "        result += term \n",
    "    return result "
   ]
  },
  {
   "cell_type": "code",
   "execution_count": 4,
   "metadata": {},
   "outputs": [
    {
     "name": "stdout",
     "output_type": "stream",
     "text": [
      "121.00000000000011\n",
      "144.00000000001455\n",
      "168.99999999973443\n",
      "196.00000000091677\n",
      "224.99999999604188\n"
     ]
    }
   ],
   "source": [
    "for k in range(11,16): #printing 5 immediate x values\n",
    "    print(li(f,k,10))"
   ]
  },
  {
   "cell_type": "markdown",
   "metadata": {},
   "source": [
    "## conclusion: as we can see that values are not exact but close with absolute difference less than 10^-5"
   ]
  }
 ],
 "metadata": {
  "kernelspec": {
   "display_name": "Python 3",
   "language": "python",
   "name": "python3"
  },
  "language_info": {
   "codemirror_mode": {
    "name": "ipython",
    "version": 3
   },
   "file_extension": ".py",
   "mimetype": "text/x-python",
   "name": "python",
   "nbconvert_exporter": "python",
   "pygments_lexer": "ipython3",
   "version": "3.8.6"
  }
 },
 "nbformat": 4,
 "nbformat_minor": 4
}
