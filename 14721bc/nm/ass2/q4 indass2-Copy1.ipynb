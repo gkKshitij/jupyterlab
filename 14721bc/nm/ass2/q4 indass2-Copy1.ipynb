{
 "cells": [
  {
   "cell_type": "code",
   "execution_count": 1,
   "metadata": {},
   "outputs": [],
   "source": [
    "import numpy as np\n",
    "import math\n",
    "from scipy import misc\n",
    "import os"
   ]
  },
  {
   "cell_type": "code",
   "execution_count": 2,
   "metadata": {},
   "outputs": [],
   "source": [
    "def fpi(x0, e, N):\n",
    "    step = 1\n",
    "    flag = 1\n",
    "    #o = 1\n",
    "    condition = True\n",
    "    while condition:\n",
    "        x1 = g(x0)\n",
    "        print(f'Iteration-{step}, x1 = {x1} and f(x1) = {f(x1)}')\n",
    "        x0 = x1\n",
    "        step = step + 1\n",
    "        if step > N:\n",
    "            flag=0\n",
    "            break\n",
    "        condition = abs(f(x1)) > e\n",
    "    if flag==1:\n",
    "        print('\\nRequired root is: %0.2f' % x1)\n",
    "    else:\n",
    "        print('\\nNot Convergent.')"
   ]
  },
  {
   "cell_type": "code",
   "execution_count": null,
   "metadata": {},
   "outputs": [],
   "source": []
  },
  {
   "cell_type": "code",
   "execution_count": 3,
   "metadata": {},
   "outputs": [],
   "source": [
    "def f(x):\n",
    "    return x*x - 2.2*x + 1.2"
   ]
  },
  {
   "cell_type": "code",
   "execution_count": 4,
   "metadata": {},
   "outputs": [],
   "source": [
    "def g(x):\n",
    "    return ((x**2+1.2)/2.2)"
   ]
  },
  {
   "cell_type": "code",
   "execution_count": 5,
   "metadata": {},
   "outputs": [],
   "source": [
    "def gdash(x):\n",
    "    return (2*x/2.2)"
   ]
  },
  {
   "cell_type": "code",
   "execution_count": 16,
   "metadata": {},
   "outputs": [
    {
     "name": "stdout",
     "output_type": "stream",
     "text": [
      "Iteration-1, x1 = 1.0954545454545455 and f(x1) = -0.009979338842975416\n",
      "Iteration-2, x1 = 1.090918482344102 and f(x1) = -0.00991752603706586\n",
      "Iteration-3, x1 = 1.0864105159636175 and f(x1) = -0.009815325923625107\n",
      "Iteration-4, x1 = 1.0819490041801516 and f(x1) = -0.009674161549911853\n",
      "Iteration-5, x1 = 1.0775516580211006 and f(x1) = -0.009496071942398432\n",
      "Iteration-6, x1 = 1.073235261683647 and f(x1) = -0.009283648782857146\n",
      "Iteration-7, x1 = 1.0690154213278027 and f(x1) = -0.009039955884506679\n",
      "Iteration-8, x1 = 1.0649063504712089 and f(x1) = -0.008768435762750881\n",
      "Iteration-9, x1 = 1.060920697851777 and f(x1) = -0.008472808143608068\n",
      "Iteration-10, x1 = 1.057069421422864 and f(x1) = -0.00815696542303268\n",
      "Iteration-11, x1 = 1.05336170986694 and f(x1) = -0.007824869893464648\n",
      "Iteration-12, x1 = 1.049804950824456 and f(x1) = -0.007480457038265165\n",
      "Iteration-13, x1 = 1.04640474307979 and f(x1) = -0.007127548435656994\n",
      "Iteration-14, x1 = 1.0431649483363097 and f(x1) = -0.006769776902385782\n",
      "Iteration-15, x1 = 1.0400877770170434 and f(x1) = -0.006410525537240863\n",
      "Iteration-16, x1 = 1.0371739017728432 and f(x1) = -0.006052881381551689\n",
      "Iteration-17, x1 = 1.034422592053956 and f(x1) = -0.005699603567078215\n",
      "Iteration-18, x1 = 1.0318318631598293 and f(x1) = -0.005353105119740187\n",
      "Iteration-19, x1 = 1.0293986335599477 and f(x1) = -0.005015447056797573\n",
      "Iteration-20, x1 = 1.0271188848977668 and f(x1) = -0.004688343061455491\n",
      "Iteration-21, x1 = 1.0249878198698326 and f(x1) = -0.004373172832119687\n",
      "Iteration-22, x1 = 1.0230000140370508 and f(x1) = -0.004071002161705861\n",
      "Iteration-23, x1 = 1.0211495585090027 and f(x1) = -0.0037826078766751703\n",
      "Iteration-24, x1 = 1.0194301912923323 and f(x1) = -0.0035085059248103345\n",
      "Iteration-25, x1 = 1.017835415871964 and f(x1) = -0.0032489811150673287\n",
      "Iteration-26, x1 = 1.0163586062742063 and f(x1) = -0.0030041172556072304\n",
      "Iteration-27, x1 = 1.0149930984307485 and f(x1) = -0.0027738266855958926\n",
      "Iteration-28, x1 = 1.013732268119114 and f(x1) = -0.0025578784361275364\n",
      "Iteration-29, x1 = 1.0125695961026926 and f(x1) = -0.0023559244743538432\n",
      "Iteration-30, x1 = 1.0114987213416227 and f(x1) = -0.0021675236758325056\n",
      "Iteration-31, x1 = 1.0105134833071534 and f(x1) = -0.0019921633301809294\n",
      "Iteration-32, x1 = 1.0096079545207075 and f(x1) = -0.0018292781140696324\n",
      "Iteration-33, x1 = 1.0087764644688577 and f(x1) = -0.0016782665651986495\n",
      "Iteration-34, x1 = 1.0080136160301312 and f(x1) = -0.0015385051641481073\n",
      "Iteration-35, x1 = 1.007314295500973 and f(x1) = -0.0014093601815192702\n",
      "Iteration-36, x1 = 1.0066736772366462 and f(x1) = -0.0012901974794705673\n",
      "Iteration-37, x1 = 1.006087223836887 and f(x1) = -0.0011803904733374004\n",
      "Iteration-38, x1 = 1.0055506827126428 and f(x1) = -0.001079326463952368\n",
      "Iteration-39, x1 = 1.0050600797744826 and f(x1) = -0.0009864115475728408\n",
      "Iteration-40, x1 = 1.0046117108892223 and f(x1) = -0.0009010743005188893\n",
      "Iteration-41, x1 = 1.0042021316617136 and f(x1) = -0.0008227684218407028\n",
      "Iteration-42, x1 = 1.0038281460154224 and f(x1) = -0.0007509745011695657\n",
      "Iteration-43, x1 = 1.0034867939694363 and f(x1) = -0.0006852010617022231\n",
      "Iteration-44, x1 = 1.0031753389413898 and f(x1) = -0.0006249850108854815\n",
      "Iteration-45, x1 = 1.0028912548455329 and f(x1) = -0.000569891614525142\n",
      "Iteration-46, x1 = 1.002632213202567 and f(x1) = -0.0005195140941698373\n",
      "Iteration-47, x1 = 1.00239607043249 and f(x1) = -0.00047347293298094506\n",
      "\n",
      "Required root is: 1.00\n"
     ]
    }
   ],
   "source": [
    "x0 = 1.10\n",
    "e = 0.0005\n",
    "N = 50\n",
    "fpi(x0,e,N)"
   ]
  },
  {
   "cell_type": "code",
   "execution_count": 19,
   "metadata": {},
   "outputs": [
    {
     "name": "stdout",
     "output_type": "stream",
     "text": [
      "Iteration-1, x1 = 1.2109545454545454 and f(x1) = 0.002310911157024753\n",
      "Iteration-2, x1 = 1.2120049596168292 and f(x1) = 0.0025451109787673065\n",
      "Iteration-3, x1 = 1.2131618282435415 and f(x1) = 0.002805599371420442\n",
      "Iteration-4, x1 = 1.2144371006850962 and f(x1) = 0.003095850013210555\n",
      "Iteration-5, x1 = 1.2158443052365555 and f(x1) = 0.0034199030557398036\n",
      "Iteration-6, x1 = 1.2173988066255284 and f(x1) = 0.003782479797098004\n",
      "Iteration-7, x1 = 1.2191181156242092 and f(x1) = 0.004189125469862498\n",
      "Iteration-8, x1 = 1.2210222635650558 and f(x1) = 0.0046463882784095745\n",
      "Iteration-9, x1 = 1.2231342582370601 and f(x1) = 0.0051620455515906105\n",
      "Iteration-10, x1 = 1.2254806425786922 and f(x1) = 0.005745391661961197\n",
      "Iteration-11, x1 = 1.22809218424322 and f(x1) = 0.006407607664198789\n",
      "Iteration-12, x1 = 1.2310047331814922 and f(x1) = 0.0071622401159536775\n",
      "Iteration-13, x1 = 1.234260296870562 and f(x1) = 0.00802582731577095\n",
      "Iteration-14, x1 = 1.2379084001959126 and f(x1) = 0.009018726844595815\n",
      "Iteration-15, x1 = 1.2420078214889108 and f(x1) = 0.01016622136402634\n",
      "Iteration-16, x1 = 1.246628831199832 and f(x1) = 0.01150001413902868\n",
      "Iteration-17, x1 = 1.2518561103539356 and f(x1) = 0.013060278251826318\n",
      "Iteration-18, x1 = 1.2577926004684021 and f(x1) = 0.014898504762580478\n",
      "Iteration-19, x1 = 1.264564648087757 and f(x1) = 0.017081523400247045\n",
      "Iteration-20, x1 = 1.272328976906051 and f(x1) = 0.019697276281485987\n",
      "Iteration-21, x1 = 1.2812822843067264 and f(x1) = 0.022863266603464272\n",
      "Iteration-22, x1 = 1.291674678217392 and f(x1) = 0.02673918226974048\n",
      "Iteration-23, x1 = 1.3038288519763652 and f(x1) = 0.03154620089800253\n",
      "Iteration-24, x1 = 1.31816803420273 and f(x1) = 0.03759729114788324\n",
      "Iteration-25, x1 = 1.3352577119972224 and f(x1) = 0.045346191054167706\n",
      "Iteration-26, x1 = 1.355869617021844 and f(x1) = 0.05546926091490478\n",
      "Iteration-27, x1 = 1.38108291743771 and f(x1) = 0.06900760647529425\n",
      "Iteration-28, x1 = 1.4124500112901164 and f(x1) = 0.08762500955519337\n",
      "Iteration-29, x1 = 1.4522795610879315 and f(x1) = 0.11410088916030525\n",
      "Iteration-30, x1 = 1.5041436016153429 and f(x1) = 0.1533320507266207\n",
      "Iteration-31, x1 = 1.5738399883092615 and f(x1) = 0.2145243345209209\n",
      "Iteration-32, x1 = 1.6713510494551347 and f(x1) = 0.31644202171348357\n",
      "Iteration-33, x1 = 1.815188332052173 and f(x1) = 0.5014943503035687\n",
      "Iteration-34, x1 = 2.043140309462886 and f(x1) = 0.879513643333748\n",
      "Iteration-35, x1 = 2.4429192382509535 and f(x1) = 1.7934320804645203\n",
      "Iteration-36, x1 = 3.2581156384620993 and f(x1) = 4.647463108974675\n",
      "Iteration-37, x1 = 5.3705988698142235 and f(x1) = 18.22801470685852\n",
      "Iteration-38, x1 = 13.65606010020446 and f(x1) = 157.64464523994644\n",
      "Iteration-39, x1 = 85.31271702745283 and f(x1) = 7091.771709145844\n",
      "Iteration-40, x1 = 3308.845312093745 and f(x1) = 10941179.039678145\n",
      "Iteration-41, x1 = 4976572.045165796 and f(x1) = 24766258372268.37\n",
      "Iteration-42, x1 = 11257395145784.941 and f(x1) = 1.2672894546831759e+26\n",
      "Iteration-43, x1 = 5.760406612197379e+25 and f(x1) = 3.318228433784729e+51\n",
      "Iteration-44, x1 = 1.5082856517203313e+51 and f(x1) = 2.274925607185425e+102\n",
      "Iteration-45, x1 = 1.034057094175193e+102 and f(x1) = 1.069274074014044e+204\n",
      "Iteration-46, x1 = 4.860336700063836e+203 and f(x1) = inf\n"
     ]
    },
    {
     "ename": "OverflowError",
     "evalue": "(34, 'Result too large')",
     "output_type": "error",
     "traceback": [
      "\u001b[1;31m---------------------------------------------------------------------------\u001b[0m",
      "\u001b[1;31mOverflowError\u001b[0m                             Traceback (most recent call last)",
      "\u001b[1;32m<ipython-input-19-2a00a4ce92de>\u001b[0m in \u001b[0;36m<module>\u001b[1;34m\u001b[0m\n\u001b[0;32m      2\u001b[0m \u001b[0me\u001b[0m \u001b[1;33m=\u001b[0m \u001b[1;36m0.0005\u001b[0m\u001b[1;33m\u001b[0m\u001b[1;33m\u001b[0m\u001b[0m\n\u001b[0;32m      3\u001b[0m \u001b[0mN\u001b[0m \u001b[1;33m=\u001b[0m \u001b[1;36m50\u001b[0m\u001b[1;33m\u001b[0m\u001b[1;33m\u001b[0m\u001b[0m\n\u001b[1;32m----> 4\u001b[1;33m \u001b[0mfpi\u001b[0m\u001b[1;33m(\u001b[0m\u001b[0mx0\u001b[0m\u001b[1;33m,\u001b[0m\u001b[0me\u001b[0m\u001b[1;33m,\u001b[0m\u001b[0mN\u001b[0m\u001b[1;33m)\u001b[0m\u001b[1;33m\u001b[0m\u001b[1;33m\u001b[0m\u001b[0m\n\u001b[0m",
      "\u001b[1;32m<ipython-input-2-73e7c4521352>\u001b[0m in \u001b[0;36mfpi\u001b[1;34m(x0, e, N)\u001b[0m\n\u001b[0;32m      5\u001b[0m     \u001b[0mcondition\u001b[0m \u001b[1;33m=\u001b[0m \u001b[1;32mTrue\u001b[0m\u001b[1;33m\u001b[0m\u001b[1;33m\u001b[0m\u001b[0m\n\u001b[0;32m      6\u001b[0m     \u001b[1;32mwhile\u001b[0m \u001b[0mcondition\u001b[0m\u001b[1;33m:\u001b[0m\u001b[1;33m\u001b[0m\u001b[1;33m\u001b[0m\u001b[0m\n\u001b[1;32m----> 7\u001b[1;33m         \u001b[0mx1\u001b[0m \u001b[1;33m=\u001b[0m \u001b[0mg\u001b[0m\u001b[1;33m(\u001b[0m\u001b[0mx0\u001b[0m\u001b[1;33m)\u001b[0m\u001b[1;33m\u001b[0m\u001b[1;33m\u001b[0m\u001b[0m\n\u001b[0m\u001b[0;32m      8\u001b[0m         \u001b[0mprint\u001b[0m\u001b[1;33m(\u001b[0m\u001b[1;34mf'Iteration-{step}, x1 = {x1} and f(x1) = {f(x1)}'\u001b[0m\u001b[1;33m)\u001b[0m\u001b[1;33m\u001b[0m\u001b[1;33m\u001b[0m\u001b[0m\n\u001b[0;32m      9\u001b[0m         \u001b[0mx0\u001b[0m \u001b[1;33m=\u001b[0m \u001b[0mx1\u001b[0m\u001b[1;33m\u001b[0m\u001b[1;33m\u001b[0m\u001b[0m\n",
      "\u001b[1;32m<ipython-input-4-c1f2c6b09c43>\u001b[0m in \u001b[0;36mg\u001b[1;34m(x)\u001b[0m\n\u001b[0;32m      1\u001b[0m \u001b[1;32mdef\u001b[0m \u001b[0mg\u001b[0m\u001b[1;33m(\u001b[0m\u001b[0mx\u001b[0m\u001b[1;33m)\u001b[0m\u001b[1;33m:\u001b[0m\u001b[1;33m\u001b[0m\u001b[1;33m\u001b[0m\u001b[0m\n\u001b[1;32m----> 2\u001b[1;33m     \u001b[1;32mreturn\u001b[0m \u001b[1;33m(\u001b[0m\u001b[1;33m(\u001b[0m\u001b[0mx\u001b[0m\u001b[1;33m**\u001b[0m\u001b[1;36m2\u001b[0m\u001b[1;33m+\u001b[0m\u001b[1;36m1.2\u001b[0m\u001b[1;33m)\u001b[0m\u001b[1;33m/\u001b[0m\u001b[1;36m2.2\u001b[0m\u001b[1;33m)\u001b[0m\u001b[1;33m\u001b[0m\u001b[1;33m\u001b[0m\u001b[0m\n\u001b[0m",
      "\u001b[1;31mOverflowError\u001b[0m: (34, 'Result too large')"
     ]
    }
   ],
   "source": [
    "x0 = 1.21\n",
    "e = 0.0005\n",
    "N = 50\n",
    "fpi(x0,e,N)"
   ]
  },
  {
   "cell_type": "code",
   "execution_count": 34,
   "metadata": {},
   "outputs": [],
   "source": [
    "# x0 = float(input('Enter Guess: '))\n",
    "# e = float(input('Tolerable Error: '))\n",
    "# N = int(input('Maximum Step: '))"
   ]
  },
  {
   "cell_type": "code",
   "execution_count": 71,
   "metadata": {},
   "outputs": [
    {
     "data": {
      "image/png": "[encoded data removed]",
      "text/plain": [
       "<Figure size 432x288 with 1 Axes>"
      ]
     },
     "metadata": {
      "needs_background": "light"
     },
     "output_type": "display_data"
    }
   ],
   "source": [
    "import numpy as np\n",
    "import matplotlib.pyplot as plt\n",
    "\n",
    "x = np.linspace(-2,4,100)\n",
    "y = x*x - 2.2*x + 1.2\n",
    "\n",
    "fig = plt.figure()\n",
    "ax = fig.add_subplot(111)\n",
    "\n",
    "plt.plot(x,y)\n",
    "x = [1,1] \n",
    "y = [-5,10] \n",
    "plt.plot(x,y) \n",
    "\n",
    "x1 = [1.2,1.2] \n",
    "y1 = [-5,10] \n",
    "plt.plot(x1,y1) \n",
    "\n",
    "# plt.xlim(-3,3)\n",
    "# plt.ylim(-3,3)\n",
    "\n",
    "#ax.set_aspect('equal', adjustable='box')\n",
    "\n",
    "plt.xlabel(\"x\")\n",
    "plt.ylabel(\"y\")\n",
    "\n",
    "plt.show()"
   ]
  },
  {
   "cell_type": "code",
   "execution_count": null,
   "metadata": {},
   "outputs": [],
   "source": []
  }
 ],
 "metadata": {
  "kernelspec": {
   "display_name": "Python 3",
   "language": "python",
   "name": "python3"
  },
  "language_info": {
   "codemirror_mode": {
    "name": "ipython",
    "version": 3
   },
   "file_extension": ".py",
   "mimetype": "text/x-python",
   "name": "python",
   "nbconvert_exporter": "python",
   "pygments_lexer": "ipython3",
   "version": "3.8.6"
  }
 },
 "nbformat": 4,
 "nbformat_minor": 4
}
