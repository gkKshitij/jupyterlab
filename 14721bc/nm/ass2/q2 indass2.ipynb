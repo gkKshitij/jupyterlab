{
 "cells": [
  {
   "cell_type": "code",
   "execution_count": 153,
   "metadata": {},
   "outputs": [],
   "source": [
    "from sympy import Symbol, Derivative\n",
    "from scipy import optimize"
   ]
  },
  {
   "cell_type": "code",
   "execution_count": 197,
   "metadata": {},
   "outputs": [],
   "source": []
  },
  {
   "cell_type": "code",
   "execution_count": 239,
   "metadata": {},
   "outputs": [
    {
     "data": {
      "text/plain": [
       "-1.0427038218800337"
      ]
     },
     "execution_count": 239,
     "metadata": {},
     "output_type": "execute_result"
    }
   ],
   "source": [
    "f(100,100)"
   ]
  },
  {
   "cell_type": "code",
   "execution_count": 199,
   "metadata": {},
   "outputs": [],
   "source": []
  },
  {
   "cell_type": "code",
   "execution_count": 234,
   "metadata": {},
   "outputs": [],
   "source": [
    "def f(v,t):\n",
    "    #R=8.3144621(75) × 10−5 m3 bar K−1 mol−1\n",
    "    #3102.5415*v**2 - 67303.7212*v +156039.7697\n",
    "    (((8.3144621*10**-5)*t/(v-0.08664))-(0.4275/((t**0.5)*v)*(v+0.08664)))-1\n",
    "    j=(((8.3144621*10**-5)*t/(v-0.08664))-(0.4275/((t**0.5)*v)*(v+0.08664)))-1\n",
    "    return j\n",
    "    #return v"
   ]
  },
  {
   "cell_type": "code",
   "execution_count": 235,
   "metadata": {},
   "outputs": [],
   "source": [
    "def nrm(x2,t):\n",
    "    \n",
    "    #code for derivation\n",
    "    v= Symbol('v')\n",
    "    function= ((8.3144621*t/(v-0.08664))-(0.4275/((t**0.5)*v)*(v+0.08664)))-1\n",
    "    deriv= Derivative(function, v)\n",
    "\n",
    "    #newton raphson method\n",
    "    x3 = x2-(f(x2,t)/deriv.doit().subs({v:x2}))\n",
    "    #print(x3)\n",
    "    if (x3-x2)>(10**-4):\n",
    "        x2=x3\n",
    "        nrm(x2,t)\n",
    "        print(x2)\n",
    "    else:\n",
    "        print(\"root of eqn is \",x3)\n",
    "        return x3"
   ]
  },
  {
   "cell_type": "code",
   "execution_count": 236,
   "metadata": {},
   "outputs": [
    {
     "name": "stdout",
     "output_type": "stream",
     "text": [
      "root of eqn is  0.100000073693614\n"
     ]
    },
    {
     "data": {
      "text/latex": [
       "$\\displaystyle 0.100000073693614$"
      ],
      "text/plain": [
       "0.100000073693614"
      ]
     },
     "execution_count": 236,
     "metadata": {},
     "output_type": "execute_result"
    }
   ],
   "source": [
    "nrm(0.1,373.15)"
   ]
  },
  {
   "cell_type": "code",
   "execution_count": 202,
   "metadata": {},
   "outputs": [
    {
     "data": {
      "text/latex": [
       "$\\displaystyle \\frac{d}{d v} \\left(-1 + \\frac{0.0249433863}{v - 0.08664} - \\frac{0.0246817240078565 \\left(v + 0.08664\\right)}{v}\\right)$"
      ],
      "text/plain": [
       "Derivative(-1 + 0.0249433863/(v - 0.08664) - 0.0246817240078565*(v + 0.08664)/v, v)"
      ]
     },
     "execution_count": 202,
     "metadata": {},
     "output_type": "execute_result"
    }
   ],
   "source": [
    "v= Symbol('v')\n",
    "function= (((8.3144621*10**-5)*t/(v-0.08664))-(0.4275/((t**0.5)*v)*(v+0.08664)))-1\n",
    "deriv= Derivative(function, v)\n",
    "deriv"
   ]
  },
  {
   "cell_type": "code",
   "execution_count": null,
   "metadata": {},
   "outputs": [],
   "source": []
  },
  {
   "cell_type": "code",
   "execution_count": 156,
   "metadata": {},
   "outputs": [],
   "source": [
    "for i in range(100,350,50):\n",
    "    x=i "
   ]
  },
  {
   "cell_type": "code",
   "execution_count": null,
   "metadata": {},
   "outputs": [],
   "source": [
    "#1C=237.15K\n",
    "#1bar=0.1=0.1MPa"
   ]
  },
  {
   "cell_type": "code",
   "execution_count": null,
   "metadata": {},
   "outputs": [],
   "source": []
  },
  {
   "cell_type": "code",
   "execution_count": 233,
   "metadata": {},
   "outputs": [
    {
     "data": {
      "text/plain": [
       "{'T': 373.15,\n",
       " 'P': 0.1,\n",
       " 'v': 0.0010434561803801426,\n",
       " 'h': 419.09809004253333,\n",
       " 's': 1.307015439035612,\n",
       " 'cp': 4.21664839110004,\n",
       " 'cv': 3.7677022992325164,\n",
       " 'w': 1545.0893438956452,\n",
       " 'alfav': 0.0007510125276347935,\n",
       " 'kt': 0.0004891677639672605,\n",
       " 'region': 1,\n",
       " 'x': 0}"
      ]
     },
     "execution_count": 233,
     "metadata": {},
     "output_type": "execute_result"
    }
   ],
   "source": [
    "iapws.iapws97._Region1(373.15, 0.1)"
   ]
  },
  {
   "cell_type": "code",
   "execution_count": 137,
   "metadata": {},
   "outputs": [],
   "source": [
    "import iapws"
   ]
  },
  {
   "cell_type": "code",
   "execution_count": null,
   "metadata": {},
   "outputs": [],
   "source": []
  }
 ],
 "metadata": {
  "kernelspec": {
   "display_name": "Python 3",
   "language": "python",
   "name": "python3"
  },
  "language_info": {
   "codemirror_mode": {
    "name": "ipython",
    "version": 3
   },
   "file_extension": ".py",
   "mimetype": "text/x-python",
   "name": "python",
   "nbconvert_exporter": "python",
   "pygments_lexer": "ipython3",
   "version": "3.8.6"
  }
 },
 "nbformat": 4,
 "nbformat_minor": 4
}
