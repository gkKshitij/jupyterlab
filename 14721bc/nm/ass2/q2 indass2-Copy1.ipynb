{
 "cells": [
  {
   "cell_type": "code",
   "execution_count": 1,
   "metadata": {},
   "outputs": [],
   "source": [
    "import numpy as np\n",
    "import math\n",
    "from scipy import misc\n",
    "import os"
   ]
  },
  {
   "cell_type": "code",
   "execution_count": 5,
   "metadata": {},
   "outputs": [],
   "source": [
    "def f(v):\n",
    "    t=100\n",
    "    a = 0.4275\n",
    "    b = 0.08664\n",
    "    r = 8.31432 * 10**3  #R = 8.31432×10**3  N⋅m⋅kmol−1⋅K−1.\n",
    "    #t = \n",
    "    p = 1\n",
    "    rt = math.sqrt(t)\n",
    "    p = (((r*t)/(v-b))-(a/(rt*v*(v+b)))) #rt os root of t write function for it\n",
    "    return v"
   ]
  },
  {
   "cell_type": "code",
   "execution_count": 6,
   "metadata": {},
   "outputs": [
    {
     "name": "stdout",
     "output_type": "stream",
     "text": [
      "x:  4\n",
      "x0:  0.0\n",
      "f(x0) =  -2.0\n"
     ]
    },
    {
     "name": "stderr",
     "output_type": "stream",
     "text": [
      "<ipython-input-5-187c51f65bf5>:9: RuntimeWarning: divide by zero encountered in double_scalars\n",
      "  p = (((r*t)/(v-b))-(a/(rt*v*(v+b)))) #rt os root of t write function for it\n"
     ]
    }
   ],
   "source": [
    "def NewtonsMethod(f, x, tolerance=0.000001):\n",
    "    while True:\n",
    "        x1 = x - f(x) / misc.derivative(f, x) \n",
    "        t = abs(x1 - x)\n",
    "        if t < tolerance:\n",
    "            break\n",
    "        x = x1\n",
    "    return x\n",
    "\n",
    "# def f(x):\n",
    "#     return (1.0/4.0)*x**3+(3.0/4.0)*x**2-(3.0/2.0)*x-2\n",
    "\n",
    "x = 4\n",
    "\n",
    "for t in range(100,300,50):\n",
    "    x0 = NewtonsMethod(f, x)\n",
    "\n",
    "print('x: ', x)\n",
    "print('x0: ', x0)\n",
    "print(\"f(x0) = \", ((1.0/4.0)*x0**3+(3.0/4.0)*x0**2-(3.0/2.0)*x0-2 ))"
   ]
  },
  {
   "cell_type": "code",
   "execution_count": 4,
   "metadata": {},
   "outputs": [
    {
     "data": {
      "text/plain": [
       "0.9999950000125"
      ]
     },
     "execution_count": 4,
     "metadata": {},
     "output_type": "execute_result"
    }
   ],
   "source": [
    "1 - 0.000004999987500"
   ]
  },
  {
   "cell_type": "code",
   "execution_count": null,
   "metadata": {},
   "outputs": [],
   "source": []
  }
 ],
 "metadata": {
  "kernelspec": {
   "display_name": "Python 3",
   "language": "python",
   "name": "python3"
  },
  "language_info": {
   "codemirror_mode": {
    "name": "ipython",
    "version": 3
   },
   "file_extension": ".py",
   "mimetype": "text/x-python",
   "name": "python",
   "nbconvert_exporter": "python",
   "pygments_lexer": "ipython3",
   "version": "3.8.6"
  }
 },
 "nbformat": 4,
 "nbformat_minor": 4
}
