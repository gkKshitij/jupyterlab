{
 "cells": [
  {
   "cell_type": "code",
   "execution_count": 1,
   "metadata": {},
   "outputs": [],
   "source": [
    "import math\n",
    "import numpy"
   ]
  },
  {
   "cell_type": "code",
   "execution_count": 2,
   "metadata": {},
   "outputs": [],
   "source": [
    "def func(h,percent):\n",
    "    R=1\n",
    "    A=((((R*R)*(math.acos((R-h)/R)))-((R-h)*(((2*R*h)-(h*h))**0.5))))\n",
    "    error=(A - (percent*3.14*R*R))\n",
    "    #print(error)\n",
    "    return error"
   ]
  },
  {
   "cell_type": "code",
   "execution_count": 3,
   "metadata": {},
   "outputs": [],
   "source": [
    "def bisection(a,b,perc): \n",
    "    p=perc\n",
    "    if (func(a,p) * func(b,p) >= 0): \n",
    "        print(\"wrong assumption of a and b\\n\") \n",
    "        return\n",
    "    c = a \n",
    "    while ((b-a) >= 0.0001): \n",
    "        #print(a,b)\n",
    "        #print(error)\n",
    "        c = (a+b)/2\n",
    "        if (func(c,p) == 0.0): \n",
    "            break\n",
    "        if (func(c,p)*func(a,p) < 0): \n",
    "            b = c \n",
    "        else: \n",
    "            a = c    \n",
    "    #print(\"The ratio of h/d is : \",c/2) \n",
    "    g=c/2\n",
    "    return g"
   ]
  },
  {
   "cell_type": "code",
   "execution_count": 4,
   "metadata": {},
   "outputs": [
    {
     "name": "stdout",
     "output_type": "stream",
     "text": [
      "for 10% of water level\n",
      "The ratio of h/d is :  0.156402587890625\n",
      "for 20% of water level\n",
      "The ratio of h/d is :  0.253997802734375\n",
      "for 30% of water level\n",
      "The ratio of h/d is :  0.340057373046875\n",
      "for 40% of water level\n",
      "The ratio of h/d is :  0.420989990234375\n",
      "for 50% of water level\n",
      "The ratio of h/d is :  0.499786376953125\n",
      "for 60% of water level\n",
      "The ratio of h/d is :  0.65618896484375\n",
      "for 70% of water level\n",
      "The ratio of h/d is :  0.7537841796875\n",
      "for 80% of water level\n",
      "The ratio of h/d is :  0.83984375\n",
      "for 90% of water level\n",
      "The ratio of h/d is :  0.9207763671875\n",
      "for 100% of water level\n",
      "The ratio of h/d is :  0.99957275390625\n"
     ]
    }
   ],
   "source": [
    "for i in range(10,110,10):\n",
    "    print(f\"for {i}% of water level\")\n",
    "    if i<51:\n",
    "        print(\"The ratio of h/d is : \",bisection(0, 1, i/100)) \n",
    "    else:\n",
    "        g=(bisection(0, 1, 0.5)+bisection(0, 1, (i-50)/100))\n",
    "        print(\"The ratio of h/d is : \",g)"
   ]
  },
  {
   "cell_type": "code",
   "execution_count": null,
   "metadata": {},
   "outputs": [],
   "source": []
  }
 ],
 "metadata": {
  "kernelspec": {
   "display_name": "Python 3",
   "language": "python",
   "name": "python3"
  },
  "language_info": {
   "codemirror_mode": {
    "name": "ipython",
    "version": 3
   },
   "file_extension": ".py",
   "mimetype": "text/x-python",
   "name": "python",
   "nbconvert_exporter": "python",
   "pygments_lexer": "ipython3",
   "version": "3.8.6"
  }
 },
 "nbformat": 4,
 "nbformat_minor": 4
}
