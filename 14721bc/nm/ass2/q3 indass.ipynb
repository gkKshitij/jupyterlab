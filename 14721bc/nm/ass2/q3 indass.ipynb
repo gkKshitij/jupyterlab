{
 "cells": [
  {
   "cell_type": "code",
   "execution_count": 2,
   "metadata": {},
   "outputs": [],
   "source": [
    "from scipy import misc"
   ]
  },
  {
   "cell_type": "code",
   "execution_count": 3,
   "metadata": {},
   "outputs": [],
   "source": [
    "x = 1.1"
   ]
  },
  {
   "cell_type": "code",
   "execution_count": 4,
   "metadata": {},
   "outputs": [],
   "source": [
    "def f(x):\n",
    "    return (1.0/1.0)*x**2-(2.0/1.0)*x**1+(1.0/1.0)"
   ]
  },
  {
   "cell_type": "code",
   "execution_count": 9,
   "metadata": {},
   "outputs": [],
   "source": [
    "step = []\n",
    "xk = []\n",
    "ek = []\n",
    "fxk = []"
   ]
  },
  {
   "cell_type": "code",
   "execution_count": 10,
   "metadata": {},
   "outputs": [],
   "source": [
    "def NewtonsMethod(f, x, tolerance=10**-12):\n",
    "    z=0\n",
    "    while True:\n",
    "        #print(x)\n",
    "        z=z+1\n",
    "        #print(\"iteration number\",z)\n",
    "        x1 = x - f(x) / misc.derivative(f, x) \n",
    "        t = abs(x1 - x)\n",
    "        if t < tolerance:\n",
    "            break\n",
    "        x = x1\n",
    "        #z=z+1\n",
    "    return x,z;"
   ]
  },
  {
   "cell_type": "code",
   "execution_count": 11,
   "metadata": {},
   "outputs": [],
   "source": [
    "x0,z = NewtonsMethod(f, x)"
   ]
  },
  {
   "cell_type": "code",
   "execution_count": 12,
   "metadata": {},
   "outputs": [
    {
     "name": "stdout",
     "output_type": "stream",
     "text": [
      "x:  1.1\n",
      "x0:  1.0000000010611056\n",
      "f(x0) =  0.010000000000000009\n",
      "number of iteration= 25\n"
     ]
    }
   ],
   "source": [
    "print('x: ', x)\n",
    "print('x0: ', x0)\n",
    "print(\"f(x0) = \", (1.0/1.0)*x**2-(2.0/1.0)*x**1+(1.0/1.0))\n",
    "print(\"number of iteration=\",z)"
   ]
  },
  {
   "cell_type": "code",
   "execution_count": 17,
   "metadata": {},
   "outputs": [
    {
     "data": {
      "image/png": "[encoded data removed]",
      "text/plain": [
       "<Figure size 432x288 with 1 Axes>"
      ]
     },
     "metadata": {
      "needs_background": "light"
     },
     "output_type": "display_data"
    }
   ],
   "source": [
    "# from matplotlib.pylab import *\n",
    "\n",
    "# t = arange(-6.0, 6.0, 0.01)\n",
    "# s= 1.0*t*t-2.0*t+1\n",
    "\n",
    "# ax = subplot(111)\n",
    "\n",
    "# ax.plot(t, s)\n",
    "\n",
    "# #ax.scatter([-4,-1,2],[0,0,0])\n",
    "\n",
    "# ax.grid(True)\n",
    "\n",
    "# ax.spines['left'].set_position('zero')\n",
    "# ax.spines['right'].set_color('none')\n",
    "# ax.spines['bottom'].set_position('zero')\n",
    "# ax.spines['top'].set_color('none')\n",
    "\n",
    "# ax.set_xlim(-6,6)\n",
    "# ax.set_ylim(-20,20)\n",
    "\n",
    "# #text(-3.0, 12,r\"$f(x)=(1.0/1.0)*x**2-(2.0/1.0)*x**1+(1.0/1.0)$\", horizontalalignment='center',fontsize=8)\n",
    "\n",
    "# plt.xticks(fontsize=8)\n",
    "# plt.yticks(fontsize=8)\n",
    "\n",
    "# plt.savefig('NewtonMethodExemple.png')\n",
    "# show()"
   ]
  },
  {
   "cell_type": "code",
   "execution_count": 20,
   "metadata": {},
   "outputs": [
    {
     "name": "stdout",
     "output_type": "stream",
     "text": [
      "1.1\n",
      "0.9875000000000003\n",
      "0.9998475609756097\n",
      "0.9999999767694266\n",
      "0.9999999999999994\n",
      "x:  1.1\n",
      "x0:  0.9999999999999994\n",
      "f(x0) =  -0.08999999999999986\n",
      "number of iteration= 5\n"
     ]
    }
   ],
   "source": [
    "from scipy import misc\n",
    "\n",
    "x = 1.1\n",
    "\n",
    "def f(x):\n",
    "    return (1.0/1.0)*x**2-(3.0/1.0)*x**1+(2.0/1.0)\n",
    "\n",
    "def NewtonsMethod(f, x, tolerance=10**-12):\n",
    "    z=0\n",
    "    while True:\n",
    "        print(x)\n",
    "        z=z+1\n",
    "        #print(\"iteration number\",z)\n",
    "        x1 = x - f(x) / misc.derivative(f, x) \n",
    "        t = abs(x1 - x)\n",
    "        if t < tolerance:\n",
    "            break\n",
    "        x = x1\n",
    "        #z=z+1\n",
    "    return x,z;\n",
    "\n",
    "x0,z = NewtonsMethod(f, x)\n",
    "\n",
    "print('x: ', x)\n",
    "print('x0: ', x0)\n",
    "print(\"f(x0) = \", (1.0/1.0)*x**2-(3.0/1.0)*x**1+(2.0/1.0))\n",
    "print(\"number of iteration=\",z)"
   ]
  },
  {
   "cell_type": "code",
   "execution_count": null,
   "metadata": {},
   "outputs": [],
   "source": []
  }
 ],
 "metadata": {
  "kernelspec": {
   "display_name": "Python 3",
   "language": "python",
   "name": "python3"
  },
  "language_info": {
   "codemirror_mode": {
    "name": "ipython",
    "version": 3
   },
   "file_extension": ".py",
   "mimetype": "text/x-python",
   "name": "python",
   "nbconvert_exporter": "python",
   "pygments_lexer": "ipython3",
   "version": "3.8.6"
  }
 },
 "nbformat": 4,
 "nbformat_minor": 4
}
