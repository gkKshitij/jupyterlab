{
 "cells": [
  {
   "cell_type": "code",
   "execution_count": 1,
   "metadata": {},
   "outputs": [],
   "source": [
    "import numpy as np\n",
    "import sys"
   ]
  },
  {
   "cell_type": "markdown",
   "metadata": {},
   "source": [
    "### First half of question that is to generate B"
   ]
  },
  {
   "cell_type": "code",
   "execution_count": 2,
   "metadata": {},
   "outputs": [
    {
     "data": {
      "text/plain": [
       "array([[ 1.,  2.,  1.],\n",
       "       [ 2.,  3.,  3.],\n",
       "       [ 3., -1.,  2.]])"
      ]
     },
     "execution_count": 2,
     "metadata": {},
     "output_type": "execute_result"
    }
   ],
   "source": [
    "A = np.array([[1.0,2.0,1.0],\n",
    "             [2.0,3.0,3.0],\n",
    "             [3.0,-1.0,2.0]])\n",
    "A"
   ]
  },
  {
   "cell_type": "code",
   "execution_count": 3,
   "metadata": {},
   "outputs": [
    {
     "data": {
      "text/plain": [
       "array([ 2., -1.,  3.])"
      ]
     },
     "execution_count": 3,
     "metadata": {},
     "output_type": "execute_result"
    }
   ],
   "source": [
    "x=np.array([ 2., -1.,  3.])\n",
    "x"
   ]
  },
  {
   "cell_type": "code",
   "execution_count": 4,
   "metadata": {},
   "outputs": [
    {
     "data": {
      "text/plain": [
       "array([ 3., 10., 13.])"
      ]
     },
     "execution_count": 4,
     "metadata": {},
     "output_type": "execute_result"
    }
   ],
   "source": [
    "np.dot(A, x) #expected B"
   ]
  },
  {
   "cell_type": "code",
   "execution_count": null,
   "metadata": {},
   "outputs": [],
   "source": []
  },
  {
   "cell_type": "markdown",
   "metadata": {},
   "source": [
    "### Remaining part to derive x from Ax=B"
   ]
  },
  {
   "cell_type": "code",
   "execution_count": 5,
   "metadata": {},
   "outputs": [],
   "source": [
    "# Reading number of unknowns\n",
    "n = 3 #int(input('number of unknowns: '))"
   ]
  },
  {
   "cell_type": "code",
   "execution_count": 6,
   "metadata": {},
   "outputs": [
    {
     "name": "stdout",
     "output_type": "stream",
     "text": [
      "Enter \"A|B\" matrix:\n"
     ]
    },
    {
     "name": "stdin",
     "output_type": "stream",
     "text": [
      "ab11= 1\n",
      "ab12= 2\n",
      "ab13= 1\n",
      "ab14= 3\n",
      "ab21= 2\n",
      "ab22= 3\n",
      "ab23= 3\n",
      "ab24= 10\n",
      "ab31= 3\n",
      "ab32= -1\n",
      "ab33= 2\n",
      "ab34= 13\n"
     ]
    }
   ],
   "source": [
    "ab = np.zeros((n,n+1))\n",
    "#taking input for A|B\n",
    "print('Enter \"A|B\" matrix:')\n",
    "for _ in range(n):\n",
    "    for __ in range(n+1):\n",
    "        ab[_][__] = float(input(f'ab{_+1}{__+1}='))"
   ]
  },
  {
   "cell_type": "code",
   "execution_count": 7,
   "metadata": {},
   "outputs": [],
   "source": [
    "ab = np.array([[1.0,2.0,1.0,3.0],\n",
    "             [2.0,3.0,3.0,10.0],\n",
    "             [3.0,-1.0,2.0,13.0]])"
   ]
  },
  {
   "cell_type": "code",
   "execution_count": 8,
   "metadata": {},
   "outputs": [
    {
     "data": {
      "text/plain": [
       "array([[ 1.,  2.,  1.,  3.],\n",
       "       [ 2.,  3.,  3., 10.],\n",
       "       [ 3., -1.,  2., 13.]])"
      ]
     },
     "execution_count": 8,
     "metadata": {},
     "output_type": "execute_result"
    }
   ],
   "source": [
    "ab"
   ]
  },
  {
   "cell_type": "code",
   "execution_count": null,
   "metadata": {},
   "outputs": [],
   "source": []
  },
  {
   "cell_type": "code",
   "execution_count": 9,
   "metadata": {},
   "outputs": [],
   "source": [
    "x = np.zeros(n) #solution matrix"
   ]
  },
  {
   "cell_type": "code",
   "execution_count": 10,
   "metadata": {},
   "outputs": [],
   "source": [
    "#gauss elimination\n",
    "def ge():\n",
    "    for i in range(n):\n",
    "        if ab[i][i] == 0.0:\n",
    "            sys.exit('Divide by zero detected!')\n",
    "        for j in range(i+1, n):\n",
    "            ratio = ab[j][i]/ab[i][i]\n",
    "            for k in range(n+1):\n",
    "                ab[j][k] = ab[j][k] - ratio * ab[i][k]\n",
    "    return ab"
   ]
  },
  {
   "cell_type": "code",
   "execution_count": 11,
   "metadata": {},
   "outputs": [],
   "source": [
    "#back substitution\n",
    "def bs():\n",
    "    x[n-1] = ab[n-1][n]/ab[n-1][n-1]\n",
    "    for i in range(n-2,-1,-1):\n",
    "        x[i] = ab[i][n]\n",
    "        for j in range(i+1,n):\n",
    "            x[i] = x[i] - ab[i][j]*x[j]\n",
    "        x[i] = x[i]/ab[i][i]\n",
    "    return x"
   ]
  },
  {
   "cell_type": "code",
   "execution_count": 12,
   "metadata": {},
   "outputs": [
    {
     "data": {
      "text/plain": [
       "array([[  1.,   2.,   1.,   3.],\n",
       "       [  0.,  -1.,   1.,   4.],\n",
       "       [  0.,   0.,  -8., -24.]])"
      ]
     },
     "execution_count": 12,
     "metadata": {},
     "output_type": "execute_result"
    }
   ],
   "source": [
    "ge()"
   ]
  },
  {
   "cell_type": "code",
   "execution_count": 13,
   "metadata": {},
   "outputs": [
    {
     "data": {
      "text/plain": [
       "array([ 2., -1.,  3.])"
      ]
     },
     "execution_count": 13,
     "metadata": {},
     "output_type": "execute_result"
    }
   ],
   "source": [
    "bs()"
   ]
  },
  {
   "cell_type": "code",
   "execution_count": 14,
   "metadata": {},
   "outputs": [
    {
     "name": "stdout",
     "output_type": "stream",
     "text": [
      "\n",
      "Values of unknown are as follows: \n",
      "x0 = 2.0\n",
      "x1 = -1.0\n",
      "x2 = 3.0\n"
     ]
    }
   ],
   "source": [
    "# Printing solution martix \"x\"\n",
    "print('\\nValues of unknown are as follows: ')\n",
    "for i in range(n):\n",
    "    print(f'x{i} = {x[i]}')"
   ]
  },
  {
   "cell_type": "code",
   "execution_count": null,
   "metadata": {},
   "outputs": [],
   "source": []
  }
 ],
 "metadata": {
  "kernelspec": {
   "display_name": "Python 3",
   "language": "python",
   "name": "python3"
  },
  "language_info": {
   "codemirror_mode": {
    "name": "ipython",
    "version": 3
   },
   "file_extension": ".py",
   "mimetype": "text/x-python",
   "name": "python",
   "nbconvert_exporter": "python",
   "pygments_lexer": "ipython3",
   "version": "3.8.6"
  }
 },
 "nbformat": 4,
 "nbformat_minor": 4
}
