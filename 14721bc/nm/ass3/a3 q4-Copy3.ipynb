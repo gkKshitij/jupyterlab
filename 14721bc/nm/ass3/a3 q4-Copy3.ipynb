{
 "cells": [
  {
   "cell_type": "code",
   "execution_count": 29,
   "metadata": {},
   "outputs": [],
   "source": [
    "import pandas as pd \n",
    "# import math"
   ]
  },
  {
   "cell_type": "code",
   "execution_count": 30,
   "metadata": {},
   "outputs": [],
   "source": [
    "a = [[1/1, 1/2, 1/3, 1/4, 1/5],\n",
    "     [1/2, 1/3, 1/4, 1/5, 1/6],\n",
    "     [1/3, 1/4, 1/5, 1/6, 1/7],\n",
    "     [1/4, 1/5, 1/6, 1/7, 1/8],\n",
    "     [1/5, 1/6, 1/7, 1/8, 1/9]] \n",
    "b = [[1/1+1/2+1/3+1/4+1/5],\n",
    "     [1/2+1/3+1/4+1/5+1/6],\n",
    "     [1/3+1/4+1/5+1/6+1/7],\n",
    "     [1/4+1/5+1/6+1/7+1/8],\n",
    "     [1/5+1/6+1/7+1/8+1/9]] "
   ]
  },
  {
   "cell_type": "code",
   "execution_count": 31,
   "metadata": {},
   "outputs": [
    {
     "data": {
      "text/plain": [
       "[[1.0, 0.5, 0.3333333333333333, 0.25, 0.2],\n",
       " [0.5, 0.3333333333333333, 0.25, 0.2, 0.16666666666666666],\n",
       " [0.3333333333333333, 0.25, 0.2, 0.16666666666666666, 0.14285714285714285],\n",
       " [0.25, 0.2, 0.16666666666666666, 0.14285714285714285, 0.125],\n",
       " [0.2, 0.16666666666666666, 0.14285714285714285, 0.125, 0.1111111111111111]]"
      ]
     },
     "execution_count": 31,
     "metadata": {},
     "output_type": "execute_result"
    }
   ],
   "source": [
    "a"
   ]
  },
  {
   "cell_type": "code",
   "execution_count": 32,
   "metadata": {},
   "outputs": [
    {
     "data": {
      "text/plain": [
       "[[2.283333333333333],\n",
       " [1.45],\n",
       " [1.0928571428571427],\n",
       " [0.8845238095238095],\n",
       " [0.7456349206349207]]"
      ]
     },
     "execution_count": 32,
     "metadata": {},
     "output_type": "execute_result"
    }
   ],
   "source": [
    "b"
   ]
  },
  {
   "cell_type": "code",
   "execution_count": 33,
   "metadata": {},
   "outputs": [
    {
     "data": {
      "text/plain": [
       "0.5"
      ]
     },
     "execution_count": 33,
     "metadata": {},
     "output_type": "execute_result"
    }
   ],
   "source": [
    "a[0][1]"
   ]
  },
  {
   "cell_type": "code",
   "execution_count": 34,
   "metadata": {},
   "outputs": [],
   "source": [
    "def f1(x2,x3,x4,x5):\n",
    "    x1 = ((1/1+1/2+1/3+1/4+1/5)-(((1/2)*x2)+((1/3)*x3)+((1/4)*x4)+((1/5)*x5)))/(1)\n",
    "    return x1"
   ]
  },
  {
   "cell_type": "code",
   "execution_count": 35,
   "metadata": {},
   "outputs": [],
   "source": [
    "def f2(x1,x3,x4,x5):\n",
    "    x2 = ((1/2+1/3+1/4+1/5+1/6)-(((1/2)*x1)+((1/4)*x3)+((1/5)*x4)+((1/6)*x5)))/(1/3)\n",
    "    return x2"
   ]
  },
  {
   "cell_type": "code",
   "execution_count": 36,
   "metadata": {},
   "outputs": [],
   "source": [
    "def f3(x1,x2,x4,x5):\n",
    "    x3 = ((1/3+1/4+1/5+1/6+1/7)-(((1/3)*x1)+((1/4)*x2)+((1/6)*x4)+((1/7)*x5)))/(1/5)\n",
    "    return x3"
   ]
  },
  {
   "cell_type": "code",
   "execution_count": 37,
   "metadata": {},
   "outputs": [],
   "source": [
    "def f4(x1,x2,x3,x5):\n",
    "    x4 = ((1/4+1/5+1/6)+(1/7)+(1/8))-(((1/4)*x1)+((1/5)*x2)+((1/6)*x3)+((1/8)*x5)))/(1/7)\n",
    "    return x4"
   ]
  },
  {
   "cell_type": "code",
   "execution_count": 38,
   "metadata": {},
   "outputs": [],
   "source": [
    "def f5(x1,x2,x3,x4):\n",
    "    x5 = ((1/5+1/6+1/7+1/8+1/9)-(((1/5)*x1)+((1/6)*x2)+((1/7)*x3)+((1/8)*x4)))/(1/9)\n",
    "    return x5"
   ]
  },
  {
   "cell_type": "code",
   "execution_count": 76,
   "metadata": {},
   "outputs": [],
   "source": [
    "# (round(myFloat, 2))"
   ]
  },
  {
   "cell_type": "code",
   "execution_count": 39,
   "metadata": {},
   "outputs": [],
   "source": [
    "#setting solytion to 0\n",
    "x1=0\n",
    "x2=0\n",
    "x3=0\n",
    "x4=0\n",
    "x5=0\n",
    "#list for storing values\n",
    "x1l=[]\n",
    "x2l=[]\n",
    "x3l=[]\n",
    "x4l=[]\n",
    "x5l=[]"
   ]
  },
  {
   "cell_type": "code",
   "execution_count": 40,
   "metadata": {},
   "outputs": [],
   "source": [
    "#gauss seidal\n",
    "for i in range(50000):\n",
    "    count=0\n",
    "#     print(\"i=\",i)\n",
    "    \n",
    "    x1l.append(x1)\n",
    "    x2l.append(x2)\n",
    "    x3l.append(x3)\n",
    "    x4l.append(x4)\n",
    "    x5l.append(x5)\n",
    "#     print(\"added to list\")\n",
    "       \n",
    "    x1=f1(x2,x3,x4,x5)\n",
    "#     print(x1)\n",
    "    x2=f2(x1,x3,x4,x5)\n",
    "#     print(x2)\n",
    "    x3=f3(x1,x2,x4,x5)\n",
    "#     print(x3)\n",
    "    x4=f4(x1,x2,x3,x5)\n",
    "#     print(x4)\n",
    "    x5=f5(x1,x2,x3,x4)\n",
    "#     print(x5)\n",
    "#     print(\"executed expressions\")   "
   ]
  },
  {
   "cell_type": "code",
   "execution_count": 41,
   "metadata": {},
   "outputs": [],
   "source": [
    "df = pd.DataFrame(list(zip(x1l, x2l, x3l, x4l, x5l)), \n",
    "               columns =['x1', 'x2', 'x3', 'x4','x5']) "
   ]
  },
  {
   "cell_type": "code",
   "execution_count": 42,
   "metadata": {},
   "outputs": [
    {
     "data": {
      "text/html": [
       "<div>\n",
       "<style scoped>\n",
       "    .dataframe tbody tr th:only-of-type {\n",
       "        vertical-align: middle;\n",
       "    }\n",
       "\n",
       "    .dataframe tbody tr th {\n",
       "        vertical-align: top;\n",
       "    }\n",
       "\n",
       "    .dataframe thead th {\n",
       "        text-align: right;\n",
       "    }\n",
       "</style>\n",
       "<table border=\"1\" class=\"dataframe\">\n",
       "  <thead>\n",
       "    <tr style=\"text-align: right;\">\n",
       "      <th></th>\n",
       "      <th>x1</th>\n",
       "      <th>x2</th>\n",
       "      <th>x3</th>\n",
       "      <th>x4</th>\n",
       "      <th>x5</th>\n",
       "    </tr>\n",
       "  </thead>\n",
       "  <tbody>\n",
       "    <tr>\n",
       "      <th>0</th>\n",
       "      <td>0.000000</td>\n",
       "      <td>0.000000</td>\n",
       "      <td>0.000000</td>\n",
       "      <td>0.000000</td>\n",
       "      <td>0.000000</td>\n",
       "    </tr>\n",
       "    <tr>\n",
       "      <th>1</th>\n",
       "      <td>2.283333</td>\n",
       "      <td>0.925000</td>\n",
       "      <td>0.502480</td>\n",
       "      <td>0.314606</td>\n",
       "      <td>0.213236</td>\n",
       "    </tr>\n",
       "    <tr>\n",
       "      <th>2</th>\n",
       "      <td>1.532041</td>\n",
       "      <td>1.379696</td>\n",
       "      <td>0.771780</td>\n",
       "      <td>0.492028</td>\n",
       "      <td>0.337675</td>\n",
       "    </tr>\n",
       "    <tr>\n",
       "      <th>3</th>\n",
       "      <td>1.145683</td>\n",
       "      <td>1.588586</td>\n",
       "      <td>0.917861</td>\n",
       "      <td>0.596397</td>\n",
       "      <td>0.414552</td>\n",
       "    </tr>\n",
       "    <tr>\n",
       "      <th>4</th>\n",
       "      <td>0.951077</td>\n",
       "      <td>1.669874</td>\n",
       "      <td>0.998709</td>\n",
       "      <td>0.661565</td>\n",
       "      <td>0.465650</td>\n",
       "    </tr>\n",
       "    <tr>\n",
       "      <th>...</th>\n",
       "      <td>...</td>\n",
       "      <td>...</td>\n",
       "      <td>...</td>\n",
       "      <td>...</td>\n",
       "      <td>...</td>\n",
       "    </tr>\n",
       "    <tr>\n",
       "      <th>49995</th>\n",
       "      <td>0.999966</td>\n",
       "      <td>1.000624</td>\n",
       "      <td>0.997343</td>\n",
       "      <td>1.003979</td>\n",
       "      <td>0.998066</td>\n",
       "    </tr>\n",
       "    <tr>\n",
       "      <th>49996</th>\n",
       "      <td>0.999966</td>\n",
       "      <td>1.000624</td>\n",
       "      <td>0.997343</td>\n",
       "      <td>1.003978</td>\n",
       "      <td>0.998066</td>\n",
       "    </tr>\n",
       "    <tr>\n",
       "      <th>49997</th>\n",
       "      <td>0.999966</td>\n",
       "      <td>1.000624</td>\n",
       "      <td>0.997343</td>\n",
       "      <td>1.003978</td>\n",
       "      <td>0.998067</td>\n",
       "    </tr>\n",
       "    <tr>\n",
       "      <th>49998</th>\n",
       "      <td>0.999966</td>\n",
       "      <td>1.000624</td>\n",
       "      <td>0.997343</td>\n",
       "      <td>1.003978</td>\n",
       "      <td>0.998067</td>\n",
       "    </tr>\n",
       "    <tr>\n",
       "      <th>49999</th>\n",
       "      <td>0.999966</td>\n",
       "      <td>1.000624</td>\n",
       "      <td>0.997343</td>\n",
       "      <td>1.003978</td>\n",
       "      <td>0.998067</td>\n",
       "    </tr>\n",
       "  </tbody>\n",
       "</table>\n",
       "<p>50000 rows × 5 columns</p>\n",
       "</div>"
      ],
      "text/plain": [
       "             x1        x2        x3        x4        x5\n",
       "0      0.000000  0.000000  0.000000  0.000000  0.000000\n",
       "1      2.283333  0.925000  0.502480  0.314606  0.213236\n",
       "2      1.532041  1.379696  0.771780  0.492028  0.337675\n",
       "3      1.145683  1.588586  0.917861  0.596397  0.414552\n",
       "4      0.951077  1.669874  0.998709  0.661565  0.465650\n",
       "...         ...       ...       ...       ...       ...\n",
       "49995  0.999966  1.000624  0.997343  1.003979  0.998066\n",
       "49996  0.999966  1.000624  0.997343  1.003978  0.998066\n",
       "49997  0.999966  1.000624  0.997343  1.003978  0.998067\n",
       "49998  0.999966  1.000624  0.997343  1.003978  0.998067\n",
       "49999  0.999966  1.000624  0.997343  1.003978  0.998067\n",
       "\n",
       "[50000 rows x 5 columns]"
      ]
     },
     "execution_count": 42,
     "metadata": {},
     "output_type": "execute_result"
    }
   ],
   "source": [
    "df"
   ]
  },
  {
   "cell_type": "code",
   "execution_count": 81,
   "metadata": {},
   "outputs": [
    {
     "name": "stdout",
     "output_type": "stream",
     "text": [
      "x1    0.999772\n",
      "x2    1.004189\n",
      "x3    0.982151\n",
      "x4    1.026723\n",
      "x5    0.987012\n",
      "Name: 5000, dtype: float64\n"
     ]
    }
   ],
   "source": [
    "print(df.iloc[5000]) #for checking any particular iteration"
   ]
  },
  {
   "cell_type": "code",
   "execution_count": null,
   "metadata": {},
   "outputs": [],
   "source": []
  },
  {
   "cell_type": "code",
   "execution_count": 82,
   "metadata": {},
   "outputs": [],
   "source": [
    "# f1(x2,x3,x4,x5)"
   ]
  },
  {
   "cell_type": "code",
   "execution_count": 83,
   "metadata": {},
   "outputs": [],
   "source": [
    "# f2(x1,x3,x4,x5)"
   ]
  },
  {
   "cell_type": "code",
   "execution_count": 84,
   "metadata": {},
   "outputs": [],
   "source": [
    "# f3(x1,x2,x4,x5)"
   ]
  },
  {
   "cell_type": "code",
   "execution_count": 85,
   "metadata": {},
   "outputs": [],
   "source": [
    "# f4(x1,x2,x3,x5)"
   ]
  },
  {
   "cell_type": "code",
   "execution_count": 86,
   "metadata": {},
   "outputs": [],
   "source": [
    "# f5(x1,x2,x3,x4)"
   ]
  },
  {
   "cell_type": "code",
   "execution_count": 43,
   "metadata": {},
   "outputs": [],
   "source": [
    "x1=0\n",
    "x2=0\n",
    "x3=0\n",
    "x4=0\n",
    "x5=0\n",
    "\n",
    "x1l=[]\n",
    "x2l=[]\n",
    "x3l=[]\n",
    "x4l=[]\n",
    "x5l=[]"
   ]
  },
  {
   "cell_type": "code",
   "execution_count": 18,
   "metadata": {},
   "outputs": [],
   "source": [
    "#gauss jacobi\n",
    "for i in range(5000):\n",
    "    count=0\n",
    "#     print(\"\\n\\n\")\n",
    "#     print(\"i=\",i)\n",
    "    x1l.append(x1)\n",
    "    x2l.append(x2)\n",
    "    x3l.append(x3)\n",
    "    x4l.append(x4)\n",
    "    x5l.append(x5)\n",
    "#     print(\"added to list\")\n",
    "#     print(\"x1t\",x1t)\n",
    "#     print(\"x2t\",x2t)\n",
    "#     print(\"x3t\",x3t)\n",
    "#     print(\"x4t\",x4t)\n",
    "#     print(\"x5t\",x5t)\n",
    "    x1t=f1(x2,x3,x4,x5)\n",
    "    x2t=f2(x1,x3,x4,x5)\n",
    "    x3t=f3(x1,x2,x4,x5)\n",
    "    x4t=f4(x1,x2,x3,x5)\n",
    "    x5t=f5(x1,x2,x3,x4)\n",
    "    \n",
    "    if abs(x1t-x1)<10**-5:\n",
    "        print(\"reached solution\")\n",
    "        break\n",
    "#     print(\"executed expressions\")\n",
    "    \n",
    "#     print(\"x1\",x1)\n",
    "#     print(\"x2\",x2)\n",
    "#     print(\"x3\",x3)\n",
    "#     print(\"x4\",x4)\n",
    "#     print(\"x5\",x5)\n",
    "#     print(\"current values\")\n",
    "    x1=x1t\n",
    "    x2=x2t\n",
    "    x3=x3t\n",
    "    x4=x4t\n",
    "    x5=x5t\n",
    "    \n",
    "#     print(\"x1\",x1)\n",
    "#     print(\"x2\",x2)\n",
    "#     print(\"x3\",x3)\n",
    "#     print(\"x4\",x4)\n",
    "#     print(\"x5\",x5)\n",
    "#     print(\"temp val assigned\")\n",
    "    \n",
    "\n",
    "\n",
    "#     if abs(x1)==math.inf:\n",
    "#         print(\"non converging\")\n",
    "#         break\n",
    "    "
   ]
  },
  {
   "cell_type": "code",
   "execution_count": 44,
   "metadata": {},
   "outputs": [
    {
     "name": "stdout",
     "output_type": "stream",
     "text": [
      "non converging\n"
     ]
    }
   ],
   "source": [
    "#gauss jacobi\n",
    "import math\n",
    "for i in range(5000):\n",
    "    count=0\n",
    "#     print(\"\\n\\n\")\n",
    "#     print(\"i=\",i)\n",
    "       \n",
    "#     print(\"x1t\",x1t)\n",
    "#     print(\"x2t\",x2t)\n",
    "#     print(\"x3t\",x3t)\n",
    "#     print(\"x4t\",x4t)\n",
    "#     print(\"x5t\",x5t)\n",
    "    x1t=f1(x2,x3,x4,x5)\n",
    "    x2t=f2(x1,x3,x4,x5)\n",
    "    x3t=f3(x1,x2,x4,x5)\n",
    "    x4t=f4(x1,x2,x3,x5)\n",
    "    x5t=f5(x1,x2,x3,x4)\n",
    "    \n",
    "    if abs(x1t-x1)<10**-5:\n",
    "        print(\"reached solution\")\n",
    "        break\n",
    "#     print(\"executed expressions\")\n",
    "    \n",
    "#     print(\"x1\",x1)\n",
    "#     print(\"x2\",x2)\n",
    "#     print(\"x3\",x3)\n",
    "#     print(\"x4\",x4)\n",
    "#     print(\"x5\",x5)\n",
    "#     print(\"current values\")\n",
    "    x1=x1t\n",
    "    x2=x2t\n",
    "    x3=x3t\n",
    "    x4=x4t\n",
    "    x5=x5t\n",
    "    \n",
    "#     print(\"x1\",x1)\n",
    "#     print(\"x2\",x2)\n",
    "#     print(\"x3\",x3)\n",
    "#     print(\"x4\",x4)\n",
    "#     print(\"x5\",x5)\n",
    "#     print(\"temp val assigned\")\n",
    "    \n",
    "    x1l.append(x1)\n",
    "    x2l.append(x2)\n",
    "    x3l.append(x3)\n",
    "    x4l.append(x4)\n",
    "    x5l.append(x5)\n",
    "#     print(\"added to list\")\n",
    "\n",
    "    if abs(x1)==math.inf:\n",
    "        print(\"non converging\")\n",
    "        break\n",
    "    "
   ]
  },
  {
   "cell_type": "code",
   "execution_count": 45,
   "metadata": {},
   "outputs": [],
   "source": [
    "df2 = pd.DataFrame(list(zip(x1l, x2l, x3l, x4l, x5l)), \n",
    "               columns =['x1', 'x2', 'x3', 'x4','x5']) "
   ]
  },
  {
   "cell_type": "code",
   "execution_count": 46,
   "metadata": {},
   "outputs": [
    {
     "data": {
      "text/html": [
       "<div>\n",
       "<style scoped>\n",
       "    .dataframe tbody tr th:only-of-type {\n",
       "        vertical-align: middle;\n",
       "    }\n",
       "\n",
       "    .dataframe tbody tr th {\n",
       "        vertical-align: top;\n",
       "    }\n",
       "\n",
       "    .dataframe thead th {\n",
       "        text-align: right;\n",
       "    }\n",
       "</style>\n",
       "<table border=\"1\" class=\"dataframe\">\n",
       "  <thead>\n",
       "    <tr style=\"text-align: right;\">\n",
       "      <th></th>\n",
       "      <th>x1</th>\n",
       "      <th>x2</th>\n",
       "      <th>x3</th>\n",
       "      <th>x4</th>\n",
       "      <th>x5</th>\n",
       "    </tr>\n",
       "  </thead>\n",
       "  <tbody>\n",
       "    <tr>\n",
       "      <th>0</th>\n",
       "      <td>2.283333e+00</td>\n",
       "      <td>4.350000e+00</td>\n",
       "      <td>5.464286e+00</td>\n",
       "      <td>6.191667e+00</td>\n",
       "      <td>6.710714e+00</td>\n",
       "    </tr>\n",
       "    <tr>\n",
       "      <th>1</th>\n",
       "      <td>-4.603155e+00</td>\n",
       "      <td>-1.024357e+01</td>\n",
       "      <td>-1.373186e+01</td>\n",
       "      <td>-1.614104e+01</td>\n",
       "      <td>-1.791542e+01</td>\n",
       "    </tr>\n",
       "    <tr>\n",
       "      <th>2</th>\n",
       "      <td>1.960075e+01</td>\n",
       "      <td>4.019596e+01</td>\n",
       "      <td>5.218827e+01</td>\n",
       "      <td>6.028468e+01</td>\n",
       "      <td>6.617567e+01</td>\n",
       "    </tr>\n",
       "    <tr>\n",
       "      <th>3</th>\n",
       "      <td>-6.351704e+01</td>\n",
       "      <td>-1.334510e+02</td>\n",
       "      <td>-1.749542e+02</td>\n",
       "      <td>-2.031740e+02</td>\n",
       "      <td>-2.237841e+02</td>\n",
       "    </tr>\n",
       "    <tr>\n",
       "      <th>4</th>\n",
       "      <td>2.228772e+02</td>\n",
       "      <td>4.646376e+02</td>\n",
       "      <td>6.072972e+02</td>\n",
       "      <td>7.041021e+02</td>\n",
       "      <td>7.747297e+02</td>\n",
       "    </tr>\n",
       "    <tr>\n",
       "      <th>...</th>\n",
       "      <td>...</td>\n",
       "      <td>...</td>\n",
       "      <td>...</td>\n",
       "      <td>...</td>\n",
       "      <td>...</td>\n",
       "    </tr>\n",
       "    <tr>\n",
       "      <th>570</th>\n",
       "      <td>2.158339e+306</td>\n",
       "      <td>4.507601e+306</td>\n",
       "      <td>5.895651e+306</td>\n",
       "      <td>6.837956e+306</td>\n",
       "      <td>7.525600e+306</td>\n",
       "    </tr>\n",
       "    <tr>\n",
       "      <th>571</th>\n",
       "      <td>-7.433627e+306</td>\n",
       "      <td>-1.552482e+307</td>\n",
       "      <td>-2.030546e+307</td>\n",
       "      <td>-2.355089e+307</td>\n",
       "      <td>-2.591924e+307</td>\n",
       "    </tr>\n",
       "    <tr>\n",
       "      <th>572</th>\n",
       "      <td>2.560247e+307</td>\n",
       "      <td>5.346969e+307</td>\n",
       "      <td>6.993489e+307</td>\n",
       "      <td>8.111263e+307</td>\n",
       "      <td>8.926953e+307</td>\n",
       "    </tr>\n",
       "    <tr>\n",
       "      <th>573</th>\n",
       "      <td>-8.817854e+307</td>\n",
       "      <td>-inf</td>\n",
       "      <td>-inf</td>\n",
       "      <td>-inf</td>\n",
       "      <td>-inf</td>\n",
       "    </tr>\n",
       "    <tr>\n",
       "      <th>574</th>\n",
       "      <td>inf</td>\n",
       "      <td>inf</td>\n",
       "      <td>inf</td>\n",
       "      <td>inf</td>\n",
       "      <td>inf</td>\n",
       "    </tr>\n",
       "  </tbody>\n",
       "</table>\n",
       "<p>575 rows × 5 columns</p>\n",
       "</div>"
      ],
      "text/plain": [
       "                x1             x2             x3             x4             x5\n",
       "0     2.283333e+00   4.350000e+00   5.464286e+00   6.191667e+00   6.710714e+00\n",
       "1    -4.603155e+00  -1.024357e+01  -1.373186e+01  -1.614104e+01  -1.791542e+01\n",
       "2     1.960075e+01   4.019596e+01   5.218827e+01   6.028468e+01   6.617567e+01\n",
       "3    -6.351704e+01  -1.334510e+02  -1.749542e+02  -2.031740e+02  -2.237841e+02\n",
       "4     2.228772e+02   4.646376e+02   6.072972e+02   7.041021e+02   7.747297e+02\n",
       "..             ...            ...            ...            ...            ...\n",
       "570  2.158339e+306  4.507601e+306  5.895651e+306  6.837956e+306  7.525600e+306\n",
       "571 -7.433627e+306 -1.552482e+307 -2.030546e+307 -2.355089e+307 -2.591924e+307\n",
       "572  2.560247e+307  5.346969e+307  6.993489e+307  8.111263e+307  8.926953e+307\n",
       "573 -8.817854e+307           -inf           -inf           -inf           -inf\n",
       "574            inf            inf            inf            inf            inf\n",
       "\n",
       "[575 rows x 5 columns]"
      ]
     },
     "execution_count": 46,
     "metadata": {},
     "output_type": "execute_result"
    }
   ],
   "source": [
    "df2"
   ]
  },
  {
   "cell_type": "code",
   "execution_count": 21,
   "metadata": {},
   "outputs": [
    {
     "data": {
      "text/html": [
       "<div>\n",
       "<style scoped>\n",
       "    .dataframe tbody tr th:only-of-type {\n",
       "        vertical-align: middle;\n",
       "    }\n",
       "\n",
       "    .dataframe tbody tr th {\n",
       "        vertical-align: top;\n",
       "    }\n",
       "\n",
       "    .dataframe thead th {\n",
       "        text-align: right;\n",
       "    }\n",
       "</style>\n",
       "<table border=\"1\" class=\"dataframe\">\n",
       "  <thead>\n",
       "    <tr style=\"text-align: right;\">\n",
       "      <th></th>\n",
       "      <th>x1</th>\n",
       "      <th>x2</th>\n",
       "      <th>x3</th>\n",
       "      <th>x4</th>\n",
       "      <th>x5</th>\n",
       "    </tr>\n",
       "  </thead>\n",
       "  <tbody>\n",
       "    <tr>\n",
       "      <th>4995</th>\n",
       "      <td>inf</td>\n",
       "      <td>inf</td>\n",
       "      <td>inf</td>\n",
       "      <td>inf</td>\n",
       "      <td>inf</td>\n",
       "    </tr>\n",
       "    <tr>\n",
       "      <th>4996</th>\n",
       "      <td>-inf</td>\n",
       "      <td>-inf</td>\n",
       "      <td>-inf</td>\n",
       "      <td>-inf</td>\n",
       "      <td>-inf</td>\n",
       "    </tr>\n",
       "    <tr>\n",
       "      <th>4997</th>\n",
       "      <td>inf</td>\n",
       "      <td>inf</td>\n",
       "      <td>inf</td>\n",
       "      <td>inf</td>\n",
       "      <td>inf</td>\n",
       "    </tr>\n",
       "    <tr>\n",
       "      <th>4998</th>\n",
       "      <td>-inf</td>\n",
       "      <td>-inf</td>\n",
       "      <td>-inf</td>\n",
       "      <td>-inf</td>\n",
       "      <td>-inf</td>\n",
       "    </tr>\n",
       "    <tr>\n",
       "      <th>4999</th>\n",
       "      <td>inf</td>\n",
       "      <td>inf</td>\n",
       "      <td>inf</td>\n",
       "      <td>inf</td>\n",
       "      <td>inf</td>\n",
       "    </tr>\n",
       "  </tbody>\n",
       "</table>\n",
       "</div>"
      ],
      "text/plain": [
       "       x1   x2   x3   x4   x5\n",
       "4995  inf  inf  inf  inf  inf\n",
       "4996 -inf -inf -inf -inf -inf\n",
       "4997  inf  inf  inf  inf  inf\n",
       "4998 -inf -inf -inf -inf -inf\n",
       "4999  inf  inf  inf  inf  inf"
      ]
     },
     "execution_count": 21,
     "metadata": {},
     "output_type": "execute_result"
    }
   ],
   "source": [
    "df2.tail(5)"
   ]
  },
  {
   "cell_type": "code",
   "execution_count": null,
   "metadata": {},
   "outputs": [],
   "source": []
  }
 ],
 "metadata": {
  "kernelspec": {
   "display_name": "Python 3",
   "language": "python",
   "name": "python3"
  },
  "language_info": {
   "codemirror_mode": {
    "name": "ipython",
    "version": 3
   },
   "file_extension": ".py",
   "mimetype": "text/x-python",
   "name": "python",
   "nbconvert_exporter": "python",
   "pygments_lexer": "ipython3",
   "version": "3.8.6"
  }
 },
 "nbformat": 4,
 "nbformat_minor": 4
}
