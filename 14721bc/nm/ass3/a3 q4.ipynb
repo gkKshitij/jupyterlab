{
 "cells": [
  {
   "cell_type": "code",
   "execution_count": 47,
   "metadata": {},
   "outputs": [],
   "source": [
    "import pandas as pd \n",
    "import math\n",
    "import decimal \n",
    "from decimal import Decimal"
   ]
  },
  {
   "cell_type": "code",
   "execution_count": 2,
   "metadata": {},
   "outputs": [],
   "source": [
    "a = [[1/1, 1/2, 1/3, 1/4, 1/5],\n",
    "     [1/2, 1/3, 1/4, 1/5, 1/6],\n",
    "     [1/3, 1/4, 1/5, 1/6, 1/7],\n",
    "     [1/4, 1/5, 1/6, 1/7, 1/8],\n",
    "     [1/5, 1/6, 1/7, 1/8, 1/9]] \n",
    "b = [[1/1+1/2+1/3+1/4+1/5],\n",
    "     [1/2+1/3+1/4+1/5+1/6],\n",
    "     [1/3+1/4+1/5+1/6+1/7],\n",
    "     [1/4+1/5+1/6+1/7+1/8],\n",
    "     [1/5+1/6+1/7+1/8+1/9]] "
   ]
  },
  {
   "cell_type": "code",
   "execution_count": 3,
   "metadata": {},
   "outputs": [
    {
     "data": {
      "text/plain": [
       "[[1.0, 0.5, 0.3333333333333333, 0.25, 0.2],\n",
       " [0.5, 0.3333333333333333, 0.25, 0.2, 0.16666666666666666],\n",
       " [0.3333333333333333, 0.25, 0.2, 0.16666666666666666, 0.14285714285714285],\n",
       " [0.25, 0.2, 0.16666666666666666, 0.14285714285714285, 0.125],\n",
       " [0.2, 0.16666666666666666, 0.14285714285714285, 0.125, 0.1111111111111111]]"
      ]
     },
     "execution_count": 3,
     "metadata": {},
     "output_type": "execute_result"
    }
   ],
   "source": [
    "a"
   ]
  },
  {
   "cell_type": "code",
   "execution_count": 4,
   "metadata": {},
   "outputs": [
    {
     "data": {
      "text/plain": [
       "[[2.283333333333333],\n",
       " [1.45],\n",
       " [1.0928571428571427],\n",
       " [0.8845238095238095],\n",
       " [0.7456349206349207]]"
      ]
     },
     "execution_count": 4,
     "metadata": {},
     "output_type": "execute_result"
    }
   ],
   "source": [
    "b"
   ]
  },
  {
   "cell_type": "code",
   "execution_count": 70,
   "metadata": {},
   "outputs": [
    {
     "data": {
      "text/plain": [
       "0.5"
      ]
     },
     "execution_count": 70,
     "metadata": {},
     "output_type": "execute_result"
    }
   ],
   "source": [
    "a[0][1]"
   ]
  },
  {
   "cell_type": "code",
   "execution_count": 5,
   "metadata": {},
   "outputs": [],
   "source": [
    "def f1(x2,x3,x4,x5):\n",
    "    x1 = ((1/1+1/2+1/3+1/4+1/5)-(((1/2)*x2)+((1/3)*x3)+((1/4)*x4)+((1/5)*x5)))/(1)\n",
    "    return x1"
   ]
  },
  {
   "cell_type": "code",
   "execution_count": 6,
   "metadata": {},
   "outputs": [],
   "source": [
    "def f2(x1,x3,x4,x5):\n",
    "    x2 = ((1/2+1/3+1/4+1/5+1/6)-(((1/2)*x1)+((1/4)*x3)+((1/5)*x4)+((1/6)*x5)))/(1/3)\n",
    "    return x2"
   ]
  },
  {
   "cell_type": "code",
   "execution_count": 7,
   "metadata": {},
   "outputs": [],
   "source": [
    "def f3(x1,x2,x4,x5):\n",
    "    x3 = ((1/3+1/4+1/5+1/6+1/7)-(((1/3)*x1)+((1/4)*x2)+((1/6)*x4)+((1/7)*x5)))/(1/5)\n",
    "    return x3"
   ]
  },
  {
   "cell_type": "code",
   "execution_count": 8,
   "metadata": {},
   "outputs": [],
   "source": [
    "def f4(x1,x2,x3,x5):\n",
    "    x4 = ((1/4+1/5+1/6+1/7+1/8)-(((1/4)*x1)+((1/5)*x2)+((1/6)*x3)+((1/8)*x5)))/(1/7)\n",
    "    return x4"
   ]
  },
  {
   "cell_type": "code",
   "execution_count": 9,
   "metadata": {},
   "outputs": [],
   "source": [
    "def f5(x1,x2,x3,x4):\n",
    "    x5 = ((1/5+1/6+1/7+1/8+1/9)-(((1/5)*x1)+((1/6)*x2)+((1/7)*x3)+((1/8)*x4)))/(1/9)\n",
    "    return x5"
   ]
  },
  {
   "cell_type": "code",
   "execution_count": 76,
   "metadata": {},
   "outputs": [],
   "source": [
    "# (round(myFloat, 2))"
   ]
  },
  {
   "cell_type": "code",
   "execution_count": 77,
   "metadata": {},
   "outputs": [],
   "source": [
    "#setting solytion to 0\n",
    "x1=0\n",
    "x2=0\n",
    "x3=0\n",
    "x4=0\n",
    "x5=0\n",
    "#list for storing values\n",
    "x1l=[]\n",
    "x2l=[]\n",
    "x3l=[]\n",
    "x4l=[]\n",
    "x5l=[]"
   ]
  },
  {
   "cell_type": "code",
   "execution_count": 78,
   "metadata": {},
   "outputs": [],
   "source": [
    "#gauss seidal\n",
    "for i in range(50000):\n",
    "    count=0\n",
    "#     print(\"i=\",i)\n",
    "    \n",
    "    x1l.append(x1)\n",
    "    x2l.append(x2)\n",
    "    x3l.append(x3)\n",
    "    x4l.append(x4)\n",
    "    x5l.append(x5)\n",
    "#     print(\"added to list\")\n",
    "       \n",
    "    x1=f1(x2,x3,x4,x5)\n",
    "#     print(x1)\n",
    "    x2=f2(x1,x3,x4,x5)\n",
    "#     print(x2)\n",
    "    x3=f3(x1,x2,x4,x5)\n",
    "#     print(x3)\n",
    "    x4=f4(x1,x2,x3,x5)\n",
    "#     print(x4)\n",
    "    x5=f5(x1,x2,x3,x4)\n",
    "#     print(x5)\n",
    "#     print(\"executed expressions\")   "
   ]
  },
  {
   "cell_type": "code",
   "execution_count": 79,
   "metadata": {},
   "outputs": [],
   "source": [
    "df = pd.DataFrame(list(zip(x1l, x2l, x3l, x4l, x5l)), \n",
    "               columns =['x1', 'x2', 'x3', 'x4','x5']) "
   ]
  },
  {
   "cell_type": "code",
   "execution_count": 80,
   "metadata": {},
   "outputs": [
    {
     "data": {
      "text/html": [
       "<div>\n",
       "<style scoped>\n",
       "    .dataframe tbody tr th:only-of-type {\n",
       "        vertical-align: middle;\n",
       "    }\n",
       "\n",
       "    .dataframe tbody tr th {\n",
       "        vertical-align: top;\n",
       "    }\n",
       "\n",
       "    .dataframe thead th {\n",
       "        text-align: right;\n",
       "    }\n",
       "</style>\n",
       "<table border=\"1\" class=\"dataframe\">\n",
       "  <thead>\n",
       "    <tr style=\"text-align: right;\">\n",
       "      <th></th>\n",
       "      <th>x1</th>\n",
       "      <th>x2</th>\n",
       "      <th>x3</th>\n",
       "      <th>x4</th>\n",
       "      <th>x5</th>\n",
       "    </tr>\n",
       "  </thead>\n",
       "  <tbody>\n",
       "    <tr>\n",
       "      <th>0</th>\n",
       "      <td>0.000000</td>\n",
       "      <td>0.000000</td>\n",
       "      <td>0.000000</td>\n",
       "      <td>0.000000</td>\n",
       "      <td>0.000000</td>\n",
       "    </tr>\n",
       "    <tr>\n",
       "      <th>1</th>\n",
       "      <td>2.283333</td>\n",
       "      <td>0.925000</td>\n",
       "      <td>0.502480</td>\n",
       "      <td>0.314606</td>\n",
       "      <td>0.213236</td>\n",
       "    </tr>\n",
       "    <tr>\n",
       "      <th>2</th>\n",
       "      <td>1.532041</td>\n",
       "      <td>1.379696</td>\n",
       "      <td>0.771780</td>\n",
       "      <td>0.492028</td>\n",
       "      <td>0.337675</td>\n",
       "    </tr>\n",
       "    <tr>\n",
       "      <th>3</th>\n",
       "      <td>1.145683</td>\n",
       "      <td>1.588586</td>\n",
       "      <td>0.917861</td>\n",
       "      <td>0.596397</td>\n",
       "      <td>0.414552</td>\n",
       "    </tr>\n",
       "    <tr>\n",
       "      <th>4</th>\n",
       "      <td>0.951077</td>\n",
       "      <td>1.669874</td>\n",
       "      <td>0.998709</td>\n",
       "      <td>0.661565</td>\n",
       "      <td>0.465650</td>\n",
       "    </tr>\n",
       "    <tr>\n",
       "      <th>...</th>\n",
       "      <td>...</td>\n",
       "      <td>...</td>\n",
       "      <td>...</td>\n",
       "      <td>...</td>\n",
       "      <td>...</td>\n",
       "    </tr>\n",
       "    <tr>\n",
       "      <th>49995</th>\n",
       "      <td>0.999966</td>\n",
       "      <td>1.000624</td>\n",
       "      <td>0.997343</td>\n",
       "      <td>1.003979</td>\n",
       "      <td>0.998066</td>\n",
       "    </tr>\n",
       "    <tr>\n",
       "      <th>49996</th>\n",
       "      <td>0.999966</td>\n",
       "      <td>1.000624</td>\n",
       "      <td>0.997343</td>\n",
       "      <td>1.003978</td>\n",
       "      <td>0.998066</td>\n",
       "    </tr>\n",
       "    <tr>\n",
       "      <th>49997</th>\n",
       "      <td>0.999966</td>\n",
       "      <td>1.000624</td>\n",
       "      <td>0.997343</td>\n",
       "      <td>1.003978</td>\n",
       "      <td>0.998067</td>\n",
       "    </tr>\n",
       "    <tr>\n",
       "      <th>49998</th>\n",
       "      <td>0.999966</td>\n",
       "      <td>1.000624</td>\n",
       "      <td>0.997343</td>\n",
       "      <td>1.003978</td>\n",
       "      <td>0.998067</td>\n",
       "    </tr>\n",
       "    <tr>\n",
       "      <th>49999</th>\n",
       "      <td>0.999966</td>\n",
       "      <td>1.000624</td>\n",
       "      <td>0.997343</td>\n",
       "      <td>1.003978</td>\n",
       "      <td>0.998067</td>\n",
       "    </tr>\n",
       "  </tbody>\n",
       "</table>\n",
       "<p>50000 rows × 5 columns</p>\n",
       "</div>"
      ],
      "text/plain": [
       "             x1        x2        x3        x4        x5\n",
       "0      0.000000  0.000000  0.000000  0.000000  0.000000\n",
       "1      2.283333  0.925000  0.502480  0.314606  0.213236\n",
       "2      1.532041  1.379696  0.771780  0.492028  0.337675\n",
       "3      1.145683  1.588586  0.917861  0.596397  0.414552\n",
       "4      0.951077  1.669874  0.998709  0.661565  0.465650\n",
       "...         ...       ...       ...       ...       ...\n",
       "49995  0.999966  1.000624  0.997343  1.003979  0.998066\n",
       "49996  0.999966  1.000624  0.997343  1.003978  0.998066\n",
       "49997  0.999966  1.000624  0.997343  1.003978  0.998067\n",
       "49998  0.999966  1.000624  0.997343  1.003978  0.998067\n",
       "49999  0.999966  1.000624  0.997343  1.003978  0.998067\n",
       "\n",
       "[50000 rows x 5 columns]"
      ]
     },
     "execution_count": 80,
     "metadata": {},
     "output_type": "execute_result"
    }
   ],
   "source": [
    "df"
   ]
  },
  {
   "cell_type": "code",
   "execution_count": 81,
   "metadata": {},
   "outputs": [
    {
     "name": "stdout",
     "output_type": "stream",
     "text": [
      "x1    0.999772\n",
      "x2    1.004189\n",
      "x3    0.982151\n",
      "x4    1.026723\n",
      "x5    0.987012\n",
      "Name: 5000, dtype: float64\n"
     ]
    }
   ],
   "source": [
    "print(df.iloc[5000]) #for checking any particular iteration"
   ]
  },
  {
   "cell_type": "code",
   "execution_count": null,
   "metadata": {},
   "outputs": [],
   "source": []
  },
  {
   "cell_type": "code",
   "execution_count": 82,
   "metadata": {},
   "outputs": [],
   "source": [
    "# f1(x2,x3,x4,x5)"
   ]
  },
  {
   "cell_type": "code",
   "execution_count": 83,
   "metadata": {},
   "outputs": [],
   "source": [
    "# f2(x1,x3,x4,x5)"
   ]
  },
  {
   "cell_type": "code",
   "execution_count": 84,
   "metadata": {},
   "outputs": [],
   "source": [
    "# f3(x1,x2,x4,x5)"
   ]
  },
  {
   "cell_type": "code",
   "execution_count": 85,
   "metadata": {},
   "outputs": [],
   "source": [
    "# f4(x1,x2,x3,x5)"
   ]
  },
  {
   "cell_type": "code",
   "execution_count": 86,
   "metadata": {},
   "outputs": [],
   "source": [
    "# f5(x1,x2,x3,x4)"
   ]
  },
  {
   "cell_type": "code",
   "execution_count": 55,
   "metadata": {},
   "outputs": [],
   "source": [
    "x1=(Decimal.from_float(0), '.22')\n",
    "x2=(Decimal.from_float(0), '.22')\n",
    "x3=(Decimal.from_float(0), '.22')\n",
    "x4=(Decimal.from_float(0), '.22')\n",
    "x5=(Decimal.from_float(0), '.22')\n",
    "\n",
    "x1l=[]\n",
    "x2l=[]\n",
    "x3l=[]\n",
    "x4l=[]\n",
    "x5l=[]\n",
    "absl=[]"
   ]
  },
  {
   "cell_type": "code",
   "execution_count": 56,
   "metadata": {},
   "outputs": [
    {
     "ename": "TypeError",
     "evalue": "can't multiply sequence by non-int of type 'float'",
     "output_type": "error",
     "traceback": [
      "\u001b[1;31m---------------------------------------------------------------------------\u001b[0m",
      "\u001b[1;31mTypeError\u001b[0m                                 Traceback (most recent call last)",
      "\u001b[1;32m<ipython-input-56-07b9f2bdf83b>\u001b[0m in \u001b[0;36m<module>\u001b[1;34m\u001b[0m\n\u001b[0;32m     16\u001b[0m \u001b[1;31m#     print(\"x4t\",x4t)\u001b[0m\u001b[1;33m\u001b[0m\u001b[1;33m\u001b[0m\u001b[1;33m\u001b[0m\u001b[0m\n\u001b[0;32m     17\u001b[0m \u001b[1;31m#     print(\"x5t\",x5t)\u001b[0m\u001b[1;33m\u001b[0m\u001b[1;33m\u001b[0m\u001b[1;33m\u001b[0m\u001b[0m\n\u001b[1;32m---> 18\u001b[1;33m     \u001b[0mx1t\u001b[0m\u001b[1;33m=\u001b[0m\u001b[0mf1\u001b[0m\u001b[1;33m(\u001b[0m\u001b[0mx2\u001b[0m\u001b[1;33m,\u001b[0m\u001b[0mx3\u001b[0m\u001b[1;33m,\u001b[0m\u001b[0mx4\u001b[0m\u001b[1;33m,\u001b[0m\u001b[0mx5\u001b[0m\u001b[1;33m)\u001b[0m\u001b[1;33m\u001b[0m\u001b[1;33m\u001b[0m\u001b[0m\n\u001b[0m\u001b[0;32m     19\u001b[0m     \u001b[0mx2t\u001b[0m\u001b[1;33m=\u001b[0m\u001b[0mf2\u001b[0m\u001b[1;33m(\u001b[0m\u001b[0mx1\u001b[0m\u001b[1;33m,\u001b[0m\u001b[0mx3\u001b[0m\u001b[1;33m,\u001b[0m\u001b[0mx4\u001b[0m\u001b[1;33m,\u001b[0m\u001b[0mx5\u001b[0m\u001b[1;33m)\u001b[0m\u001b[1;33m\u001b[0m\u001b[1;33m\u001b[0m\u001b[0m\n\u001b[0;32m     20\u001b[0m     \u001b[0mx3t\u001b[0m\u001b[1;33m=\u001b[0m\u001b[0mf3\u001b[0m\u001b[1;33m(\u001b[0m\u001b[0mx1\u001b[0m\u001b[1;33m,\u001b[0m\u001b[0mx2\u001b[0m\u001b[1;33m,\u001b[0m\u001b[0mx4\u001b[0m\u001b[1;33m,\u001b[0m\u001b[0mx5\u001b[0m\u001b[1;33m)\u001b[0m\u001b[1;33m\u001b[0m\u001b[1;33m\u001b[0m\u001b[0m\n",
      "\u001b[1;32m<ipython-input-5-7cd784db55c7>\u001b[0m in \u001b[0;36mf1\u001b[1;34m(x2, x3, x4, x5)\u001b[0m\n\u001b[0;32m      1\u001b[0m \u001b[1;32mdef\u001b[0m \u001b[0mf1\u001b[0m\u001b[1;33m(\u001b[0m\u001b[0mx2\u001b[0m\u001b[1;33m,\u001b[0m\u001b[0mx3\u001b[0m\u001b[1;33m,\u001b[0m\u001b[0mx4\u001b[0m\u001b[1;33m,\u001b[0m\u001b[0mx5\u001b[0m\u001b[1;33m)\u001b[0m\u001b[1;33m:\u001b[0m\u001b[1;33m\u001b[0m\u001b[1;33m\u001b[0m\u001b[0m\n\u001b[1;32m----> 2\u001b[1;33m     \u001b[0mx1\u001b[0m \u001b[1;33m=\u001b[0m \u001b[1;33m(\u001b[0m\u001b[1;33m(\u001b[0m\u001b[1;36m1\u001b[0m\u001b[1;33m/\u001b[0m\u001b[1;36m1\u001b[0m\u001b[1;33m+\u001b[0m\u001b[1;36m1\u001b[0m\u001b[1;33m/\u001b[0m\u001b[1;36m2\u001b[0m\u001b[1;33m+\u001b[0m\u001b[1;36m1\u001b[0m\u001b[1;33m/\u001b[0m\u001b[1;36m3\u001b[0m\u001b[1;33m+\u001b[0m\u001b[1;36m1\u001b[0m\u001b[1;33m/\u001b[0m\u001b[1;36m4\u001b[0m\u001b[1;33m+\u001b[0m\u001b[1;36m1\u001b[0m\u001b[1;33m/\u001b[0m\u001b[1;36m5\u001b[0m\u001b[1;33m)\u001b[0m\u001b[1;33m-\u001b[0m\u001b[1;33m(\u001b[0m\u001b[1;33m(\u001b[0m\u001b[1;33m(\u001b[0m\u001b[1;36m1\u001b[0m\u001b[1;33m/\u001b[0m\u001b[1;36m2\u001b[0m\u001b[1;33m)\u001b[0m\u001b[1;33m*\u001b[0m\u001b[0mx2\u001b[0m\u001b[1;33m)\u001b[0m\u001b[1;33m+\u001b[0m\u001b[1;33m(\u001b[0m\u001b[1;33m(\u001b[0m\u001b[1;36m1\u001b[0m\u001b[1;33m/\u001b[0m\u001b[1;36m3\u001b[0m\u001b[1;33m)\u001b[0m\u001b[1;33m*\u001b[0m\u001b[0mx3\u001b[0m\u001b[1;33m)\u001b[0m\u001b[1;33m+\u001b[0m\u001b[1;33m(\u001b[0m\u001b[1;33m(\u001b[0m\u001b[1;36m1\u001b[0m\u001b[1;33m/\u001b[0m\u001b[1;36m4\u001b[0m\u001b[1;33m)\u001b[0m\u001b[1;33m*\u001b[0m\u001b[0mx4\u001b[0m\u001b[1;33m)\u001b[0m\u001b[1;33m+\u001b[0m\u001b[1;33m(\u001b[0m\u001b[1;33m(\u001b[0m\u001b[1;36m1\u001b[0m\u001b[1;33m/\u001b[0m\u001b[1;36m5\u001b[0m\u001b[1;33m)\u001b[0m\u001b[1;33m*\u001b[0m\u001b[0mx5\u001b[0m\u001b[1;33m)\u001b[0m\u001b[1;33m)\u001b[0m\u001b[1;33m)\u001b[0m\u001b[1;33m/\u001b[0m\u001b[1;33m(\u001b[0m\u001b[1;36m1\u001b[0m\u001b[1;33m)\u001b[0m\u001b[1;33m\u001b[0m\u001b[1;33m\u001b[0m\u001b[0m\n\u001b[0m\u001b[0;32m      3\u001b[0m     \u001b[1;32mreturn\u001b[0m \u001b[0mx1\u001b[0m\u001b[1;33m\u001b[0m\u001b[1;33m\u001b[0m\u001b[0m\n",
      "\u001b[1;31mTypeError\u001b[0m: can't multiply sequence by non-int of type 'float'"
     ]
    }
   ],
   "source": [
    "#gauss jacobi\n",
    "# decimal.getcontext().prec = 7\n",
    "for i in range(5000):\n",
    "    count=0\n",
    "#     print(\"\\n\\n\")\n",
    "#     print(\"i=\",i)\n",
    "    x1l.append(x1)\n",
    "    x2l.append(x2)\n",
    "    x3l.append(x3)\n",
    "    x4l.append(x4)\n",
    "    x5l.append(x5)\n",
    "#     print(\"added to list\")\n",
    "#     print(\"x1t\",x1t)\n",
    "#     print(\"x2t\",x2t)\n",
    "#     print(\"x3t\",x3t)\n",
    "#     print(\"x4t\",x4t)\n",
    "#     print(\"x5t\",x5t)\n",
    "    x1t=f1(x2,x3,x4,x5)\n",
    "    x2t=f2(x1,x3,x4,x5)\n",
    "    x3t=f3(x1,x2,x4,x5)\n",
    "    x4t=f4(x1,x2,x3,x5)\n",
    "    x5t=f5(x1,x2,x3,x4)\n",
    "    \n",
    "    if abs(x1t-x1)<10**-3:\n",
    "        print(\"reached solution\")\n",
    "        break\n",
    "    else:\n",
    "        absl.append(abs(x1t-x1))\n",
    "#     print(\"executed expressions\")\n",
    "    \n",
    "#     print(\"x1\",x1)\n",
    "#     print(\"x2\",x2)\n",
    "#     print(\"x3\",x3)\n",
    "#     print(\"x4\",x4)\n",
    "#     print(\"x5\",x5)\n",
    "#     print(\"current values\")\n",
    "    x1=x1t #(Decimal.from_float(xt1), '.22')\n",
    "    x2=x2t #(Decimal.from_float(xt2), '.22')\n",
    "    x3=x3t #(Decimal.from_float(xt3), '.22')\n",
    "    x4=x4t #(Decimal.from_float(xt4), '.22')\n",
    "    x5=x5t #(Decimal.from_float(xt5), '.22')\n",
    "    \n",
    "#     print(\"x1\",x1)\n",
    "#     print(\"x2\",x2)\n",
    "#     print(\"x3\",x3)\n",
    "#     print(\"x4\",x4)\n",
    "#     print(\"x5\",x5)\n",
    "#     print(\"temp val assigned\")\n",
    "    \n",
    "\n",
    "\n",
    "    if abs(x1)==math.inf:\n",
    "        print(\"non converging\")\n",
    "        break\n",
    "    "
   ]
  },
  {
   "cell_type": "code",
   "execution_count": 52,
   "metadata": {},
   "outputs": [],
   "source": [
    "df2 = pd.DataFrame(list(zip(x1l, x2l, x3l, x4l, x5l,absl)), \n",
    "               columns =['x1', 'x2', 'x3', 'x4','x5','convergence']) "
   ]
  },
  {
   "cell_type": "code",
   "execution_count": 53,
   "metadata": {},
   "outputs": [
    {
     "data": {
      "text/html": [
       "<div>\n",
       "<style scoped>\n",
       "    .dataframe tbody tr th:only-of-type {\n",
       "        vertical-align: middle;\n",
       "    }\n",
       "\n",
       "    .dataframe tbody tr th {\n",
       "        vertical-align: top;\n",
       "    }\n",
       "\n",
       "    .dataframe thead th {\n",
       "        text-align: right;\n",
       "    }\n",
       "</style>\n",
       "<table border=\"1\" class=\"dataframe\">\n",
       "  <thead>\n",
       "    <tr style=\"text-align: right;\">\n",
       "      <th></th>\n",
       "      <th>x1</th>\n",
       "      <th>x2</th>\n",
       "      <th>x3</th>\n",
       "      <th>x4</th>\n",
       "      <th>x5</th>\n",
       "      <th>convergence</th>\n",
       "    </tr>\n",
       "  </thead>\n",
       "  <tbody>\n",
       "    <tr>\n",
       "      <th>0</th>\n",
       "      <td>0.000000e+00</td>\n",
       "      <td>0.000000e+00</td>\n",
       "      <td>0.000000e+00</td>\n",
       "      <td>0.000000e+00</td>\n",
       "      <td>0.000000e+00</td>\n",
       "      <td>2.283333e+00</td>\n",
       "    </tr>\n",
       "    <tr>\n",
       "      <th>1</th>\n",
       "      <td>2.283333e+00</td>\n",
       "      <td>4.350000e+00</td>\n",
       "      <td>5.464286e+00</td>\n",
       "      <td>6.191667e+00</td>\n",
       "      <td>6.710714e+00</td>\n",
       "      <td>6.886488e+00</td>\n",
       "    </tr>\n",
       "    <tr>\n",
       "      <th>2</th>\n",
       "      <td>-4.603155e+00</td>\n",
       "      <td>-1.024357e+01</td>\n",
       "      <td>-1.373186e+01</td>\n",
       "      <td>-1.614104e+01</td>\n",
       "      <td>-1.791542e+01</td>\n",
       "      <td>2.420390e+01</td>\n",
       "    </tr>\n",
       "    <tr>\n",
       "      <th>3</th>\n",
       "      <td>1.960075e+01</td>\n",
       "      <td>4.019596e+01</td>\n",
       "      <td>5.218827e+01</td>\n",
       "      <td>6.028468e+01</td>\n",
       "      <td>6.617567e+01</td>\n",
       "      <td>8.311779e+01</td>\n",
       "    </tr>\n",
       "    <tr>\n",
       "      <th>4</th>\n",
       "      <td>-6.351704e+01</td>\n",
       "      <td>-1.334510e+02</td>\n",
       "      <td>-1.749542e+02</td>\n",
       "      <td>-2.031740e+02</td>\n",
       "      <td>-2.237841e+02</td>\n",
       "      <td>2.863942e+02</td>\n",
       "    </tr>\n",
       "    <tr>\n",
       "      <th>...</th>\n",
       "      <td>...</td>\n",
       "      <td>...</td>\n",
       "      <td>...</td>\n",
       "      <td>...</td>\n",
       "      <td>...</td>\n",
       "      <td>...</td>\n",
       "    </tr>\n",
       "    <tr>\n",
       "      <th>570</th>\n",
       "      <td>-6.266696e+305</td>\n",
       "      <td>-1.308773e+306</td>\n",
       "      <td>-1.711791e+306</td>\n",
       "      <td>-1.985387e+306</td>\n",
       "      <td>-2.185043e+306</td>\n",
       "      <td>2.785009e+306</td>\n",
       "    </tr>\n",
       "    <tr>\n",
       "      <th>571</th>\n",
       "      <td>2.158339e+306</td>\n",
       "      <td>4.507601e+306</td>\n",
       "      <td>5.895651e+306</td>\n",
       "      <td>6.837956e+306</td>\n",
       "      <td>7.525600e+306</td>\n",
       "      <td>9.591966e+306</td>\n",
       "    </tr>\n",
       "    <tr>\n",
       "      <th>572</th>\n",
       "      <td>-7.433627e+306</td>\n",
       "      <td>-1.552482e+307</td>\n",
       "      <td>-2.030546e+307</td>\n",
       "      <td>-2.355089e+307</td>\n",
       "      <td>-2.591924e+307</td>\n",
       "      <td>3.303609e+307</td>\n",
       "    </tr>\n",
       "    <tr>\n",
       "      <th>573</th>\n",
       "      <td>2.560247e+307</td>\n",
       "      <td>5.346969e+307</td>\n",
       "      <td>6.993489e+307</td>\n",
       "      <td>8.111263e+307</td>\n",
       "      <td>8.926953e+307</td>\n",
       "      <td>1.137810e+308</td>\n",
       "    </tr>\n",
       "    <tr>\n",
       "      <th>574</th>\n",
       "      <td>-8.817854e+307</td>\n",
       "      <td>-inf</td>\n",
       "      <td>-inf</td>\n",
       "      <td>-inf</td>\n",
       "      <td>-inf</td>\n",
       "      <td>inf</td>\n",
       "    </tr>\n",
       "  </tbody>\n",
       "</table>\n",
       "<p>575 rows × 6 columns</p>\n",
       "</div>"
      ],
      "text/plain": [
       "                x1             x2             x3             x4  \\\n",
       "0     0.000000e+00   0.000000e+00   0.000000e+00   0.000000e+00   \n",
       "1     2.283333e+00   4.350000e+00   5.464286e+00   6.191667e+00   \n",
       "2    -4.603155e+00  -1.024357e+01  -1.373186e+01  -1.614104e+01   \n",
       "3     1.960075e+01   4.019596e+01   5.218827e+01   6.028468e+01   \n",
       "4    -6.351704e+01  -1.334510e+02  -1.749542e+02  -2.031740e+02   \n",
       "..             ...            ...            ...            ...   \n",
       "570 -6.266696e+305 -1.308773e+306 -1.711791e+306 -1.985387e+306   \n",
       "571  2.158339e+306  4.507601e+306  5.895651e+306  6.837956e+306   \n",
       "572 -7.433627e+306 -1.552482e+307 -2.030546e+307 -2.355089e+307   \n",
       "573  2.560247e+307  5.346969e+307  6.993489e+307  8.111263e+307   \n",
       "574 -8.817854e+307           -inf           -inf           -inf   \n",
       "\n",
       "                x5    convergence  \n",
       "0     0.000000e+00   2.283333e+00  \n",
       "1     6.710714e+00   6.886488e+00  \n",
       "2    -1.791542e+01   2.420390e+01  \n",
       "3     6.617567e+01   8.311779e+01  \n",
       "4    -2.237841e+02   2.863942e+02  \n",
       "..             ...            ...  \n",
       "570 -2.185043e+306  2.785009e+306  \n",
       "571  7.525600e+306  9.591966e+306  \n",
       "572 -2.591924e+307  3.303609e+307  \n",
       "573  8.926953e+307  1.137810e+308  \n",
       "574           -inf            inf  \n",
       "\n",
       "[575 rows x 6 columns]"
      ]
     },
     "execution_count": 53,
     "metadata": {},
     "output_type": "execute_result"
    }
   ],
   "source": [
    "df2"
   ]
  },
  {
   "cell_type": "code",
   "execution_count": 31,
   "metadata": {},
   "outputs": [
    {
     "data": {
      "text/plain": [
       "x1            -8.817854e+307\n",
       "x2                      -inf\n",
       "x3                      -inf\n",
       "x4                      -inf\n",
       "x5                      -inf\n",
       "convergence              inf\n",
       "Name: 574, dtype: float64"
      ]
     },
     "execution_count": 31,
     "metadata": {},
     "output_type": "execute_result"
    }
   ],
   "source": [
    "df2.iloc[-1]"
   ]
  },
  {
   "cell_type": "code",
   "execution_count": 91,
   "metadata": {},
   "outputs": [
    {
     "data": {
      "text/html": [
       "<div>\n",
       "<style scoped>\n",
       "    .dataframe tbody tr th:only-of-type {\n",
       "        vertical-align: middle;\n",
       "    }\n",
       "\n",
       "    .dataframe tbody tr th {\n",
       "        vertical-align: top;\n",
       "    }\n",
       "\n",
       "    .dataframe thead th {\n",
       "        text-align: right;\n",
       "    }\n",
       "</style>\n",
       "<table border=\"1\" class=\"dataframe\">\n",
       "  <thead>\n",
       "    <tr style=\"text-align: right;\">\n",
       "      <th></th>\n",
       "      <th>x1</th>\n",
       "      <th>x2</th>\n",
       "      <th>x3</th>\n",
       "      <th>x4</th>\n",
       "      <th>x5</th>\n",
       "    </tr>\n",
       "  </thead>\n",
       "  <tbody>\n",
       "    <tr>\n",
       "      <th>570</th>\n",
       "      <td>-6.266696e+305</td>\n",
       "      <td>-1.308773e+306</td>\n",
       "      <td>-1.711791e+306</td>\n",
       "      <td>-1.985387e+306</td>\n",
       "      <td>-2.185043e+306</td>\n",
       "    </tr>\n",
       "    <tr>\n",
       "      <th>571</th>\n",
       "      <td>2.158339e+306</td>\n",
       "      <td>4.507601e+306</td>\n",
       "      <td>5.895651e+306</td>\n",
       "      <td>6.837956e+306</td>\n",
       "      <td>7.525600e+306</td>\n",
       "    </tr>\n",
       "    <tr>\n",
       "      <th>572</th>\n",
       "      <td>-7.433627e+306</td>\n",
       "      <td>-1.552482e+307</td>\n",
       "      <td>-2.030546e+307</td>\n",
       "      <td>-2.355089e+307</td>\n",
       "      <td>-2.591924e+307</td>\n",
       "    </tr>\n",
       "    <tr>\n",
       "      <th>573</th>\n",
       "      <td>2.560247e+307</td>\n",
       "      <td>5.346969e+307</td>\n",
       "      <td>6.993489e+307</td>\n",
       "      <td>8.111263e+307</td>\n",
       "      <td>8.926953e+307</td>\n",
       "    </tr>\n",
       "    <tr>\n",
       "      <th>574</th>\n",
       "      <td>-8.817854e+307</td>\n",
       "      <td>-inf</td>\n",
       "      <td>-inf</td>\n",
       "      <td>-inf</td>\n",
       "      <td>-inf</td>\n",
       "    </tr>\n",
       "  </tbody>\n",
       "</table>\n",
       "</div>"
      ],
      "text/plain": [
       "                x1             x2             x3             x4             x5\n",
       "570 -6.266696e+305 -1.308773e+306 -1.711791e+306 -1.985387e+306 -2.185043e+306\n",
       "571  2.158339e+306  4.507601e+306  5.895651e+306  6.837956e+306  7.525600e+306\n",
       "572 -7.433627e+306 -1.552482e+307 -2.030546e+307 -2.355089e+307 -2.591924e+307\n",
       "573  2.560247e+307  5.346969e+307  6.993489e+307  8.111263e+307  8.926953e+307\n",
       "574 -8.817854e+307           -inf           -inf           -inf           -inf"
      ]
     },
     "execution_count": 91,
     "metadata": {},
     "output_type": "execute_result"
    }
   ],
   "source": [
    "df2.tail(5)"
   ]
  },
  {
   "cell_type": "code",
   "execution_count": null,
   "metadata": {},
   "outputs": [],
   "source": []
  }
 ],
 "metadata": {
  "kernelspec": {
   "display_name": "Python 3",
   "language": "python",
   "name": "python3"
  },
  "language_info": {
   "codemirror_mode": {
    "name": "ipython",
    "version": 3
   },
   "file_extension": ".py",
   "mimetype": "text/x-python",
   "name": "python",
   "nbconvert_exporter": "python",
   "pygments_lexer": "ipython3",
   "version": "3.8.6"
  }
 },
 "nbformat": 4,
 "nbformat_minor": 4
}
