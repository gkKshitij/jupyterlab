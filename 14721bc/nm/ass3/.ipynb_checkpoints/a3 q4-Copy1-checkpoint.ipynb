{
 "cells": [
  {
   "cell_type": "code",
   "execution_count": 1,
   "metadata": {},
   "outputs": [],
   "source": [
    "import pandas as pd \n",
    "import math"
   ]
  },
  {
   "cell_type": "code",
   "execution_count": 20,
   "metadata": {},
   "outputs": [],
   "source": [
    "# (round(myFloat, 2))"
   ]
  },
  {
   "cell_type": "code",
   "execution_count": 56,
   "metadata": {},
   "outputs": [],
   "source": [
    "def f1(x2,x3):\n",
    "    return (1/9)*((b1)-(x2)-(x3))"
   ]
  },
  {
   "cell_type": "code",
   "execution_count": 59,
   "metadata": {},
   "outputs": [],
   "source": [
    "def f2(x1,x3):\n",
    "    return (1/10)*((b2)-(2*x1)-(3*x3))"
   ]
  },
  {
   "cell_type": "code",
   "execution_count": 60,
   "metadata": {},
   "outputs": [],
   "source": [
    "def f3(x1,x2):\n",
    "    return (1/11)*((b3)-(3*x1)-(4*x2))"
   ]
  },
  {
   "cell_type": "code",
   "execution_count": 61,
   "metadata": {},
   "outputs": [],
   "source": [
    "b1=10\n",
    "b2=19\n",
    "b3=0"
   ]
  },
  {
   "cell_type": "code",
   "execution_count": 62,
   "metadata": {},
   "outputs": [],
   "source": [
    "#setting solytion to 0\n",
    "x1=0\n",
    "x2=0\n",
    "x3=0\n",
    "#list for storing values\n",
    "x1l=[]\n",
    "x2l=[]\n",
    "x3l=[]"
   ]
  },
  {
   "cell_type": "code",
   "execution_count": 63,
   "metadata": {},
   "outputs": [
    {
     "name": "stdout",
     "output_type": "stream",
     "text": [
      "reached solution\n"
     ]
    }
   ],
   "source": [
    "#gauss jacobi\n",
    "for i in range(5000):\n",
    "    count=0\n",
    "    x1t=f1(x2,x3)\n",
    "    x2t=f2(x1,x3)\n",
    "    x3t=f3(x1,x2)\n",
    "\n",
    "    x1l.append(x1)\n",
    "    x2l.append(x2)\n",
    "    x3l.append(x3)\n",
    "   \n",
    "    if abs(x1t-x1)<10**-5:\n",
    "        print(\"reached solution\")\n",
    "        break\n",
    "\n",
    "    x1=x1t\n",
    "    x2=x2t\n",
    "    x3=x3t\n",
    "    \n",
    "    if abs(x1)==math.inf:\n",
    "        print(\"non converging\")\n",
    "        break"
   ]
  },
  {
   "cell_type": "code",
   "execution_count": 64,
   "metadata": {},
   "outputs": [],
   "source": [
    "df2 = pd.DataFrame(list(zip(x1l, x2l, x3l)), \n",
    "               columns =['x1', 'x2', 'x3']) "
   ]
  },
  {
   "cell_type": "code",
   "execution_count": 65,
   "metadata": {},
   "outputs": [
    {
     "data": {
      "text/html": [
       "<div>\n",
       "<style scoped>\n",
       "    .dataframe tbody tr th:only-of-type {\n",
       "        vertical-align: middle;\n",
       "    }\n",
       "\n",
       "    .dataframe tbody tr th {\n",
       "        vertical-align: top;\n",
       "    }\n",
       "\n",
       "    .dataframe thead th {\n",
       "        text-align: right;\n",
       "    }\n",
       "</style>\n",
       "<table border=\"1\" class=\"dataframe\">\n",
       "  <thead>\n",
       "    <tr style=\"text-align: right;\">\n",
       "      <th></th>\n",
       "      <th>x1</th>\n",
       "      <th>x2</th>\n",
       "      <th>x3</th>\n",
       "    </tr>\n",
       "  </thead>\n",
       "  <tbody>\n",
       "    <tr>\n",
       "      <th>0</th>\n",
       "      <td>0.000000</td>\n",
       "      <td>0.000000</td>\n",
       "      <td>0.000000</td>\n",
       "    </tr>\n",
       "    <tr>\n",
       "      <th>1</th>\n",
       "      <td>1.111111</td>\n",
       "      <td>1.900000</td>\n",
       "      <td>0.000000</td>\n",
       "    </tr>\n",
       "    <tr>\n",
       "      <th>2</th>\n",
       "      <td>0.900000</td>\n",
       "      <td>1.677778</td>\n",
       "      <td>-0.993939</td>\n",
       "    </tr>\n",
       "    <tr>\n",
       "      <th>3</th>\n",
       "      <td>1.035129</td>\n",
       "      <td>2.018182</td>\n",
       "      <td>-0.855556</td>\n",
       "    </tr>\n",
       "    <tr>\n",
       "      <th>4</th>\n",
       "      <td>0.981930</td>\n",
       "      <td>1.949641</td>\n",
       "      <td>-1.016192</td>\n",
       "    </tr>\n",
       "    <tr>\n",
       "      <th>5</th>\n",
       "      <td>1.007395</td>\n",
       "      <td>2.008472</td>\n",
       "      <td>-0.976760</td>\n",
       "    </tr>\n",
       "    <tr>\n",
       "      <th>6</th>\n",
       "      <td>0.996476</td>\n",
       "      <td>1.991549</td>\n",
       "      <td>-1.005097</td>\n",
       "    </tr>\n",
       "    <tr>\n",
       "      <th>7</th>\n",
       "      <td>1.001505</td>\n",
       "      <td>2.002234</td>\n",
       "      <td>-0.995966</td>\n",
       "    </tr>\n",
       "    <tr>\n",
       "      <th>8</th>\n",
       "      <td>0.999304</td>\n",
       "      <td>1.998489</td>\n",
       "      <td>-1.001223</td>\n",
       "    </tr>\n",
       "    <tr>\n",
       "      <th>9</th>\n",
       "      <td>1.000304</td>\n",
       "      <td>2.000506</td>\n",
       "      <td>-0.999260</td>\n",
       "    </tr>\n",
       "    <tr>\n",
       "      <th>10</th>\n",
       "      <td>0.999862</td>\n",
       "      <td>1.999717</td>\n",
       "      <td>-1.000267</td>\n",
       "    </tr>\n",
       "    <tr>\n",
       "      <th>11</th>\n",
       "      <td>1.000061</td>\n",
       "      <td>2.000108</td>\n",
       "      <td>-0.999859</td>\n",
       "    </tr>\n",
       "    <tr>\n",
       "      <th>12</th>\n",
       "      <td>0.999972</td>\n",
       "      <td>1.999946</td>\n",
       "      <td>-1.000056</td>\n",
       "    </tr>\n",
       "    <tr>\n",
       "      <th>13</th>\n",
       "      <td>1.000012</td>\n",
       "      <td>2.000022</td>\n",
       "      <td>-0.999973</td>\n",
       "    </tr>\n",
       "    <tr>\n",
       "      <th>14</th>\n",
       "      <td>0.999994</td>\n",
       "      <td>1.999989</td>\n",
       "      <td>-1.000011</td>\n",
       "    </tr>\n",
       "  </tbody>\n",
       "</table>\n",
       "</div>"
      ],
      "text/plain": [
       "          x1        x2        x3\n",
       "0   0.000000  0.000000  0.000000\n",
       "1   1.111111  1.900000  0.000000\n",
       "2   0.900000  1.677778 -0.993939\n",
       "3   1.035129  2.018182 -0.855556\n",
       "4   0.981930  1.949641 -1.016192\n",
       "5   1.007395  2.008472 -0.976760\n",
       "6   0.996476  1.991549 -1.005097\n",
       "7   1.001505  2.002234 -0.995966\n",
       "8   0.999304  1.998489 -1.001223\n",
       "9   1.000304  2.000506 -0.999260\n",
       "10  0.999862  1.999717 -1.000267\n",
       "11  1.000061  2.000108 -0.999859\n",
       "12  0.999972  1.999946 -1.000056\n",
       "13  1.000012  2.000022 -0.999973\n",
       "14  0.999994  1.999989 -1.000011"
      ]
     },
     "execution_count": 65,
     "metadata": {},
     "output_type": "execute_result"
    }
   ],
   "source": [
    "df2"
   ]
  },
  {
   "cell_type": "code",
   "execution_count": null,
   "metadata": {},
   "outputs": [],
   "source": []
  }
 ],
 "metadata": {
  "kernelspec": {
   "display_name": "Python 3",
   "language": "python",
   "name": "python3"
  },
  "language_info": {
   "codemirror_mode": {
    "name": "ipython",
    "version": 3
   },
   "file_extension": ".py",
   "mimetype": "text/x-python",
   "name": "python",
   "nbconvert_exporter": "python",
   "pygments_lexer": "ipython3",
   "version": "3.8.6"
  }
 },
 "nbformat": 4,
 "nbformat_minor": 4
}
