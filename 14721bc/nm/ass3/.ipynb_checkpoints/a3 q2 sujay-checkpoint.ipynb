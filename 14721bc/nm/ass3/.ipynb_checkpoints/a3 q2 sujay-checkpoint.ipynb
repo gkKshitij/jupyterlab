{
 "cells": [
  {
   "cell_type": "code",
   "execution_count": 30,
   "metadata": {},
   "outputs": [
    {
     "name": "stdout",
     "output_type": "stream",
     "text": [
      "Lower Triangular\t\tUpper Triangular\n",
      "1\t0\t0\t\t0\t0\t0\t\n",
      "0\t1\t0\t\t0\t3.0\t3.0\t\n",
      "0\t0\t1\t\t0\t0\t2.0\t\n"
     ]
    }
   ],
   "source": [
    "# Python3 Program to decompose\n",
    "# a matrix into lower and\n",
    "# upper traingular matrix\n",
    "MAX = 100\n",
    "\n",
    "\n",
    "def luDecomposition(mat, n):\n",
    "    \n",
    "    lower = [[0 for x in range(n)]\n",
    "             for y in range(n)]\n",
    "    upper = [[0 for x in range(n)]\n",
    "             for y in range(n)]\n",
    "\n",
    "    # Decomposing matrix into Upper\n",
    "    # and Lower triangular matrix\n",
    "    for i in range(n):\n",
    "    \n",
    "        # Upper Triangular\n",
    "        for k in range(i, n):\n",
    "            \n",
    "            # Summation of L(i, j) * U(j, k)\n",
    "            sum = 0\n",
    "            for j in range(i):\n",
    "                sum += (lower[i][j] * upper[j][k])\n",
    "                \n",
    "                # Evaluating U(i, k)\n",
    "                upper[i][k] = mat[i][k] - sum\n",
    "            \n",
    "        # Lower Triangular\n",
    "        for k in range(i, n):\n",
    "            if (i == k):\n",
    "                lower[i][i] = 1 # Diagonal as 1\n",
    "            else:\n",
    "                # Summation of L(k, j) * U(j, i)\n",
    "                sum = 0\n",
    "                for j in range(i):\n",
    "                    sum += (lower[k][j] * upper[j][i])\n",
    "\n",
    "                    # Evaluating L(k, i)\n",
    "                    lower[k][i] = int((mat[k][i] - sum) /upper[i][i])\n",
    "\n",
    "    # setw is for displaying nicely\n",
    "    print(\"Lower Triangular\\t\\tUpper Triangular\")\n",
    "\n",
    "    # Displaying the result :\n",
    "    for i in range(n):\n",
    "        \n",
    "        # Lower\n",
    "        for j in range(n):\n",
    "            print(lower[i][j], end=\"\\t\")\n",
    "        print(\"\", end=\"\\t\")\n",
    "\n",
    "    # Upper\n",
    "        for j in range(n):\n",
    "            print(upper[i][j], end=\"\\t\")\n",
    "        print(\"\")\n",
    "\n",
    "\n",
    "# Driver code\n",
    "mat =[[1.0,2.0,1.0,3.0],\n",
    "             [2.0,3.0,3.0,10.0],\n",
    "             [3.0,-1.0,2.0,13.0]]\n",
    "luDecomposition(mat, 3)\n",
    "\n",
    "# This code is contributed by mits\n"
   ]
  },
  {
   "cell_type": "code",
   "execution_count": 23,
   "metadata": {},
   "outputs": [
    {
     "name": "stdout",
     "output_type": "stream",
     "text": [
      "Lower Triangular\t\tUpper Triangular\n",
      "1\t0\t0\t\t1.0\t2.0\t1.0\t\n",
      "2\t1\t0\t\t0\t-1.0\t1.0\t\n",
      "3\t7\t1\t\t0\t0\t-8.0\t\n"
     ]
    }
   ],
   "source": []
  },
  {
   "cell_type": "code",
   "execution_count": null,
   "metadata": {},
   "outputs": [],
   "source": []
  }
 ],
 "metadata": {
  "kernelspec": {
   "display_name": "Python 3",
   "language": "python",
   "name": "python3"
  },
  "language_info": {
   "codemirror_mode": {
    "name": "ipython",
    "version": 3
   },
   "file_extension": ".py",
   "mimetype": "text/x-python",
   "name": "python",
   "nbconvert_exporter": "python",
   "pygments_lexer": "ipython3",
   "version": "3.7.4"
  }
 },
 "nbformat": 4,
 "nbformat_minor": 2
}
